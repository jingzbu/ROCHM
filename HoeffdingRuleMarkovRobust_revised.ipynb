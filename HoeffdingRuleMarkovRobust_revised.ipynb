{
 "cells": [
  {
   "cell_type": "code",
   "execution_count": 9,
   "metadata": {
    "collapsed": true
   },
   "outputs": [],
   "source": [
    "def HoeffdingRuleMarkovRobust(beta, G_list, H_list, U_list, FlowNum):\n",
    "    \"\"\"\n",
    "    Estimate the K-L divergence and the threshold by use of weak convergence\n",
    "    ----------------\n",
    "    beta: the false alarm rate\n",
    "    G: the gradient\n",
    "    H: the Hessian\n",
    "    U: a sample path of the Gaussian empirical measure\n",
    "    FlowNum: the number of flows\n",
    "    ----------------\n",
    "    \"\"\"\n",
    "    _, SampNum, _ = U_1.shape\n",
    "\n",
    "    # Estimate K-L divergence using 2nd-order Taylor expansion\n",
    "    KL = []\n",
    "    KL_est_list = []\n",
    "    for j in range(0, SampNum):\n",
    "        for G, H, U in zip(G_list, H_list, U_list):\n",
    "            KL_est = (1.0 / sqrt(FlowNum)) * np.dot(G, U[0, j, :]) + \\\n",
    "                     (1.0 / 2) * (1.0 / FlowNum) * \\\n",
    "                      np.dot(np.dot(U[0, j, :], H), U[0, j, :])\n",
    "            KL_est = np.array(KL_est.real)[0]\n",
    "            KL_est_list.append(KL_est)\n",
    "        KL.append(min(KL_est_list))\n",
    "    eta = prctile(KL, 100 * (1 - beta))\n",
    "\n",
    "    return eta"
   ]
  },
  {
   "cell_type": "code",
   "execution_count": 3,
   "metadata": {
    "collapsed": false
   },
   "outputs": [],
   "source": [
    "G_list = [0, 1]\n",
    "H_list = [2, 3]\n",
    "U_list= [4, 5]"
   ]
  },
  {
   "cell_type": "code",
   "execution_count": 8,
   "metadata": {
    "collapsed": false
   },
   "outputs": [
    {
     "name": "stdout",
     "output_type": "stream",
     "text": [
      "(0, 2, 4)\n",
      "(1, 3, 5)\n"
     ]
    }
   ],
   "source": [
    "for G, H, U in zip(G_list, H_list, U_list):\n",
    "    print(G,H,U)"
   ]
  },
  {
   "cell_type": "code",
   "execution_count": null,
   "metadata": {
    "collapsed": true
   },
   "outputs": [],
   "source": []
  }
 ],
 "metadata": {
  "kernelspec": {
   "display_name": "Python 2",
   "language": "python",
   "name": "python2"
  },
  "language_info": {
   "codemirror_mode": {
    "name": "ipython",
    "version": 2
   },
   "file_extension": ".py",
   "mimetype": "text/x-python",
   "name": "python",
   "nbconvert_exporter": "python",
   "pygments_lexer": "ipython2",
   "version": "2.7.11"
  }
 },
 "nbformat": 4,
 "nbformat_minor": 0
}
