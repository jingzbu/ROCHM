{
 "cells": [
  {
   "cell_type": "code",
   "execution_count": 9,
   "metadata": {
    "collapsed": true
   },
   "outputs": [],
   "source": [
    "def HoeffdingRuleMarkovRobust(beta, G_list, H_list, U_list, FlowNum):\n",
    "    \"\"\"\n",
    "    Estimate the K-L divergence and the threshold by use of weak convergence\n",
    "    ----------------\n",
    "    beta: the false alarm rate\n",
    "    G: the gradient\n",
    "    H: the Hessian\n",
    "    U: a sample path of the Gaussian empirical measure\n",
    "    FlowNum: the number of flows\n",
    "    ----------------\n",
    "    \"\"\"\n",
    "    _, SampNum, _ = U_1.shape\n",
    "\n",
    "    # Estimate K-L divergence using 2nd-order Taylor expansion\n",
    "    KL = []\n",
    "    KL_est_list = []\n",
    "    for j in range(0, SampNum):\n",
    "        for G, H, U in zip(G_list, H_list, U_list):\n",
    "            KL_est = (1.0 / sqrt(FlowNum)) * np.dot(G, U[0, j, :]) + \\\n",
    "                     (1.0 / 2) * (1.0 / FlowNum) * \\\n",
    "                      np.dot(np.dot(U[0, j, :], H), U[0, j, :])\n",
    "            KL_est = np.array(KL_est.real)[0]\n",
    "            KL_est_list.append(KL_est)\n",
    "        KL.append(min(KL_est_list))\n",
    "    eta = prctile(KL, 100 * (1 - beta))\n",
    "\n",
    "    return eta"
   ]
  },
  {
   "cell_type": "code",
   "execution_count": 3,
   "metadata": {
    "collapsed": false
   },
   "outputs": [],
   "source": [
    "G_list = [0, 1]\n",
    "H_list = [2, 3]\n",
    "U_list= [4, 5]"
   ]
  },
  {
   "cell_type": "code",
   "execution_count": 8,
   "metadata": {
    "collapsed": false
   },
   "outputs": [
    {
     "name": "stdout",
     "output_type": "stream",
     "text": [
      "(0, 2, 4)\n",
      "(1, 3, 5)\n"
     ]
    }
   ],
   "source": [
    "for G, H, U in zip(G_list, H_list, U_list):\n",
    "    print(G,H,U)"
   ]
  },
  {
   "cell_type": "code",
   "execution_count": 2,
   "metadata": {
    "collapsed": false
   },
   "outputs": [
    {
     "data": {
      "text/plain": [
       "[[0.821676469, 0.0473862551, 0.0149215578, 0.0174964921],\n",
       " [0.0474067799, 0.00598392345, 0.00199277526, 0.0025469459],\n",
       " [0.0149420826, 0.00197038452, 0.000695978624, 0.000848981968],\n",
       " [0.0174554424, 0.00258986148, 0.000847116074, 0.0012389539]]"
      ]
     },
     "execution_count": 2,
     "metadata": {},
     "output_type": "execute_result"
    }
   ],
   "source": [
    "[[  8.21676469e-01,   4.73862551e-02,   1.49215578e-02,   1.74964921e-02],\n",
    " [  4.74067799e-02,   5.98392345e-03,   1.99277526e-03,   2.54694590e-03],\n",
    " [  1.49420826e-02,   1.97038452e-03,   6.95978624e-04,   8.48981968e-04],\n",
    " [  1.74554424e-02,   2.58986148e-03,   8.47116074e-04,   1.23895390e-03]]"
   ]
  },
  {
   "cell_type": "code",
   "execution_count": null,
   "metadata": {
    "collapsed": true
   },
   "outputs": [],
   "source": []
  }
 ],
 "metadata": {
  "kernelspec": {
   "display_name": "Python 2",
   "language": "python",
   "name": "python2"
  },
  "language_info": {
   "codemirror_mode": {
    "name": "ipython",
    "version": 2
   },
   "file_extension": ".py",
   "mimetype": "text/x-python",
   "name": "python",
   "nbconvert_exporter": "python",
   "pygments_lexer": "ipython2",
   "version": "2.7.11"
  }
 },
 "nbformat": 4,
 "nbformat_minor": 0
}
