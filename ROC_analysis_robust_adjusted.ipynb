{
 "cells": [
  {
   "cell_type": "code",
   "execution_count": 1,
   "metadata": {
    "collapsed": false
   },
   "outputs": [],
   "source": [
    "%run util.py"
   ]
  },
  {
   "cell_type": "code",
   "execution_count": 23,
   "metadata": {
    "collapsed": true
   },
   "outputs": [],
   "source": [
    "# N = 2\n",
    "# N = 3\n",
    "N = 4\n",
    "# N = 5"
   ]
  },
  {
   "cell_type": "code",
   "execution_count": 3,
   "metadata": {
    "collapsed": false
   },
   "outputs": [
    {
     "name": "stderr",
     "output_type": "stream",
     "text": [
      "<string>:352: RuntimeWarning: covariance is not positive-semidefinite.\n"
     ]
    }
   ],
   "source": [
    "# mu_0: the initial distribution; 1 x (N**2) \n",
    "# mu: the actual stationary distribution; 1 x (N**2)\n",
    "# mu_1: the estimated stationary distribution \n",
    "# P: the new transition matrix (the old transition matrix is Q)\n",
    "# G_1: the estimate of the gradient\n",
    "# H_1: the estimate of the Hessian\n",
    "# U_1: an estimated sample path of the Gaussian random vector U; length 1000\n",
    "\n",
    "mu_01, mu_1, mu_11, P_11, G_11, H_11, U_11 = ChainGen(N)  # P_11 is the 1st ground truth transition matrix\n",
    "mu_02, mu_2, mu_12, P_12, G_12, H_12, U_12 = ChainGen(N)  # P_12 is the 2nd ground truth transition matrix\n",
    "mu_03, mu_3, mu_13, P_13, G_13, H_13, U_13 = ChainGen(N)  # P_13 is the 3rd ground truth transition matrix\n",
    "\n",
    "mu_04, mu_4, mu_14, P_14, G_14, H_14, U_14 = ChainGen(N)  # P_14 is a different transition matrix for testing purposes\n",
    "\n",
    "saved_data = [mu_01, mu_1, mu_11, P_11, G_11, H_11, U_11, \\\n",
    "              mu_02, mu_2, mu_12, P_12, G_12, H_12, U_12, \\\n",
    "              mu_03, mu_3, mu_13, P_13, G_13, H_13, U_13, \\\n",
    "              mu_04, mu_4, mu_14, P_14, G_14, H_14, U_14]\n",
    "zdump(saved_data, 'P_11_12_13_14_%d.pkz'%N)"
   ]
  },
  {
   "cell_type": "code",
   "execution_count": 24,
   "metadata": {
    "collapsed": true
   },
   "outputs": [],
   "source": [
    "[mu_01, mu_1, mu_11, P_11, G_11, H_11, U_11, \\\n",
    "              mu_02, mu_2, mu_12, P_12, G_12, H_12, U_12, \\\n",
    "              mu_03, mu_3, mu_13, P_13, G_13, H_13, U_13, \\\n",
    "              mu_04, mu_4, mu_14, P_14, G_14, H_14, U_14] = zload('P_11_12_13_14_%d.pkz'%N)"
   ]
  },
  {
   "cell_type": "code",
   "execution_count": 25,
   "metadata": {
    "collapsed": false
   },
   "outputs": [
    {
     "data": {
      "text/plain": [
       "(array([ 0.06900464,  0.03070456,  0.15419969,  0.04224989,  0.02846218,\n",
       "         0.06504666,  0.01788605,  0.06571631,  0.13622412,  0.00534329,\n",
       "         0.00716664,  0.0983213 ,  0.06246783,  0.0760167 ,  0.06780297,\n",
       "         0.07338719]),\n",
       " array([ 0.16267666,  0.0820794 ,  0.00403742,  0.00593493,  0.01163773,\n",
       "         0.08599213,  0.07043419,  0.08963674,  0.03201289,  0.04458358,\n",
       "         0.08698228,  0.08946299,  0.04840113,  0.04504567,  0.09158786,\n",
       "         0.04949439]),\n",
       " array([ 0.04380103,  0.0228977 ,  0.05140238,  0.03731337,  0.0130831 ,\n",
       "         0.04717584,  0.01574197,  0.20365825,  0.02311355,  0.05448575,\n",
       "         0.01486002,  0.04550855,  0.0754168 ,  0.15509987,  0.05596349,\n",
       "         0.14047834]),\n",
       " array([ 0.1237771 ,  0.08290354,  0.02387118,  0.13043653,  0.01225757,\n",
       "         0.01342749,  0.06569677,  0.06882677,  0.08958616,  0.0081474 ,\n",
       "         0.03214787,  0.0167572 ,  0.13536753,  0.05573017,  0.02492281,\n",
       "         0.11614391]))"
      ]
     },
     "execution_count": 25,
     "metadata": {},
     "output_type": "execute_result"
    }
   ],
   "source": [
    "mu_1, mu_2, mu_3, mu_4"
   ]
  },
  {
   "cell_type": "code",
   "execution_count": 26,
   "metadata": {
    "collapsed": true
   },
   "outputs": [],
   "source": [
    "# n_range = range(20, 50, 10)\n",
    "# n_range = range(30, 90, 20)\n",
    "n_range = range(40, 130, 30)\n",
    "# n_range = range(50, 170, 40)"
   ]
  },
  {
   "cell_type": "code",
   "execution_count": 27,
   "metadata": {
    "collapsed": true
   },
   "outputs": [],
   "source": [
    "num_test_sample = 4000\n",
    "beta_list = list(np.arange(0, 0.2, 0.01)[1:-1]) + list(np.arange(0.2, 1.01, 0.05)[:-1])"
   ]
  },
  {
   "cell_type": "code",
   "execution_count": 28,
   "metadata": {
    "collapsed": false
   },
   "outputs": [],
   "source": [
    "eta_wc = {}\n",
    "eta_Sanov = {}\n",
    "test_sample = {}\n",
    "for n in n_range:\n",
    "    # Get sample paths of the Markov chain with length n; \n",
    "    # these paths will be the test set\n",
    "    test_sample[str(n)] = []\n",
    "    for idx in range(int(num_test_sample/4)):\n",
    "        test_sample[str(n)].append(chain(mu_1, P_11, n))  \n",
    "    for idx in range(int(num_test_sample/4)):\n",
    "        test_sample[str(n)].append(chain(mu_2, P_12, n))  \n",
    "    for idx in range(int(num_test_sample/4)):\n",
    "        test_sample[str(n)].append(chain(mu_3, P_13, n))  \n",
    "    for idx in range(int(num_test_sample/4)):\n",
    "        test_sample[str(n)].append(chain(mu_4, P_14, n)) \n",
    "    # Get thresholds for Hoeffding's test corresponding to sample length n    \n",
    "    for beta in beta_list:\n",
    "        key = str(n) + '_' + str(beta)\n",
    "        eta_1 = ThresWeakConvRobust(N, beta, n, mu_01, mu_1, mu_11, P_11, G_11, H_11, U_11, mu_02, mu_2, mu_12, P_12, G_12, H_12, U_12, mu_03, mu_3, mu_13, P_13, G_13, H_13, U_13).ThresCal()\n",
    "        eta_2 = ThresSanov(N, beta, n, mu_01, mu_1, mu_11, P_11, G_11, H_11, U_11).ThresCal()\n",
    "        eta_wc[key] = 1.8 * eta_1\n",
    "        eta_Sanov[key] = eta_2\n",
    "zdump([test_sample, eta_wc, eta_Sanov], 'testSample_threshold_robust_%d_adjusted.pkz'%N)"
   ]
  },
  {
   "cell_type": "code",
   "execution_count": 29,
   "metadata": {
    "collapsed": false
   },
   "outputs": [],
   "source": [
    "test_sample, eta_wc, eta_Sanov = zload('testSample_threshold_robust_%d_adjusted.pkz'%N)"
   ]
  },
  {
   "cell_type": "code",
   "execution_count": 30,
   "metadata": {
    "collapsed": false
   },
   "outputs": [],
   "source": [
    "from __future__ import division\n",
    "\n",
    "mu_1 = np.reshape(mu_1, (N, N))\n",
    "mu_2 = np.reshape(mu_2, (N, N))\n",
    "mu_3 = np.reshape(mu_3, (N, N))\n",
    "\n",
    "TPR_wc = {}\n",
    "FPR_wc = {}\n",
    "TPR_Sanov = {}\n",
    "FPR_Sanov = {}\n",
    "\n",
    "for n in n_range:\n",
    "    for beta in beta_list:\n",
    "        TP_wc = 0\n",
    "        FP_wc = 0\n",
    "        TP_Sanov = 0\n",
    "        FP_Sanov = 0\n",
    "        key = str(n) + '_' + str(beta)\n",
    "        for idx in range(num_test_sample):\n",
    "            KL1 = KL_est(test_sample[str(n)][idx], mu_1)\n",
    "            KL2 = KL_est(test_sample[str(n)][idx], mu_2)\n",
    "            KL3 = KL_est(test_sample[str(n)][idx], mu_3)\n",
    "            KL = min([KL1, KL2, KL3])\n",
    "            if idx > 3000 and KL > eta_wc[key]:\n",
    "                TP_wc += 1\n",
    "            if idx < 3000 and KL > eta_wc[key]:\n",
    "                FP_wc += 1\n",
    "            if idx > 3000 and KL > eta_Sanov[key]:\n",
    "                TP_Sanov += 1\n",
    "            if idx < 3000 and KL > eta_Sanov[key]:\n",
    "                FP_Sanov += 1\n",
    "        TPR_wc[key] = TP_wc / 1000\n",
    "        FPR_wc[key] = FP_wc / 3000\n",
    "        TPR_Sanov[key] = TP_Sanov / 1000\n",
    "        FPR_Sanov[key] = FP_Sanov / 3000\n",
    "        \n",
    "zdump([TPR_wc, FPR_wc, TPR_Sanov, FPR_Sanov], 'ROCpt_%d_robust_adjusted.pkz'%N)"
   ]
  },
  {
   "cell_type": "code",
   "execution_count": 31,
   "metadata": {
    "collapsed": false
   },
   "outputs": [],
   "source": [
    "TPR_wc, FPR_wc, TPR_Sanov, FPR_Sanov = zload('ROCpt_%d_robust_adjusted.pkz'%N)"
   ]
  },
  {
   "cell_type": "code",
   "execution_count": 32,
   "metadata": {
    "collapsed": true
   },
   "outputs": [],
   "source": [
    "TPR_wc_list = {}\n",
    "FPR_wc_list = {}\n",
    "TPR_Sanov_list = {}\n",
    "FPR_Sanov_list = {}\n",
    "        \n",
    "for n in n_range:\n",
    "    TPR_wc_list[str(n)] = []\n",
    "    FPR_wc_list[str(n)] = []\n",
    "    TPR_Sanov_list[str(n)] = []\n",
    "    FPR_Sanov_list[str(n)] = []\n",
    "    TPR_wc_list[str(n)].append(0)\n",
    "    FPR_wc_list[str(n)].append(0)\n",
    "    TPR_Sanov_list[str(n)].append(0)\n",
    "    FPR_Sanov_list[str(n)].append(0)\n",
    "    for beta in beta_list:\n",
    "        key = str(n) + '_' + str(beta)\n",
    "        TPR_wc_list[str(n)].append(TPR_wc[key])\n",
    "        FPR_wc_list[str(n)].append(FPR_wc[key])\n",
    "        TPR_Sanov_list[str(n)].append(TPR_Sanov[key])\n",
    "        FPR_Sanov_list[str(n)].append(FPR_Sanov[key])\n",
    "\n",
    "    TPR_wc_list[str(n)].append(1)\n",
    "    FPR_wc_list[str(n)].append(1)\n",
    "    TPR_Sanov_list[str(n)].append(1)\n",
    "    FPR_Sanov_list[str(n)].append(1)"
   ]
  },
  {
   "cell_type": "code",
   "execution_count": 33,
   "metadata": {
    "collapsed": false
   },
   "outputs": [],
   "source": [
    "import matplotlib.pyplot as plt\n",
    "import pylab\n",
    "from pylab import *\n",
    "\n",
    "ROC_WC_list = []\n",
    "ROC_Sanov_list = []\n",
    "style_list = ['bo-', 'gs-', 'r+-', 'c<-', 'm>-', 'y^-']\n",
    "idx = 0\n",
    "\n",
    "pylab.xlim(-0.1, 1.15)\n",
    "pylab.ylim(-0.1, 1.1)\n",
    "\n",
    "for n in n_range:\n",
    "    ROC_WC_list.append(plt.plot(FPR_wc_list[str(n)], TPR_wc_list[str(n)], style_list[idx]))\n",
    "    ROC_Sanov_list.append(plt.plot(FPR_Sanov_list[str(n)], TPR_Sanov_list[str(n)], style_list[idx+1]))\n",
    "    idx += 2\n",
    "\n",
    "legend_list_1 = []\n",
    "legend_list_2 = []\n",
    "legend_list_1.append(ROC_WC_list)\n",
    "legend_list_1.append(ROC_Sanov_list)\n",
    "legend_list_1 = list(np.array(legend_list_1).ravel())\n",
    "\n",
    "for n in n_range:\n",
    "    legend_list_2.append(\"Use threshold $\\eta_n^{wc}$; $n=%d$\"%n)\n",
    "for n in n_range:\n",
    "    legend_list_2.append(\"Use threshold $\\eta_n^{sv}$; $n=%d$\"%n)\n",
    "plt.legend(legend_list_1, legend_list_2, loc=4)\n",
    "plt.xlabel('False Positive Rate')\n",
    "plt.ylabel('True Positive Rate')\n",
    "plt.grid()\n",
    "\n",
    "savefig('ROC_%d_robust_adjusted.eps'%N)\n",
    "plt.show()"
   ]
  },
  {
   "cell_type": "code",
   "execution_count": 13,
   "metadata": {
    "collapsed": false
   },
   "outputs": [
    {
     "data": {
      "text/plain": [
       "-1"
      ]
     },
     "execution_count": 13,
     "metadata": {},
     "output_type": "execute_result"
    }
   ],
   "source": [
    "min([1, 2, -1])"
   ]
  },
  {
   "cell_type": "code",
   "execution_count": null,
   "metadata": {
    "collapsed": true
   },
   "outputs": [],
   "source": []
  }
 ],
 "metadata": {
  "kernelspec": {
   "display_name": "Python 2",
   "language": "python",
   "name": "python2"
  },
  "language_info": {
   "codemirror_mode": {
    "name": "ipython",
    "version": 2
   },
   "file_extension": ".py",
   "mimetype": "text/x-python",
   "name": "python",
   "nbconvert_exporter": "python",
   "pygments_lexer": "ipython2",
   "version": "2.7.11"
  }
 },
 "nbformat": 4,
 "nbformat_minor": 0
}
