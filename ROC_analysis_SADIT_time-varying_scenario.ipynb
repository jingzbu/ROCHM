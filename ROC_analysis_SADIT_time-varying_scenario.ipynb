{
 "cells": [
  {
   "cell_type": "code",
   "execution_count": 1,
   "metadata": {
    "collapsed": true
   },
   "outputs": [],
   "source": [
    "%run util.py"
   ]
  },
  {
   "cell_type": "code",
   "execution_count": 2,
   "metadata": {
    "collapsed": true
   },
   "outputs": [],
   "source": [
    "mu_1 = np.array([[  9.76563963e-01,   9.26663961e-03,   1.17423123e-03,   1.09599288e-03],\n",
    " [  9.26663961e-03,   3.62309861e-04,   0.00000000e+00,   0.00000000e+00],\n",
    " [  1.17423123e-03,   0.00000000e+00,   0.00000000e+00,   0.00000000e+00],\n",
    " [  1.09599288e-03,   0.00000000e+00,   0.00000000e+00,   0.00000000e+00]])\n",
    "\n",
    "mu_2 = np.array([[  8.82479054e-01,   3.59594151e-02,   9.34434023e-03,   9.20135770e-03],\n",
    " [  3.50650286e-02,   3.17654410e-03,   8.57523051e-04,   1.94094667e-03],\n",
    " [  9.13687135e-03,   6.40838327e-04,   0.00000000e+00,   4.24153603e-04],\n",
    " [  1.05106819e-02,   1.05577609e-03,   0.00000000e+00,   2.07468880e-04]])\n",
    "\n",
    "mu_3 = np.array([[  8.38365433e-01,   4.36374677e-02,   1.26350381e-02,   1.68743165e-02],\n",
    " [  4.23050597e-02,   3.14894234e-03,   1.99611573e-03,   2.87760503e-03],\n",
    " [  1.42005833e-02,   1.32991169e-03,   1.13497472e-03,   2.15285253e-04],\n",
    " [  1.68564646e-02,   2.21140099e-03,   1.11462644e-03,   1.09677455e-03]])\n",
    "\n",
    "mu_4 = np.array([[ 0.7229253,   0.07450191,  0.02445054,  0.02630117],\n",
    " [ 0.07119722,  0.00939726,  0.00381481,  0.00411926],\n",
    " [ 0.02472057,  0.00245483,  0.00108994,  0.00190874],\n",
    " [ 0.02933583,  0.00217454,  0.00081879,  0.00078929]])\n",
    "\n",
    "mu_5 = np.array([[  9.31135814e-01,   2.36429359e-02,   5.46190441e-03,   3.85519475e-03],\n",
    " [  2.32207755e-02,   1.43867885e-03,   7.09669081e-04,   2.54129606e-04],\n",
    " [  5.91744388e-03,   2.54129606e-04,   0.00000000e+00,   0.00000000e+00],\n",
    " [  3.60106514e-03,   5.08259212e-04,   0.00000000e+00,   0.00000000e+00]])\n",
    "\n",
    "mu_6 = np.array([[ 0.48937847,  0.11348017,  0.03633976,  0.05850171],\n",
    " [ 0.10844271,  0.02838652,  0.00976649,  0.014097  ],\n",
    " [ 0.0393057,   0.00583754,  0.0043552,   0.00528413],\n",
    " [ 0.0603397,   0.01317275,  0.00450693,  0.00880523]])\n",
    "\n",
    "mu_ano = np.array([[ 0.88937847,  0.01348017,  0.03633976,  0.05850171],\n",
    " [ 0.30844271,  0.02838652,  0.00976649,  0.014097  ],\n",
    " [ 0.0393057,   0.70583754,  0.0043552,   0.00528413],\n",
    " [ 0.1603397,   0.01317275,  0.00450693,  0.20880523]])"
   ]
  },
  {
   "cell_type": "code",
   "execution_count": 3,
   "metadata": {
    "collapsed": true
   },
   "outputs": [],
   "source": [
    "mu_0 = np.array([[  8.21676469e-01,   4.73862551e-02,   1.49215578e-02,   1.74964921e-02],\n",
    " [  4.74067799e-02,   5.98392345e-03,   1.99277526e-03,   2.54694590e-03],\n",
    " [  1.49420826e-02,   1.97038452e-03,   6.95978624e-04,   8.48981968e-04],\n",
    " [  1.74554424e-02,  2.58986148e-03,   8.47116074e-04,   1.23895390e-03]])"
   ]
  },
  {
   "cell_type": "code",
   "execution_count": 4,
   "metadata": {
    "collapsed": false
   },
   "outputs": [
    {
     "name": "stderr",
     "output_type": "stream",
     "text": [
      "<string>:372: RuntimeWarning: covariance is not positive-semidefinite.\n"
     ]
    }
   ],
   "source": [
    "N, _ = np.shape(mu_1)\n",
    "assert(N == _)\n",
    "\n",
    "mu_1 = mu_adjust(mu_1)\n",
    "mu_2 = mu_adjust(mu_2)\n",
    "mu_3 = mu_adjust(mu_3)\n",
    "mu_4 = mu_adjust(mu_4)\n",
    "mu_5 = mu_adjust(mu_5)\n",
    "mu_6 = mu_adjust(mu_6)\n",
    "\n",
    "mu_7 = mu_adjust(mu_ano)  # anomaly\n",
    "\n",
    "mu_0 = mu_adjust(mu_0)\n",
    "\n",
    "mu_01, mu1, mu_11, P1, G_11, H_11, U_11 = ChainGen_(mu_1)\n",
    "mu_02, mu2, mu_12, P2, G_12, H_12, U_12 = ChainGen_(mu_2)\n",
    "mu_03, mu3, mu_13, P3, G_13, H_13, U_13 = ChainGen_(mu_3)\n",
    "mu_04, mu4, mu_14, P4, G_14, H_14, U_14 = ChainGen_(mu_4)\n",
    "mu_05, mu5, mu_15, P5, G_15, H_15, U_15 = ChainGen_(mu_5)\n",
    "mu_06, mu6, mu_16, P6, G_16, H_16, U_16 = ChainGen_(mu_6)\n",
    "\n",
    "mu_07, mu7, mu_17, P7, G_17, H_17, U_17 = ChainGen_(mu_7)\n",
    "\n",
    "mu_00, mu0, mu_10, P0, G_10, H_10, U_10 = ChainGen_(mu_0)\n",
    "\n",
    "zdump([mu1, mu2, mu3, mu4, mu5, mu6, mu7, \\\n",
    "       mu_11, mu_12, mu_13, mu_14, mu_15, mu_16, mu_17, \\\n",
    "       P1, P2, P3, P4, P5, P6, P7, \\\n",
    "       mu_10, G_10, H_10, U_10], 'SADIT_PLs.pkz')"
   ]
  },
  {
   "cell_type": "code",
   "execution_count": 5,
   "metadata": {
    "collapsed": false
   },
   "outputs": [],
   "source": [
    "mu1, mu2, mu3, mu4, mu5, mu6, mu7, \\\n",
    "mu_11, mu_12, mu_13, mu_14, mu_15, mu_16, mu_17, \\\n",
    "P1, P2, P3, P4, P5, P6, P7, \\\n",
    "mu_10, G_10, H_10, U_10 = zload('SADIT_PLs.pkz')"
   ]
  },
  {
   "cell_type": "code",
   "execution_count": 6,
   "metadata": {
    "collapsed": false
   },
   "outputs": [],
   "source": [
    "n_range = [40, 70, 100]\n",
    "num_test_sample = 700\n",
    "beta_list = list(np.arange(0, 0.2, 0.02)[1:-1]) + list(np.arange(0.2, 1.01, 0.02)[:-1])"
   ]
  },
  {
   "cell_type": "code",
   "execution_count": 7,
   "metadata": {
    "collapsed": false
   },
   "outputs": [],
   "source": [
    "eta_wc = {}\n",
    "eta_Sanov = {}\n",
    "test_sample = {}\n",
    "for n in n_range:\n",
    "    # Get sample paths of the Markov chain with length n; \n",
    "    # these paths will be the test set\n",
    "    test_sample[str(n)] = []\n",
    "    for idx in range(int(num_test_sample/7)):\n",
    "        test_sample[str(n)].append(chain(mu_11, P1, n))  \n",
    "    for idx in range(int(num_test_sample/7)):\n",
    "        test_sample[str(n)].append(chain(mu_12, P2, n))  \n",
    "    for idx in range(int(num_test_sample/7)):\n",
    "        test_sample[str(n)].append(chain(mu_13, P3, n))  \n",
    "    for idx in range(int(num_test_sample/7)):\n",
    "        test_sample[str(n)].append(chain(mu_14, P4, n)) \n",
    "    for idx in range(int(num_test_sample/7)):\n",
    "        test_sample[str(n)].append(chain(mu_15, P5, n))  \n",
    "    for idx in range(int(num_test_sample/7)):\n",
    "        test_sample[str(n)].append(chain(mu_16, P6, n)) \n",
    "    for idx in range(int(num_test_sample/7)):\n",
    "        test_sample[str(n)].append(chain(mu_17, P7, n)) \n",
    "    # Get thresholds for Hoeffding's test corresponding to sample length n    \n",
    "    for beta in beta_list:\n",
    "        key = str(n) + '_' + str(beta)\n",
    "        G_list = [G_10]\n",
    "        H_list = [H_10]\n",
    "        U_list = [U_10]\n",
    "        eta_1 = HoeffdingRuleMarkovRobust_(beta, G_list, H_list, U_list, n)\n",
    "        eta_2 =  - log(beta) / n\n",
    "        eta_wc[key] = eta_1\n",
    "        eta_Sanov[key] = eta_2\n",
    "zdump([test_sample, eta_wc, eta_Sanov], 'testSample_threshold_robust_%d_SADIT.pkz'%N)"
   ]
  },
  {
   "cell_type": "code",
   "execution_count": 8,
   "metadata": {
    "collapsed": false
   },
   "outputs": [],
   "source": [
    "test_sample, eta_wc, eta_Sanov = zload('testSample_threshold_robust_%d_SADIT.pkz'%N)"
   ]
  },
  {
   "cell_type": "code",
   "execution_count": 9,
   "metadata": {
    "collapsed": false
   },
   "outputs": [],
   "source": [
    "from __future__ import division\n",
    "\n",
    "TPR_wc = {}\n",
    "FPR_wc = {}\n",
    "TPR_Sanov = {}\n",
    "FPR_Sanov = {}\n",
    "\n",
    "for n in n_range:\n",
    "    for beta in beta_list:\n",
    "        TP_wc = 0\n",
    "        FP_wc = 0\n",
    "        TP_Sanov = 0\n",
    "        FP_Sanov = 0        \n",
    "        key = str(n) + '_' + str(beta)\n",
    "        for idx in range(num_test_sample):\n",
    "            KL1 = KL_est(test_sample[str(n)][idx], mu_11)\n",
    "            KL2 = KL_est(test_sample[str(n)][idx], mu_12)\n",
    "            KL3 = KL_est(test_sample[str(n)][idx], mu_13)\n",
    "            KL4 = KL_est(test_sample[str(n)][idx], mu_14)\n",
    "            KL5 = KL_est(test_sample[str(n)][idx], mu_15)\n",
    "            KL6 = KL_est(test_sample[str(n)][idx], mu_16)\n",
    "            KL = min([KL1, KL2, KL3, KL4, KL5, KL6])\n",
    "            if idx > 600 and KL > eta_wc[key]:\n",
    "                TP_wc += 1\n",
    "            if idx < 600 and KL > eta_wc[key]:\n",
    "                FP_wc += 1\n",
    "            if idx > 600 and KL > eta_Sanov[key]:\n",
    "                TP_Sanov += 1\n",
    "            if idx < 600 and KL > eta_Sanov[key]:\n",
    "                FP_Sanov += 1\n",
    "        TPR_wc[key] = TP_wc / 100\n",
    "        FPR_wc[key] = FP_wc / 600\n",
    "        TPR_Sanov[key] = TP_Sanov / 100\n",
    "        FPR_Sanov[key] = FP_Sanov / 600\n",
    "        \n",
    "zdump([TPR_wc, FPR_wc, TPR_Sanov, FPR_Sanov], 'ROCpt_%d_robust_adjusted_SADIT.pkz'%N)"
   ]
  },
  {
   "cell_type": "code",
   "execution_count": 10,
   "metadata": {
    "collapsed": true
   },
   "outputs": [],
   "source": [
    "TPR_wc, FPR_wc, TPR_Sanov, FPR_Sanov = zload('ROCpt_%d_robust_adjusted_SADIT.pkz'%N)"
   ]
  },
  {
   "cell_type": "code",
   "execution_count": 11,
   "metadata": {
    "collapsed": false
   },
   "outputs": [],
   "source": [
    "TPR_wc_list = {}\n",
    "FPR_wc_list = {}\n",
    "TPR_Sanov_list = {}\n",
    "FPR_Sanov_list = {}\n",
    "        \n",
    "for n in n_range:\n",
    "    TPR_wc_list[str(n)] = []\n",
    "    FPR_wc_list[str(n)] = []\n",
    "    TPR_Sanov_list[str(n)] = []\n",
    "    FPR_Sanov_list[str(n)] = []\n",
    "    TPR_wc_list[str(n)].append(0)\n",
    "    FPR_wc_list[str(n)].append(0)\n",
    "    TPR_Sanov_list[str(n)].append(0)\n",
    "    FPR_Sanov_list[str(n)].append(0)\n",
    "    for beta in beta_list:\n",
    "        key = str(n) + '_' + str(beta)\n",
    "        TPR_wc_list[str(n)].append(TPR_wc[key])\n",
    "        FPR_wc_list[str(n)].append(FPR_wc[key])\n",
    "        TPR_Sanov_list[str(n)].append(TPR_Sanov[key])\n",
    "        FPR_Sanov_list[str(n)].append(FPR_Sanov[key])\n",
    "\n",
    "    TPR_wc_list[str(n)].append(1)\n",
    "    FPR_wc_list[str(n)].append(1)\n",
    "    TPR_Sanov_list[str(n)].append(1)\n",
    "    FPR_Sanov_list[str(n)].append(1)"
   ]
  },
  {
   "cell_type": "code",
   "execution_count": 12,
   "metadata": {
    "collapsed": false
   },
   "outputs": [],
   "source": [
    "import matplotlib.pyplot as plt\n",
    "import pylab\n",
    "from pylab import *\n",
    "\n",
    "ROC_WC_list = []\n",
    "# ROC_Sanov_list = []\n",
    "style_list = ['bo-', 'gs-', 'r+-', 'c<-', 'm>-', 'y^-']\n",
    "idx = 0\n",
    "\n",
    "pylab.xlim(-0.1, 1.15)\n",
    "pylab.ylim(-0.1, 1.1)\n",
    "\n",
    "for n in n_range:\n",
    "    ROC_WC_list.append(plt.plot(FPR_wc_list[str(n)], TPR_wc_list[str(n)], style_list[idx]))\n",
    "#     ROC_Sanov_list.append(plt.plot(FPR_Sanov_list[str(n)], TPR_Sanov_list[str(n)], style_list[idx+1]))\n",
    "    idx += 2\n",
    "\n",
    "legend_list_1 = []\n",
    "legend_list_2 = []\n",
    "legend_list_1.append(ROC_WC_list)\n",
    "# legend_list_1.append(ROC_Sanov_list)\n",
    "legend_list_1 = list(np.array(legend_list_1).ravel())\n",
    "\n",
    "for n in n_range:\n",
    "    legend_list_2.append(\"Use threshold $\\eta_n^{wc}$; $n=%d$\"%n)\n",
    "# for n in n_range:\n",
    "#     legend_list_2.append(\"Use threshold $\\eta_n^{sv}$; $n=%d$\"%n)\n",
    "plt.legend(legend_list_1, legend_list_2, loc=4)\n",
    "plt.xlabel('False Positive Rate')\n",
    "plt.ylabel('True Positive Rate')\n",
    "plt.grid()\n",
    "\n",
    "savefig('ROC_%d_robust_adjusted_SADIT.eps'%N)\n",
    "plt.show()"
   ]
  },
  {
   "cell_type": "code",
   "execution_count": null,
   "metadata": {
    "collapsed": true
   },
   "outputs": [],
   "source": []
  }
 ],
 "metadata": {
  "kernelspec": {
   "display_name": "Python 2",
   "language": "python",
   "name": "python2"
  },
  "language_info": {
   "codemirror_mode": {
    "name": "ipython",
    "version": 2
   },
   "file_extension": ".py",
   "mimetype": "text/x-python",
   "name": "python",
   "nbconvert_exporter": "python",
   "pygments_lexer": "ipython2",
   "version": "2.7.11"
  }
 },
 "nbformat": 4,
 "nbformat_minor": 0
}
