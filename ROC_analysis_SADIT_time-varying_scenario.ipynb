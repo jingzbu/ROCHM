{
 "cells": [
  {
   "cell_type": "code",
   "execution_count": 1,
   "metadata": {
    "collapsed": true
   },
   "outputs": [],
   "source": [
    "%run util.py"
   ]
  },
  {
   "cell_type": "code",
   "execution_count": 2,
   "metadata": {
    "collapsed": false
   },
   "outputs": [
    {
     "name": "stderr",
     "output_type": "stream",
     "text": [
      "<string>:372: RuntimeWarning: covariance is not positive-semidefinite.\n"
     ]
    }
   ],
   "source": [
    "N = 4\n",
    "mu_07, mu_7, mu_17, P_17, G_17, H_17, U_17 = ChainGen(N)"
   ]
  },
  {
   "cell_type": "code",
   "execution_count": 3,
   "metadata": {
    "collapsed": true
   },
   "outputs": [],
   "source": [
    "mu_1 = np.array([[  9.76563963e-01,   9.26663961e-03,   1.17423123e-03,   1.09599288e-03],\n",
    " [  9.26663961e-03,   3.62309861e-04,   0.00000000e+00,   0.00000000e+00],\n",
    " [  1.17423123e-03,   0.00000000e+00,   0.00000000e+00,   0.00000000e+00],\n",
    " [  1.09599288e-03,   0.00000000e+00,   0.00000000e+00,   0.00000000e+00]])"
   ]
  },
  {
   "cell_type": "code",
   "execution_count": 4,
   "metadata": {
    "collapsed": false
   },
   "outputs": [],
   "source": [
    "mu_2 = np.array([[  8.82479054e-01,   3.59594151e-02,   9.34434023e-03,   9.20135770e-03],\n",
    " [  3.50650286e-02,   3.17654410e-03,   8.57523051e-04,   1.94094667e-03],\n",
    " [  9.13687135e-03,   6.40838327e-04,   0.00000000e+00,   4.24153603e-04],\n",
    " [  1.05106819e-02,   1.05577609e-03,   0.00000000e+00,   2.07468880e-04]])"
   ]
  },
  {
   "cell_type": "code",
   "execution_count": 5,
   "metadata": {
    "collapsed": false
   },
   "outputs": [],
   "source": [
    "mu_3 = np.array([[  8.38365433e-01,   4.36374677e-02,   1.26350381e-02,   1.68743165e-02],\n",
    " [  4.23050597e-02,   3.14894234e-03,   1.99611573e-03,   2.87760503e-03],\n",
    " [  1.42005833e-02,   1.32991169e-03,   1.13497472e-03,   2.15285253e-04],\n",
    " [  1.68564646e-02,   2.21140099e-03,   1.11462644e-03,   1.09677455e-03]])"
   ]
  },
  {
   "cell_type": "code",
   "execution_count": 6,
   "metadata": {
    "collapsed": true
   },
   "outputs": [],
   "source": [
    "mu_4 = np.array([[ 0.7229253,   0.07450191,  0.02445054,  0.02630117],\n",
    " [ 0.07119722,  0.00939726,  0.00381481,  0.00411926],\n",
    " [ 0.02472057,  0.00245483,  0.00108994,  0.00190874],\n",
    " [ 0.02933583,  0.00217454,  0.00081879,  0.00078929]])"
   ]
  },
  {
   "cell_type": "code",
   "execution_count": 7,
   "metadata": {
    "collapsed": true
   },
   "outputs": [],
   "source": [
    "mu_5 = np.array([[  9.31135814e-01,   2.36429359e-02,   5.46190441e-03,   3.85519475e-03],\n",
    " [  2.32207755e-02,   1.43867885e-03,   7.09669081e-04,   2.54129606e-04],\n",
    " [  5.91744388e-03,   2.54129606e-04,   0.00000000e+00,   0.00000000e+00],\n",
    " [  3.60106514e-03,   5.08259212e-04,   0.00000000e+00,   0.00000000e+00]])"
   ]
  },
  {
   "cell_type": "code",
   "execution_count": 8,
   "metadata": {
    "collapsed": true
   },
   "outputs": [],
   "source": [
    "mu_6 = np.array([[ 0.48937847,  0.11348017,  0.03633976,  0.05850171],\n",
    " [ 0.10844271,  0.02838652,  0.00976649,  0.014097  ],\n",
    " [ 0.0393057,   0.00583754,  0.0043552,   0.00528413],\n",
    " [ 0.0603397,   0.01317275,  0.00450693,  0.00880523]])"
   ]
  },
  {
   "cell_type": "code",
   "execution_count": 9,
   "metadata": {
    "collapsed": true
   },
   "outputs": [],
   "source": [
    "mu = np.array([[  8.21676469e-01,   4.73862551e-02,   1.49215578e-02,   1.74964921e-02],\n",
    " [  4.74067799e-02,   5.98392345e-03,   1.99277526e-03,   2.54694590e-03],\n",
    " [  1.49420826e-02,   1.97038452e-03,   6.95978624e-04,   8.48981968e-04],\n",
    " [  1.74554424e-02,  2.58986148e-03,   8.47116074e-04,   1.23895390e-03]])"
   ]
  },
  {
   "cell_type": "code",
   "execution_count": 10,
   "metadata": {
    "collapsed": true
   },
   "outputs": [],
   "source": [
    "zdump([mu_1, mu_2, mu_3, mu_4, mu_5, mu_6, mu], 'SADIT_PLs.pkz')"
   ]
  },
  {
   "cell_type": "code",
   "execution_count": 11,
   "metadata": {
    "collapsed": false
   },
   "outputs": [],
   "source": [
    "mu_1, mu_2, mu_3, mu_4, mu_5, mu_6, mu = zload('SADIT_PLs.pkz')"
   ]
  },
  {
   "cell_type": "code",
   "execution_count": 12,
   "metadata": {
    "collapsed": false
   },
   "outputs": [
    {
     "data": {
      "text/plain": [
       "array([[  9.76563963e-01,   9.26663961e-03,   1.17423123e-03,\n",
       "          1.09599288e-03],\n",
       "       [  9.26663961e-03,   3.62309861e-04,   0.00000000e+00,\n",
       "          0.00000000e+00],\n",
       "       [  1.17423123e-03,   0.00000000e+00,   0.00000000e+00,\n",
       "          0.00000000e+00],\n",
       "       [  1.09599288e-03,   0.00000000e+00,   0.00000000e+00,\n",
       "          0.00000000e+00]])"
      ]
     },
     "execution_count": 12,
     "metadata": {},
     "output_type": "execute_result"
    }
   ],
   "source": [
    "mu_1"
   ]
  },
  {
   "cell_type": "code",
   "execution_count": 13,
   "metadata": {
    "collapsed": false
   },
   "outputs": [],
   "source": [
    "# Get the estimate of Q_11\n",
    "Q_11 = Q_est(mu_1)\n",
    "\n",
    "# Get the estimate of P_11\n",
    "P_11 = P_est(Q_11)\n",
    "\n",
    "# Get the estimate of Q_12\n",
    "Q_12 = Q_est(mu_2)\n",
    "\n",
    "# Get the estimate of P_12\n",
    "P_12 = P_est(Q_12)\n",
    "\n",
    "# Get the estimate of Q_13\n",
    "Q_13 = Q_est(mu_3)\n",
    "\n",
    "# Get the estimate of P_13\n",
    "P_13 = P_est(Q_13)\n",
    "\n",
    "# Get the estimate of Q_14\n",
    "Q_14 = Q_est(mu_4)\n",
    "\n",
    "# Get the estimate of P_14\n",
    "P_14 = P_est(Q_14)\n",
    "\n",
    "# Get the estimate of Q_15\n",
    "Q_15 = Q_est(mu_5)\n",
    "\n",
    "# Get the estimate of P_15\n",
    "P_15 = P_est(Q_15)\n",
    "\n",
    "# Get the estimate of Q_16\n",
    "Q_16 = Q_est(mu_6)\n",
    "\n",
    "# Get the estimate of P_16\n",
    "P_16 = P_est(Q_16)\n",
    "\n",
    "# Get the estimate of Q_1\n",
    "Q_1 = Q_est(mu)\n",
    "\n",
    "# Get the estimate of P_1\n",
    "P_1 = P_est(Q_1)"
   ]
  },
  {
   "cell_type": "code",
   "execution_count": 14,
   "metadata": {
    "collapsed": false
   },
   "outputs": [],
   "source": [
    "SampNum = 1000\n",
    "\n",
    "# Get the estimate of the gradient\n",
    "G_11 = G_est(Q_11)\n",
    "\n",
    "# Get the estimate of the Hessian\n",
    "H_11 = H_est(mu_1)\n",
    "\n",
    "# Get the estimate of the covariance matrix\n",
    "Sigma_11 = Sigma_est(P_11, mu_1)\n",
    "\n",
    "# Get an estimated sample path of U\n",
    "U_11 = U_est(Sigma_11, SampNum)\n",
    "\n",
    "# Get the estimate of the gradient\n",
    "G_12 = G_est(Q_12)\n",
    "\n",
    "# Get the estimate of the Hessian\n",
    "H_12 = H_est(mu_2)\n",
    "\n",
    "# Get the estimate of the covariance matrix\n",
    "Sigma_12 = Sigma_est(P_12, mu_2)\n",
    "\n",
    "# Get an estimated sample path of U\n",
    "U_12 = U_est(Sigma_12, SampNum)\n",
    "\n",
    "# Get the estimate of the gradient\n",
    "G_13 = G_est(Q_13)\n",
    "\n",
    "# Get the estimate of the Hessian\n",
    "H_13 = H_est(mu_3)\n",
    "\n",
    "# Get the estimate of the covariance matrix\n",
    "Sigma_13 = Sigma_est(P_13, mu_3)\n",
    "\n",
    "# Get an estimated sample path of U\n",
    "U_13 = U_est(Sigma_13, SampNum)\n",
    "\n",
    "# Get the estimate of the gradient\n",
    "G_14 = G_est(Q_14)\n",
    "\n",
    "# Get the estimate of the Hessian\n",
    "H_14 = H_est(mu_4)\n",
    "\n",
    "# Get the estimate of the covariance matrix\n",
    "Sigma_14 = Sigma_est(P_14, mu_4)\n",
    "\n",
    "# Get an estimated sample path of U\n",
    "U_14 = U_est(Sigma_14, SampNum)\n",
    "\n",
    "# Get the estimate of the gradient\n",
    "G_15 = G_est(Q_15)\n",
    "\n",
    "# Get the estimate of the Hessian\n",
    "H_15 = H_est(mu_5)\n",
    "\n",
    "# Get the estimate of the covariance matrix\n",
    "Sigma_15 = Sigma_est(P_15, mu_5)\n",
    "\n",
    "# Get an estimated sample path of U\n",
    "U_15 = U_est(Sigma_15, SampNum)\n",
    "\n",
    "# Get the estimate of the gradient\n",
    "G_16 = G_est(Q_16)\n",
    "\n",
    "# Get the estimate of the Hessian\n",
    "H_16 = H_est(mu_6)\n",
    "\n",
    "# Get the estimate of the covariance matrix\n",
    "Sigma_16 = Sigma_est(P_16, mu_6)\n",
    "\n",
    "# Get an estimated sample path of U\n",
    "U_16 = U_est(Sigma_16, SampNum)\n",
    "\n",
    "# Get the estimate of the gradient\n",
    "G_1 = G_est(Q_1)\n",
    "\n",
    "# Get the estimate of the Hessian\n",
    "H_1 = H_est(mu)\n",
    "\n",
    "# Get the estimate of the covariance matrix\n",
    "Sigma_1 = Sigma_est(P_1, mu)\n",
    "\n",
    "# Get an estimated sample path of U\n",
    "U_1 = U_est(Sigma_1, SampNum)"
   ]
  },
  {
   "cell_type": "code",
   "execution_count": 15,
   "metadata": {
    "collapsed": false
   },
   "outputs": [],
   "source": [
    "n_range = [40]\n",
    "num_test_sample = 8000\n",
    "beta_list = list(np.arange(0, 0.2, 0.01)[1:-1]) + list(np.arange(0.2, 1.01, 0.05)[:-1])"
   ]
  },
  {
   "cell_type": "code",
   "execution_count": 16,
   "metadata": {
    "collapsed": false
   },
   "outputs": [],
   "source": [
    "eta_wc = {}\n",
    "eta_Sanov = {}\n",
    "test_sample = {}\n",
    "for n in n_range:\n",
    "    # Get sample paths of the Markov chain with length n; \n",
    "    # these paths will be the test set\n",
    "    test_sample[str(n)] = []\n",
    "    for idx in range(int(num_test_sample/8)):\n",
    "        test_sample[str(n)].append(chain(mu_1, P_11, n))  \n",
    "    for idx in range(int(num_test_sample/8)):\n",
    "        test_sample[str(n)].append(chain(mu_2, P_12, n))  \n",
    "    for idx in range(int(num_test_sample/8)):\n",
    "        test_sample[str(n)].append(chain(mu_3, P_13, n))  \n",
    "    for idx in range(int(num_test_sample/8)):\n",
    "        test_sample[str(n)].append(chain(mu_4, P_14, n)) \n",
    "    for idx in range(int(num_test_sample/8)):\n",
    "        test_sample[str(n)].append(chain(mu_5, P_15, n))  \n",
    "    for idx in range(int(num_test_sample/8)):\n",
    "        test_sample[str(n)].append(chain(mu_6, P_16, n)) \n",
    "    for idx in range(int(num_test_sample/4)):\n",
    "        test_sample[str(n)].append(chain(mu_7, P_17, n)) \n",
    "    # Get thresholds for Hoeffding's test corresponding to sample length n    \n",
    "    for beta in beta_list:\n",
    "        key = str(n) + '_' + str(beta)\n",
    "        G_list = [G_1]\n",
    "        H_list = [H_1]\n",
    "        U_list = [U_1]\n",
    "        eta = HoeffdingRuleMarkovRobust_(beta, G_list, H_list, U_list, n)\n",
    "        eta_wc[key] = 2.0 * eta\n",
    "zdump([test_sample, eta_wc], 'testSample_threshold_robust_%d_SADIT.pkz'%N)"
   ]
  },
  {
   "cell_type": "code",
   "execution_count": 17,
   "metadata": {
    "collapsed": true
   },
   "outputs": [],
   "source": [
    "test_sample, eta_wc = zload('testSample_threshold_robust_4_SADIT.pkz')"
   ]
  },
  {
   "cell_type": "code",
   "execution_count": 18,
   "metadata": {
    "collapsed": false
   },
   "outputs": [],
   "source": [
    "from __future__ import division\n",
    "\n",
    "TPR_wc = {}\n",
    "FPR_wc = {}\n",
    "\n",
    "mu_1 = mu_adjust(mu_1)\n",
    "mu_2 = mu_adjust(mu_2)\n",
    "mu_3 = mu_adjust(mu_3)\n",
    "mu_4 = mu_adjust(mu_4)\n",
    "mu_5 = mu_adjust(mu_5)\n",
    "mu_6 = mu_adjust(mu_6)\n",
    "\n",
    "for n in n_range:\n",
    "    for beta in beta_list:\n",
    "        TP_wc = 0\n",
    "        FP_wc = 0\n",
    "        key = str(n) + '_' + str(beta)\n",
    "        for idx in range(num_test_sample):\n",
    "            KL1 = KL_est(test_sample[str(n)][idx], mu_1)\n",
    "            KL2 = KL_est(test_sample[str(n)][idx], mu_2)\n",
    "            KL3 = KL_est(test_sample[str(n)][idx], mu_3)\n",
    "            KL4 = KL_est(test_sample[str(n)][idx], mu_4)\n",
    "            KL5 = KL_est(test_sample[str(n)][idx], mu_5)\n",
    "            KL6 = KL_est(test_sample[str(n)][idx], mu_6)\n",
    "            KL = min([KL1, KL2, KL3, KL4, KL5, KL6])\n",
    "            if idx > 6000 and KL > eta_wc[key]:\n",
    "                TP_wc += 1\n",
    "            if idx < 6000 and KL > eta_wc[key]:\n",
    "                FP_wc += 1\n",
    "        TPR_wc[key] = TP_wc / 2000\n",
    "        FPR_wc[key] = FP_wc / 6000\n",
    "        \n",
    "zdump([TPR_wc, FPR_wc], 'ROCpt_%d_robust_adjusted_SADIT.pkz'%N)"
   ]
  },
  {
   "cell_type": "code",
   "execution_count": 19,
   "metadata": {
    "collapsed": true
   },
   "outputs": [],
   "source": [
    "TPR_wc, FPR_wc = zload('ROCpt_%d_robust_adjusted_SADIT.pkz'%N)"
   ]
  },
  {
   "cell_type": "code",
   "execution_count": 20,
   "metadata": {
    "collapsed": false
   },
   "outputs": [],
   "source": [
    "TPR_wc_list = {}\n",
    "FPR_wc_list = {}\n",
    "        \n",
    "for n in n_range:\n",
    "    TPR_wc_list[str(n)] = []\n",
    "    FPR_wc_list[str(n)] = []\n",
    "    TPR_wc_list[str(n)].append(0)\n",
    "    FPR_wc_list[str(n)].append(0)\n",
    "    for beta in beta_list:\n",
    "        key = str(n) + '_' + str(beta)\n",
    "        TPR_wc_list[str(n)].append(TPR_wc[key])\n",
    "        FPR_wc_list[str(n)].append(FPR_wc[key])\n",
    "\n",
    "    TPR_wc_list[str(n)].append(1)\n",
    "    FPR_wc_list[str(n)].append(1)"
   ]
  },
  {
   "cell_type": "code",
   "execution_count": 22,
   "metadata": {
    "collapsed": false
   },
   "outputs": [],
   "source": [
    "import matplotlib.pyplot as plt\n",
    "import pylab\n",
    "from pylab import *\n",
    "\n",
    "ROC_WC_list = []\n",
    "\n",
    "style_list = ['gs-']\n",
    "idx = 0\n",
    "\n",
    "pylab.xlim(-0.1, 1.15)\n",
    "pylab.ylim(-0.1, 1.1)\n",
    "\n",
    "for n in n_range:\n",
    "    ROC_WC_list.append(plt.plot(FPR_wc_list[str(n)], TPR_wc_list[str(n)], style_list[idx]))\n",
    "\n",
    "legend_list_1 = []\n",
    "legend_list_2 = []\n",
    "\n",
    "legend_list_1.append(ROC_WC_list)\n",
    "legend_list_1 = list(np.array(legend_list_1).ravel())\n",
    "\n",
    "for n in n_range:\n",
    "    legend_list_2.append(\"Use threshold $\\eta_n^{wc}$; $n=%d$\"%n)\n",
    "\n",
    "plt.legend(legend_list_1, legend_list_2, loc=4)\n",
    "plt.xlabel('False Positive Rate')\n",
    "plt.ylabel('True Positive Rate')\n",
    "plt.grid()\n",
    "\n",
    "savefig('ROC_%d_robust_adjusted_SADIT.eps'%N)\n",
    "plt.show()"
   ]
  },
  {
   "cell_type": "code",
   "execution_count": 24,
   "metadata": {
    "collapsed": true
   },
   "outputs": [],
   "source": [
    "beta_list = list(np.arange(0, 0.2, 0.01)[1:-1]) + list(np.arange(0.2, 1.01, 0.05)[:-1])"
   ]
  },
  {
   "cell_type": "code",
   "execution_count": 25,
   "metadata": {
    "collapsed": false
   },
   "outputs": [
    {
     "data": {
      "text/plain": [
       "[0.01,\n",
       " 0.02,\n",
       " 0.029999999999999999,\n",
       " 0.040000000000000001,\n",
       " 0.050000000000000003,\n",
       " 0.059999999999999998,\n",
       " 0.070000000000000007,\n",
       " 0.080000000000000002,\n",
       " 0.089999999999999997,\n",
       " 0.10000000000000001,\n",
       " 0.11,\n",
       " 0.12,\n",
       " 0.13,\n",
       " 0.14000000000000001,\n",
       " 0.14999999999999999,\n",
       " 0.16,\n",
       " 0.17000000000000001,\n",
       " 0.17999999999999999,\n",
       " 0.20000000000000001,\n",
       " 0.25,\n",
       " 0.29999999999999999,\n",
       " 0.34999999999999998,\n",
       " 0.39999999999999997,\n",
       " 0.44999999999999996,\n",
       " 0.49999999999999994,\n",
       " 0.54999999999999993,\n",
       " 0.59999999999999987,\n",
       " 0.64999999999999991,\n",
       " 0.69999999999999996,\n",
       " 0.74999999999999978,\n",
       " 0.79999999999999982,\n",
       " 0.84999999999999987,\n",
       " 0.89999999999999991,\n",
       " 0.94999999999999973]"
      ]
     },
     "execution_count": 25,
     "metadata": {},
     "output_type": "execute_result"
    }
   ],
   "source": [
    "beta_list"
   ]
  },
  {
   "cell_type": "code",
   "execution_count": null,
   "metadata": {
    "collapsed": true
   },
   "outputs": [],
   "source": []
  }
 ],
 "metadata": {
  "kernelspec": {
   "display_name": "Python 2",
   "language": "python",
   "name": "python2"
  },
  "language_info": {
   "codemirror_mode": {
    "name": "ipython",
    "version": 2
   },
   "file_extension": ".py",
   "mimetype": "text/x-python",
   "name": "python",
   "nbconvert_exporter": "python",
   "pygments_lexer": "ipython2",
   "version": "2.7.11"
  }
 },
 "nbformat": 4,
 "nbformat_minor": 0
}
