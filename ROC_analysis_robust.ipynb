{
 "cells": [
  {
   "cell_type": "code",
   "execution_count": 1,
   "metadata": {
    "collapsed": false
   },
   "outputs": [],
   "source": [
    "%run util.py"
   ]
  },
  {
   "cell_type": "code",
   "execution_count": 2,
   "metadata": {
    "collapsed": true
   },
   "outputs": [],
   "source": [
    "# N = 2\n",
    "# N = 3\n",
    "# N = 4\n",
    "N = 5"
   ]
  },
  {
   "cell_type": "code",
   "execution_count": 3,
   "metadata": {
    "collapsed": false
   },
   "outputs": [
    {
     "name": "stderr",
     "output_type": "stream",
     "text": [
      "<string>:352: RuntimeWarning: covariance is not positive-semidefinite.\n"
     ]
    }
   ],
   "source": [
    "# mu_0: the initial distribution; 1 x (N**2) \n",
    "# mu: the actual stationary distribution; 1 x (N**2)\n",
    "# mu_1: the estimated stationary distribution \n",
    "# P: the new transition matrix (the old transition matrix is Q)\n",
    "# G_1: the estimate of the gradient\n",
    "# H_1: the estimate of the Hessian\n",
    "# U_1: an estimated sample path of the Gaussian random vector U; length 1000\n",
    "\n",
    "mu_01, mu_1, mu_11, P_11, G_11, H_11, U_11 = ChainGen(N)  # P_11 is the 1st ground truth transition matrix\n",
    "mu_02, mu_2, mu_12, P_12, G_12, H_12, U_12 = ChainGen(N)  # P_12 is the 2nd ground truth transition matrix\n",
    "mu_03, mu_3, mu_13, P_13, G_13, H_13, U_13 = ChainGen(N)  # P_13 is the 3rd ground truth transition matrix\n",
    "\n",
    "mu_04, mu_4, mu_14, P_14, G_14, H_14, U_14 = ChainGen(N)  # P_14 is a different transition matrix for testing purposes\n",
    "\n",
    "saved_data = [mu_01, mu_1, mu_11, P_11, G_11, H_11, U_11, \\\n",
    "              mu_02, mu_2, mu_12, P_12, G_12, H_12, U_12, \\\n",
    "              mu_03, mu_3, mu_13, P_13, G_13, H_13, U_13, \\\n",
    "              mu_04, mu_4, mu_14, P_14, G_14, H_14, U_14]\n",
    "zdump(saved_data, 'P_11_12_13_14_%d.pkz'%N)"
   ]
  },
  {
   "cell_type": "code",
   "execution_count": 4,
   "metadata": {
    "collapsed": true
   },
   "outputs": [],
   "source": [
    "[mu_01, mu_1, mu_11, P_11, G_11, H_11, U_11, \\\n",
    "              mu_02, mu_2, mu_12, P_12, G_12, H_12, U_12, \\\n",
    "              mu_03, mu_3, mu_13, P_13, G_13, H_13, U_13, \\\n",
    "              mu_04, mu_4, mu_14, P_14, G_14, H_14, U_14] = zload('P_11_12_13_14_%d.pkz'%N)"
   ]
  },
  {
   "cell_type": "code",
   "execution_count": 5,
   "metadata": {
    "collapsed": false
   },
   "outputs": [
    {
     "data": {
      "text/plain": [
       "(array([ 0.00388564,  0.02720763,  0.00089902,  0.08747402,  0.07359035,\n",
       "         0.03337388,  0.06751154,  0.00711471,  0.00544575,  0.04159709,\n",
       "         0.01022999,  0.00361042,  0.06537114,  0.01661535,  0.06159228,\n",
       "         0.06049294,  0.0063808 ,  0.03062667,  0.06609926,  0.07471061,\n",
       "         0.0850742 ,  0.05033259,  0.05340764,  0.06267589,  0.0046806 ]),\n",
       " array([ 0.00091863,  0.04428725,  0.05797658,  0.10055902,  0.00124735,\n",
       "         0.07908099,  0.01024758,  0.02928712,  0.01174188,  0.06978492,\n",
       "         0.03546481,  0.07250668,  0.01099895,  0.0307822 ,  0.03863961,\n",
       "         0.05524878,  0.04868791,  0.05265734,  0.0159442 ,  0.05724014,\n",
       "         0.03427562,  0.02441307,  0.03747227,  0.07075106,  0.00978603]),\n",
       " array([ 0.07023782,  0.05420744,  0.00668447,  0.12376422,  0.03071461,\n",
       "         0.14918581,  0.05009702,  0.02268399,  0.00317096,  0.04010728,\n",
       "         0.02864793,  0.05969847,  0.04080854,  0.00023028,  0.01736842,\n",
       "         0.02403213,  0.06545042,  0.03335818,  0.07221168,  0.0081962 ,\n",
       "         0.01350485,  0.03579172,  0.04321848,  0.00387146,  0.00275763]),\n",
       " array([ 0.05347466,  0.04128319,  0.03502034,  0.06005013,  0.06821603,\n",
       "         0.0058747 ,  0.08303972,  0.0834014 ,  0.05006254,  0.00922657,\n",
       "         0.05924668,  0.01534974,  0.00166031,  0.03813231,  0.05859432,\n",
       "         0.0769945 ,  0.02069105,  0.02152925,  0.0062852 ,  0.03519225,\n",
       "         0.0624538 ,  0.07124123,  0.03137206,  0.00616208,  0.00544593]))"
      ]
     },
     "execution_count": 5,
     "metadata": {},
     "output_type": "execute_result"
    }
   ],
   "source": [
    "mu_1, mu_2, mu_3, mu_4"
   ]
  },
  {
   "cell_type": "code",
   "execution_count": 6,
   "metadata": {
    "collapsed": true
   },
   "outputs": [],
   "source": [
    "# n_range = range(20, 50, 10)\n",
    "# n_range = range(30, 90, 20)\n",
    "# n_range = range(40, 130, 30)\n",
    "n_range = range(50, 170, 40)"
   ]
  },
  {
   "cell_type": "code",
   "execution_count": 7,
   "metadata": {
    "collapsed": true
   },
   "outputs": [],
   "source": [
    "num_test_sample = 4000\n",
    "beta_list = list(np.arange(0, 0.2, 0.01)[1:-1]) + list(np.arange(0.2, 1.01, 0.05)[:-1])"
   ]
  },
  {
   "cell_type": "code",
   "execution_count": 8,
   "metadata": {
    "collapsed": false
   },
   "outputs": [],
   "source": [
    "eta_wc = {}\n",
    "eta_Sanov = {}\n",
    "test_sample = {}\n",
    "for n in n_range:\n",
    "    # Get sample paths of the Markov chain with length n; \n",
    "    # these paths will be the test set\n",
    "    test_sample[str(n)] = []\n",
    "    for idx in range(int(num_test_sample/4)):\n",
    "        test_sample[str(n)].append(chain(mu_1, P_11, n))  \n",
    "    for idx in range(int(num_test_sample/4)):\n",
    "        test_sample[str(n)].append(chain(mu_2, P_12, n))  \n",
    "    for idx in range(int(num_test_sample/4)):\n",
    "        test_sample[str(n)].append(chain(mu_3, P_13, n))  \n",
    "    for idx in range(int(num_test_sample/4)):\n",
    "        test_sample[str(n)].append(chain(mu_4, P_14, n)) \n",
    "    # Get thresholds for Hoeffding's test corresponding to sample length n    \n",
    "    for beta in beta_list:\n",
    "        key = str(n) + '_' + str(beta)\n",
    "        eta_1 = ThresWeakConvRobust(N, beta, n, mu_01, mu_1, mu_11, P_11, G_11, H_11, U_11, mu_02, mu_2, mu_12, P_12, G_12, H_12, U_12, mu_03, mu_3, mu_13, P_13, G_13, H_13, U_13).ThresCal()\n",
    "        eta_2 = ThresSanov(N, beta, n, mu_01, mu_1, mu_11, P_11, G_11, H_11, U_11).ThresCal()\n",
    "        eta_wc[key] = eta_1\n",
    "        eta_Sanov[key] = eta_2\n",
    "zdump([test_sample, eta_wc, eta_Sanov], 'testSample_threshold_robust_%d.pkz'%N)"
   ]
  },
  {
   "cell_type": "code",
   "execution_count": 9,
   "metadata": {
    "collapsed": false
   },
   "outputs": [],
   "source": [
    "test_sample, eta_wc, eta_Sanov = zload('testSample_threshold_robust_%d.pkz'%N)"
   ]
  },
  {
   "cell_type": "code",
   "execution_count": 10,
   "metadata": {
    "collapsed": false
   },
   "outputs": [],
   "source": [
    "from __future__ import division\n",
    "\n",
    "mu_1 = np.reshape(mu_1, (N, N))\n",
    "mu_2 = np.reshape(mu_2, (N, N))\n",
    "mu_3 = np.reshape(mu_3, (N, N))\n",
    "\n",
    "TPR_wc = {}\n",
    "FPR_wc = {}\n",
    "TPR_Sanov = {}\n",
    "FPR_Sanov = {}\n",
    "\n",
    "for n in n_range:\n",
    "    for beta in beta_list:\n",
    "        TP_wc = 0\n",
    "        FP_wc = 0\n",
    "        TP_Sanov = 0\n",
    "        FP_Sanov = 0\n",
    "        key = str(n) + '_' + str(beta)\n",
    "        for idx in range(num_test_sample):\n",
    "            KL1 = KL_est(test_sample[str(n)][idx], mu_1)\n",
    "            KL2 = KL_est(test_sample[str(n)][idx], mu_2)\n",
    "            KL3 = KL_est(test_sample[str(n)][idx], mu_3)\n",
    "            KL = min([KL1, KL2, KL3])\n",
    "            if idx > 3000 and KL > eta_wc[key]:\n",
    "                TP_wc += 1\n",
    "            if idx < 3000 and KL > eta_wc[key]:\n",
    "                FP_wc += 1\n",
    "            if idx > 3000 and KL > eta_Sanov[key]:\n",
    "                TP_Sanov += 1\n",
    "            if idx < 3000 and KL > eta_Sanov[key]:\n",
    "                FP_Sanov += 1\n",
    "        TPR_wc[key] = TP_wc / 1000\n",
    "        FPR_wc[key] = FP_wc / 3000\n",
    "        TPR_Sanov[key] = TP_Sanov / 1000\n",
    "        FPR_Sanov[key] = FP_Sanov / 3000\n",
    "        \n",
    "zdump([TPR_wc, FPR_wc, TPR_Sanov, FPR_Sanov], 'ROCpt_%d_robust.pkz'%N)"
   ]
  },
  {
   "cell_type": "code",
   "execution_count": 11,
   "metadata": {
    "collapsed": false
   },
   "outputs": [],
   "source": [
    "TPR_wc, FPR_wc, TPR_Sanov, FPR_Sanov = zload('ROCpt_%d_robust.pkz'%N)"
   ]
  },
  {
   "cell_type": "code",
   "execution_count": 12,
   "metadata": {
    "collapsed": true
   },
   "outputs": [],
   "source": [
    "TPR_wc_list = {}\n",
    "FPR_wc_list = {}\n",
    "TPR_Sanov_list = {}\n",
    "FPR_Sanov_list = {}\n",
    "        \n",
    "for n in n_range:\n",
    "    TPR_wc_list[str(n)] = []\n",
    "    FPR_wc_list[str(n)] = []\n",
    "    TPR_Sanov_list[str(n)] = []\n",
    "    FPR_Sanov_list[str(n)] = []\n",
    "    TPR_wc_list[str(n)].append(0)\n",
    "    FPR_wc_list[str(n)].append(0)\n",
    "    TPR_Sanov_list[str(n)].append(0)\n",
    "    FPR_Sanov_list[str(n)].append(0)\n",
    "    for beta in beta_list:\n",
    "        key = str(n) + '_' + str(beta)\n",
    "        TPR_wc_list[str(n)].append(TPR_wc[key])\n",
    "        FPR_wc_list[str(n)].append(FPR_wc[key])\n",
    "        TPR_Sanov_list[str(n)].append(TPR_Sanov[key])\n",
    "        FPR_Sanov_list[str(n)].append(FPR_Sanov[key])\n",
    "\n",
    "    TPR_wc_list[str(n)].append(1)\n",
    "    FPR_wc_list[str(n)].append(1)\n",
    "    TPR_Sanov_list[str(n)].append(1)\n",
    "    FPR_Sanov_list[str(n)].append(1)"
   ]
  },
  {
   "cell_type": "code",
   "execution_count": 13,
   "metadata": {
    "collapsed": false
   },
   "outputs": [],
   "source": [
    "import matplotlib.pyplot as plt\n",
    "import pylab\n",
    "from pylab import *\n",
    "\n",
    "ROC_WC_list = []\n",
    "ROC_Sanov_list = []\n",
    "style_list = ['bo-', 'gs-', 'r+-', 'c<-', 'm>-', 'y^-']\n",
    "idx = 0\n",
    "\n",
    "pylab.xlim(-0.1, 1.15)\n",
    "pylab.ylim(-0.1, 1.1)\n",
    "\n",
    "for n in n_range:\n",
    "    ROC_WC_list.append(plt.plot(FPR_wc_list[str(n)], TPR_wc_list[str(n)], style_list[idx]))\n",
    "    ROC_Sanov_list.append(plt.plot(FPR_Sanov_list[str(n)], TPR_Sanov_list[str(n)], style_list[idx+1]))\n",
    "    idx += 2\n",
    "\n",
    "legend_list_1 = []\n",
    "legend_list_2 = []\n",
    "legend_list_1.append(ROC_WC_list)\n",
    "legend_list_1.append(ROC_Sanov_list)\n",
    "legend_list_1 = list(np.array(legend_list_1).ravel())\n",
    "\n",
    "for n in n_range:\n",
    "    legend_list_2.append(\"Use threshold $\\eta_n^{wc}$; $n=%d$\"%n)\n",
    "for n in n_range:\n",
    "    legend_list_2.append(\"Use threshold $\\eta_n^{sv}$; $n=%d$\"%n)\n",
    "plt.legend(legend_list_1, legend_list_2, loc=4)\n",
    "plt.xlabel('False Positive Rate')\n",
    "plt.ylabel('True Positive Rate')\n",
    "plt.grid()\n",
    "\n",
    "savefig('ROC_%d_robust.eps'%N)\n",
    "plt.show()"
   ]
  },
  {
   "cell_type": "code",
   "execution_count": 13,
   "metadata": {
    "collapsed": false
   },
   "outputs": [
    {
     "data": {
      "text/plain": [
       "-1"
      ]
     },
     "execution_count": 13,
     "metadata": {},
     "output_type": "execute_result"
    }
   ],
   "source": [
    "min([1, 2, -1])"
   ]
  },
  {
   "cell_type": "code",
   "execution_count": null,
   "metadata": {
    "collapsed": true
   },
   "outputs": [],
   "source": []
  }
 ],
 "metadata": {
  "kernelspec": {
   "display_name": "Python 2",
   "language": "python",
   "name": "python2"
  },
  "language_info": {
   "codemirror_mode": {
    "name": "ipython",
    "version": 2
   },
   "file_extension": ".py",
   "mimetype": "text/x-python",
   "name": "python",
   "nbconvert_exporter": "python",
   "pygments_lexer": "ipython2",
   "version": "2.7.11"
  }
 },
 "nbformat": 4,
 "nbformat_minor": 0
}
