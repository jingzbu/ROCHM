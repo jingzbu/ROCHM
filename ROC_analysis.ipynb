{
 "cells": [
  {
   "cell_type": "code",
   "execution_count": 1,
   "metadata": {
    "collapsed": true
   },
   "outputs": [],
   "source": [
    "%run util.py"
   ]
  },
  {
   "cell_type": "code",
   "execution_count": 3,
   "metadata": {
    "collapsed": false
   },
   "outputs": [],
   "source": [
    "N = 2\n",
    "\n",
    "# mu_0: the initial distribution; 1 x (N**2) \n",
    "# mu: the actual stationary distribution; 1 x (N**2)\n",
    "# mu_1: the estimated stationary distribution \n",
    "# P: the new transition matrix (the old transition matrix is Q)\n",
    "# G_1: the estimate of the gradient\n",
    "# H_1: the estimate of the Hessian\n",
    "# U_1: an estimated sample path of the Gaussian random vector U; length 1000\n",
    "\n",
    "mu_0, mu, mu_1, P, G_1, H_1, U_1 = ChainGen(N)  # P is the ground truth transition matrix\n",
    "mu_0P, muP, mu_1P, PP, G_1P, H_1P, U_1P = ChainGen(N)  # PP is a different transition matrix for testing purposes\n",
    "zdump([N, mu_0, mu, mu_1, P, G_1, H_1, U_1, mu_0P, muP, mu_1P, PP, G_1P, H_1P, U_1P], 'P_PP.pkz')"
   ]
  },
  {
   "cell_type": "code",
   "execution_count": 4,
   "metadata": {
    "collapsed": true
   },
   "outputs": [],
   "source": [
    "N, mu_0, mu, mu_1, P, G_1, H_1, U_1, mu_0P, muP, mu_1P, PP, G_1P, H_1P, U_1P = zload('P_PP.pkz')"
   ]
  },
  {
   "cell_type": "code",
   "execution_count": 5,
   "metadata": {
    "collapsed": false
   },
   "outputs": [
    {
     "data": {
      "text/plain": [
       "array([ 0.59157139,  0.16054822,  0.16054822,  0.08733216])"
      ]
     },
     "execution_count": 5,
     "metadata": {},
     "output_type": "execute_result"
    }
   ],
   "source": [
    "mu"
   ]
  },
  {
   "cell_type": "code",
   "execution_count": 6,
   "metadata": {
    "collapsed": false
   },
   "outputs": [
    {
     "data": {
      "text/plain": [
       "array([ 0.32638288,  0.2782231 ,  0.2782231 ,  0.11717092])"
      ]
     },
     "execution_count": 6,
     "metadata": {},
     "output_type": "execute_result"
    }
   ],
   "source": [
    "muP"
   ]
  },
  {
   "cell_type": "code",
   "execution_count": 64,
   "metadata": {
    "collapsed": false
   },
   "outputs": [],
   "source": [
    "eta_wc = {}\n",
    "eta_Sanov = {}\n",
    "test_sample = {}\n",
    "\n",
    "n_range = range(20, 50, 10)\n",
    "num_test_sample = 2000\n",
    "beta_list = list(np.arange(0, 0.2, 0.01)[1:-1]) + list(np.arange(0.2, 1.01, 0.05)[:-1])\n",
    "\n",
    "for n in n_range:\n",
    "    # Get sample paths of the Markov chain with length n; \n",
    "    # these paths will be the test set\n",
    "    test_sample[str(n)] = []\n",
    "    for idx in range(int(num_test_sample/2)):\n",
    "        test_sample[str(n)].append(chain(mu, P, n))  \n",
    "    for idx in range(int(num_test_sample/2)):\n",
    "        test_sample[str(n)].append(chain(muP, PP, n))  \n",
    "    # Get thresholds for Hoeffding's test corresponding to sample lenth n    \n",
    "    for beta in beta_list:\n",
    "        key = str(n) + '_' + str(beta)\n",
    "        eta_1 = ThresUeakConv(N, beta, n, mu_0, mu, mu_1, P, G_1, H_1, U_1).ThresCal()\n",
    "        eta_2 = ThresSanov(N, beta, n, mu_0, mu, mu_1, P, G_1, H_1, U_1).ThresCal()\n",
    "        eta_wc[key] = eta_1\n",
    "        eta_Sanov[key] = eta_2\n",
    "zdump([test_sample, eta_wc, eta_Sanov], 'testSample_threshold.pkz')"
   ]
  },
  {
   "cell_type": "code",
   "execution_count": 65,
   "metadata": {
    "collapsed": false
   },
   "outputs": [],
   "source": [
    "test_sample, eta_wc, eta_Sanov = zload('testSample_threshold.pkz')"
   ]
  },
  {
   "cell_type": "code",
   "execution_count": 66,
   "metadata": {
    "collapsed": false
   },
   "outputs": [
    {
     "data": {
      "text/plain": [
       "[50, 100, 150, 200]"
      ]
     },
     "execution_count": 66,
     "metadata": {},
     "output_type": "execute_result"
    }
   ],
   "source": [
    "range(50, 250, 50)"
   ]
  },
  {
   "cell_type": "code",
   "execution_count": 67,
   "metadata": {
    "collapsed": false
   },
   "outputs": [],
   "source": [
    "from __future__ import division\n",
    "\n",
    "mu = np.reshape(mu, (N, N))\n",
    "\n",
    "TPR_wc = {}\n",
    "FPR_wc = {}\n",
    "TPR_Sanov = {}\n",
    "FPR_Sanov = {}\n",
    "\n",
    "for n in n_range:\n",
    "    for beta in beta_list:\n",
    "        TP_wc = 0\n",
    "        FP_wc = 0\n",
    "        TP_Sanov = 0\n",
    "        FP_Sanov = 0\n",
    "        key = str(n) + '_' + str(beta)\n",
    "        for idx in range(num_test_sample):\n",
    "            KL = KL_est(test_sample[str(n)][idx], mu)\n",
    "            if idx > 1000 and KL > eta_wc[key]:\n",
    "                TP_wc += 1\n",
    "            if idx < 1000 and KL > eta_wc[key]:\n",
    "                FP_wc += 1\n",
    "            if idx > 1000 and KL > eta_Sanov[key]:\n",
    "                TP_Sanov += 1\n",
    "            if idx < 1000 and KL > eta_Sanov[key]:\n",
    "                FP_Sanov += 1\n",
    "        TPR_wc[key] = TP_wc / 1000\n",
    "        FPR_wc[key] = FP_wc / 1000\n",
    "        TPR_Sanov[key] = TP_Sanov / 1000\n",
    "        FPR_Sanov[key] = FP_Sanov / 1000\n",
    "        \n",
    "zdump([TPR_wc, FPR_wc, TPR_Sanov, FPR_Sanov], 'ROCpt.pkz')"
   ]
  },
  {
   "cell_type": "code",
   "execution_count": 68,
   "metadata": {
    "collapsed": false
   },
   "outputs": [],
   "source": [
    "TPR_wc, FPR_wc, TPR_Sanov, FPR_Sanov = zload('ROCpt.pkz')"
   ]
  },
  {
   "cell_type": "code",
   "execution_count": 69,
   "metadata": {
    "collapsed": true
   },
   "outputs": [],
   "source": [
    "TPR_wc_list = {}\n",
    "FPR_wc_list = {}\n",
    "TPR_Sanov_list = {}\n",
    "FPR_Sanov_list = {}\n",
    "        \n",
    "for n in n_range:\n",
    "    TPR_wc_list[str(n)] = []\n",
    "    FPR_wc_list[str(n)] = []\n",
    "    TPR_Sanov_list[str(n)] = []\n",
    "    FPR_Sanov_list[str(n)] = []\n",
    "    TPR_wc_list[str(n)].append(0)\n",
    "    FPR_wc_list[str(n)].append(0)\n",
    "    TPR_Sanov_list[str(n)].append(0)\n",
    "    FPR_Sanov_list[str(n)].append(0)\n",
    "    for beta in beta_list:\n",
    "        key = str(n) + '_' + str(beta)\n",
    "        TPR_wc_list[str(n)].append(TPR_wc[key])\n",
    "        FPR_wc_list[str(n)].append(FPR_wc[key])\n",
    "        TPR_Sanov_list[str(n)].append(TPR_Sanov[key])\n",
    "        FPR_Sanov_list[str(n)].append(FPR_Sanov[key])\n",
    "\n",
    "    TPR_wc_list[str(n)].append(1)\n",
    "    FPR_wc_list[str(n)].append(1)\n",
    "    TPR_Sanov_list[str(n)].append(1)\n",
    "    FPR_Sanov_list[str(n)].append(1)"
   ]
  },
  {
   "cell_type": "code",
   "execution_count": 98,
   "metadata": {
    "collapsed": false
   },
   "outputs": [],
   "source": [
    "import matplotlib.pyplot as plt\n",
    "import pylab\n",
    "from pylab import *\n",
    "\n",
    "ROC_WC_list = []\n",
    "ROC_Sanov_list = []\n",
    "style_list = ['bo-', 'gs-', 'r+-', 'c<-', 'm>-', 'y^-']\n",
    "idx = 0\n",
    "idx_ = 0\n",
    "\n",
    "pylab.xlim(-0.1, 1.1)\n",
    "pylab.ylim(-0.1, 1.1)\n",
    "\n",
    "for n in n_range:\n",
    "    ROC_WC_list.append(plt.plot(FPR_wc_list[str(n)], TPR_wc_list[str(n)], style_list[idx]))\n",
    "    ROC_Sanov_list.append(plt.plot(FPR_Sanov_list[str(n)], TPR_Sanov_list[str(n)], style_list[idx+1]))\n",
    "    idx += 2\n",
    "\n",
    "legend_list_1 = []\n",
    "legend_list_2 = []\n",
    "legend_list_1.append(ROC_WC_list)\n",
    "legend_list_1.append(ROC_Sanov_list)\n",
    "legend_list_1 = list(np.array(legend_list_1).ravel())\n",
    "\n",
    "for n in n_range:\n",
    "    legend_list_2.append(\"Use threshold $\\eta_n^{wc}$; $n=%d$\"%n)\n",
    "for n in n_range:\n",
    "    legend_list_2.append(\"Use threshold $\\eta_n^{sv}$; $n=%d$\"%n)\n",
    "plt.legend(legend_list_1, legend_list_2, loc=4)\n",
    "plt.xlabel('False Positive Rate')\n",
    "plt.ylabel('True Positive Rate')\n",
    "\n",
    "savefig('ROC_N_2.eps')\n",
    "plt.show()"
   ]
  },
  {
   "cell_type": "code",
   "execution_count": 83,
   "metadata": {
    "collapsed": false
   },
   "outputs": [
    {
     "data": {
      "text/plain": [
       "['Hoeffding test with threshold given by $\\\\eta_n^{wc}$',\n",
       " 'Hoeffding test with threshold given by $\\\\eta_n^{sv}$',\n",
       " 'Hoeffding test with threshold given by $\\\\eta_n^{wc}$',\n",
       " 'Hoeffding test with threshold given by $\\\\eta_n^{sv}$',\n",
       " 'Hoeffding test with threshold given by $\\\\eta_n^{wc}$',\n",
       " 'Hoeffding test with threshold given by $\\\\eta_n^{sv}$']"
      ]
     },
     "execution_count": 83,
     "metadata": {},
     "output_type": "execute_result"
    }
   ],
   "source": [
    "legend_list_2"
   ]
  },
  {
   "cell_type": "code",
   "execution_count": 91,
   "metadata": {
    "collapsed": false
   },
   "outputs": [
    {
     "data": {
      "text/plain": [
       "[<matplotlib.lines.Line2D at 0x7f73740f3710>,\n",
       " <matplotlib.lines.Line2D at 0x7f7363bc2610>,\n",
       " <matplotlib.lines.Line2D at 0x7f7363bc2650>,\n",
       " <matplotlib.lines.Line2D at 0x7f73740f3690>,\n",
       " <matplotlib.lines.Line2D at 0x7f7363bc2c10>,\n",
       " <matplotlib.lines.Line2D at 0x7f736dfd0490>]"
      ]
     },
     "execution_count": 91,
     "metadata": {},
     "output_type": "execute_result"
    }
   ],
   "source": [
    "list(np.array(legend_list_1).ravel())"
   ]
  },
  {
   "cell_type": "code",
   "execution_count": null,
   "metadata": {
    "collapsed": true
   },
   "outputs": [],
   "source": []
  }
 ],
 "metadata": {
  "kernelspec": {
   "display_name": "Python 2",
   "language": "python",
   "name": "python2"
  },
  "language_info": {
   "codemirror_mode": {
    "name": "ipython",
    "version": 2
   },
   "file_extension": ".py",
   "mimetype": "text/x-python",
   "name": "python",
   "nbconvert_exporter": "python",
   "pygments_lexer": "ipython2",
   "version": "2.7.11"
  }
 },
 "nbformat": 4,
 "nbformat_minor": 0
}
