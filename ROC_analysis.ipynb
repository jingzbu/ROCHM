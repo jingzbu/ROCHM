{
 "cells": [
  {
   "cell_type": "code",
   "execution_count": 1,
   "metadata": {
    "collapsed": true
   },
   "outputs": [],
   "source": [
    "%run util.py"
   ]
  },
  {
   "cell_type": "code",
   "execution_count": 2,
   "metadata": {
    "collapsed": true
   },
   "outputs": [],
   "source": [
    "# N = 2\n",
    "# N = 3\n",
    "# N = 4\n",
    "N = 5"
   ]
  },
  {
   "cell_type": "code",
   "execution_count": 3,
   "metadata": {
    "collapsed": false
   },
   "outputs": [
    {
     "name": "stderr",
     "output_type": "stream",
     "text": [
      "<string>:372: RuntimeWarning: covariance is not positive-semidefinite.\n"
     ]
    }
   ],
   "source": [
    "# mu_0: the initial distribution; 1 x (N**2) \n",
    "# mu: the actual stationary distribution; 1 x (N**2)\n",
    "# mu_1: the estimated stationary distribution \n",
    "# P: the new transition matrix (the old transition matrix is Q)\n",
    "# G_1: the estimate of the gradient\n",
    "# H_1: the estimate of the Hessian\n",
    "# U_1: an estimated sample path of the Gaussian random vector U; length 1000\n",
    "\n",
    "mu_0, mu, mu_1, P, G_1, H_1, U_1 = ChainGen(N)  # P is the ground truth transition matrix\n",
    "mu_0P, muP, mu_1P, PP, G_1P, H_1P, U_1P = ChainGen(N)  # PP is a different transition matrix for testing purposes\n",
    "zdump([N, mu_0, mu, mu_1, P, G_1, H_1, U_1, mu_0P, muP, mu_1P, PP, G_1P, H_1P, U_1P], 'P_PP_%d.pkz'%N)"
   ]
  },
  {
   "cell_type": "code",
   "execution_count": 4,
   "metadata": {
    "collapsed": true
   },
   "outputs": [],
   "source": [
    "N, mu_0, mu, mu_1, P, G_1, H_1, U_1, mu_0P, muP, mu_1P, PP, G_1P, H_1P, U_1P = zload('P_PP_%d.pkz'%N)"
   ]
  },
  {
   "cell_type": "code",
   "execution_count": 5,
   "metadata": {
    "collapsed": false
   },
   "outputs": [
    {
     "data": {
      "text/plain": [
       "array([ 0.01202411,  0.03549705,  0.02813792,  0.01678416,  0.00304104,\n",
       "        0.00444971,  0.00629695,  0.08133173,  0.09888539,  0.03342634,\n",
       "        0.00910888,  0.06330077,  0.02942579,  0.00606742,  0.09991787,\n",
       "        0.04043206,  0.04143443,  0.00945444,  0.03757149,  0.07922154,\n",
       "        0.02946951,  0.07786092,  0.05947084,  0.04880552,  0.04858413])"
      ]
     },
     "execution_count": 5,
     "metadata": {},
     "output_type": "execute_result"
    }
   ],
   "source": [
    "mu"
   ]
  },
  {
   "cell_type": "code",
   "execution_count": 6,
   "metadata": {
    "collapsed": false
   },
   "outputs": [
    {
     "data": {
      "text/plain": [
       "array([ 0.02876607,  0.08163706,  0.03245808,  0.07293823,  0.00398155,\n",
       "        0.04380026,  0.01359594,  0.04333514,  0.07325133,  0.0136216 ,\n",
       "        0.06735976,  0.04218959,  0.02430814,  0.00627127,  0.01813092,\n",
       "        0.07422195,  0.0059551 ,  0.05111903,  0.15384568,  0.0344931 ,\n",
       "        0.00563295,  0.04422657,  0.00703928,  0.01332835,  0.04449304])"
      ]
     },
     "execution_count": 6,
     "metadata": {},
     "output_type": "execute_result"
    }
   ],
   "source": [
    "muP"
   ]
  },
  {
   "cell_type": "code",
   "execution_count": 7,
   "metadata": {
    "collapsed": true
   },
   "outputs": [],
   "source": [
    "# n_range = range(20, 50, 10)\n",
    "# n_range = range(30, 90, 20)\n",
    "# n_range = range(40, 130, 30)\n",
    "n_range = range(50, 170, 40)"
   ]
  },
  {
   "cell_type": "code",
   "execution_count": 8,
   "metadata": {
    "collapsed": true
   },
   "outputs": [],
   "source": [
    "num_test_sample = 2000\n",
    "beta_list = list(np.arange(0, 0.2, 0.01)[1:-1]) + list(np.arange(0.2, 1.01, 0.05)[:-1])"
   ]
  },
  {
   "cell_type": "code",
   "execution_count": 9,
   "metadata": {
    "collapsed": false
   },
   "outputs": [
    {
     "data": {
      "text/plain": [
       "[0.01,\n",
       " 0.02,\n",
       " 0.029999999999999999,\n",
       " 0.040000000000000001,\n",
       " 0.050000000000000003,\n",
       " 0.059999999999999998,\n",
       " 0.070000000000000007,\n",
       " 0.080000000000000002,\n",
       " 0.089999999999999997,\n",
       " 0.10000000000000001,\n",
       " 0.11,\n",
       " 0.12,\n",
       " 0.13,\n",
       " 0.14000000000000001,\n",
       " 0.14999999999999999,\n",
       " 0.16,\n",
       " 0.17000000000000001,\n",
       " 0.17999999999999999,\n",
       " 0.20000000000000001,\n",
       " 0.25,\n",
       " 0.29999999999999999,\n",
       " 0.34999999999999998,\n",
       " 0.39999999999999997,\n",
       " 0.44999999999999996,\n",
       " 0.49999999999999994,\n",
       " 0.54999999999999993,\n",
       " 0.59999999999999987,\n",
       " 0.64999999999999991,\n",
       " 0.69999999999999996,\n",
       " 0.74999999999999978,\n",
       " 0.79999999999999982,\n",
       " 0.84999999999999987,\n",
       " 0.89999999999999991,\n",
       " 0.94999999999999973]"
      ]
     },
     "execution_count": 9,
     "metadata": {},
     "output_type": "execute_result"
    }
   ],
   "source": [
    "beta_list"
   ]
  },
  {
   "cell_type": "code",
   "execution_count": 10,
   "metadata": {
    "collapsed": false
   },
   "outputs": [],
   "source": [
    "eta_wc = {}\n",
    "eta_Sanov = {}\n",
    "test_sample = {}\n",
    "for n in n_range:\n",
    "    # Get sample paths of the Markov chain with length n; \n",
    "    # these paths will be the test set\n",
    "    test_sample[str(n)] = []\n",
    "    for idx in range(int(num_test_sample/2)):\n",
    "        test_sample[str(n)].append(chain(mu, P, n))  \n",
    "    for idx in range(int(num_test_sample/2)):\n",
    "        test_sample[str(n)].append(chain(muP, PP, n))  \n",
    "    # Get thresholds for Hoeffding's test corresponding to sample length n    \n",
    "    for beta in beta_list:\n",
    "        key = str(n) + '_' + str(beta)\n",
    "        eta_1 = ThresWeakConv(N, beta, n, mu_0, mu, mu_1, P, G_1, H_1, U_1).ThresCal()\n",
    "        eta_2 = ThresSanov(N, beta, n, mu_0, mu, mu_1, P, G_1, H_1, U_1).ThresCal()\n",
    "        eta_wc[key] = eta_1\n",
    "        eta_Sanov[key] = eta_2\n",
    "zdump([test_sample, eta_wc, eta_Sanov], 'testSample_threshold_%d.pkz'%N)"
   ]
  },
  {
   "cell_type": "code",
   "execution_count": 11,
   "metadata": {
    "collapsed": false
   },
   "outputs": [],
   "source": [
    "test_sample, eta_wc, eta_Sanov = zload('testSample_threshold_%d.pkz'%N)"
   ]
  },
  {
   "cell_type": "code",
   "execution_count": 12,
   "metadata": {
    "collapsed": false
   },
   "outputs": [],
   "source": [
    "from __future__ import division\n",
    "\n",
    "mu = np.reshape(mu, (N, N))\n",
    "\n",
    "TPR_wc = {}\n",
    "FPR_wc = {}\n",
    "TPR_Sanov = {}\n",
    "FPR_Sanov = {}\n",
    "\n",
    "for n in n_range:\n",
    "    for beta in beta_list:\n",
    "        TP_wc = 0\n",
    "        FP_wc = 0\n",
    "        TP_Sanov = 0\n",
    "        FP_Sanov = 0\n",
    "        key = str(n) + '_' + str(beta)\n",
    "        for idx in range(num_test_sample):\n",
    "            KL = KL_est(test_sample[str(n)][idx], mu)\n",
    "            if idx > 1000 and KL > eta_wc[key]:\n",
    "                TP_wc += 1\n",
    "            if idx < 1000 and KL > eta_wc[key]:\n",
    "                FP_wc += 1\n",
    "            if idx > 1000 and KL > eta_Sanov[key]:\n",
    "                TP_Sanov += 1\n",
    "            if idx < 1000 and KL > eta_Sanov[key]:\n",
    "                FP_Sanov += 1\n",
    "        TPR_wc[key] = TP_wc / 1000\n",
    "        FPR_wc[key] = FP_wc / 1000\n",
    "        TPR_Sanov[key] = TP_Sanov / 1000\n",
    "        FPR_Sanov[key] = FP_Sanov / 1000\n",
    "        \n",
    "zdump([TPR_wc, FPR_wc, TPR_Sanov, FPR_Sanov], 'ROCpt_%d.pkz'%N)"
   ]
  },
  {
   "cell_type": "code",
   "execution_count": 13,
   "metadata": {
    "collapsed": false
   },
   "outputs": [],
   "source": [
    "TPR_wc, FPR_wc, TPR_Sanov, FPR_Sanov = zload('ROCpt_%d.pkz'%N)"
   ]
  },
  {
   "cell_type": "code",
   "execution_count": 14,
   "metadata": {
    "collapsed": true
   },
   "outputs": [],
   "source": [
    "TPR_wc_list = {}\n",
    "FPR_wc_list = {}\n",
    "TPR_Sanov_list = {}\n",
    "FPR_Sanov_list = {}\n",
    "        \n",
    "for n in n_range:\n",
    "    TPR_wc_list[str(n)] = []\n",
    "    FPR_wc_list[str(n)] = []\n",
    "    TPR_Sanov_list[str(n)] = []\n",
    "    FPR_Sanov_list[str(n)] = []\n",
    "    TPR_wc_list[str(n)].append(0)\n",
    "    FPR_wc_list[str(n)].append(0)\n",
    "    TPR_Sanov_list[str(n)].append(0)\n",
    "    FPR_Sanov_list[str(n)].append(0)\n",
    "    for beta in beta_list:\n",
    "        key = str(n) + '_' + str(beta)\n",
    "        TPR_wc_list[str(n)].append(TPR_wc[key])\n",
    "        FPR_wc_list[str(n)].append(FPR_wc[key])\n",
    "        TPR_Sanov_list[str(n)].append(TPR_Sanov[key])\n",
    "        FPR_Sanov_list[str(n)].append(FPR_Sanov[key])\n",
    "\n",
    "    TPR_wc_list[str(n)].append(1)\n",
    "    FPR_wc_list[str(n)].append(1)\n",
    "    TPR_Sanov_list[str(n)].append(1)\n",
    "    FPR_Sanov_list[str(n)].append(1)"
   ]
  },
  {
   "cell_type": "code",
   "execution_count": 15,
   "metadata": {
    "collapsed": false
   },
   "outputs": [
    {
     "name": "stderr",
     "output_type": "stream",
     "text": [
      "/home/jzh/anaconda2/lib/python2.7/site-packages/matplotlib/font_manager.py:1288: UserWarning: findfont: Font family [u'normal'] not found. Falling back to Bitstream Vera Sans\n",
      "  (prop.get_family(), self.defaultFamily[fontext]))\n"
     ]
    },
    {
     "data": {
      "image/png": "[encoded data removed]",
      "text/plain": [
       "<matplotlib.figure.Figure at 0x7f70001e2590>"
      ]
     },
     "metadata": {},
     "output_type": "display_data"
    }
   ],
   "source": [
    "import matplotlib.pyplot as plt\n",
    "import pylab\n",
    "from pylab import *\n",
    "%matplotlib inline  \n",
    "\n",
    "ROC_WC_list = []\n",
    "ROC_Sanov_list = []\n",
    "style_list = ['b-', 'g-', 'r-', 'c-', 'm-', 'y-']\n",
    "idx = 0\n",
    "\n",
    "font = {'family' : 'normal',\n",
    "        'weight' : 'normal',\n",
    "        'size'   : 24}\n",
    "\n",
    "plt.figure(figsize=(15,9))\n",
    "\n",
    "matplotlib.rc('font', **font)\n",
    "\n",
    "pylab.xlim(-0.1, 1.15)\n",
    "pylab.ylim(-0.1, 1.1)\n",
    "\n",
    "for n in n_range:\n",
    "    ROC_WC_list.append(plt.plot(FPR_wc_list[str(n)], TPR_wc_list[str(n)], style_list[idx], linewidth=3))\n",
    "    ROC_Sanov_list.append(plt.plot(FPR_Sanov_list[str(n)], TPR_Sanov_list[str(n)], style_list[idx+1], linewidth=3))\n",
    "    idx += 2\n",
    "\n",
    "legend_list_1 = []\n",
    "legend_list_2 = []\n",
    "legend_list_1.append(ROC_WC_list)\n",
    "legend_list_1.append(ROC_Sanov_list)\n",
    "legend_list_1 = list(np.array(legend_list_1).ravel())\n",
    "\n",
    "for n in n_range:\n",
    "    legend_list_2.append(\"$\\eta_n^{wc}$; $n=%d$\"%n)\n",
    "for n in n_range:\n",
    "    legend_list_2.append(\"$\\eta_n^{sv}$; $n=%d$\"%n)\n",
    "plt.legend(legend_list_1, legend_list_2, ncol=2, loc=4)\n",
    "plt.xlabel('False Positive Rate')\n",
    "plt.ylabel('True Positive Rate')\n",
    "# plt.grid()\n",
    "\n",
    "\n",
    "savefig('ROC_%d.eps'%N)\n",
    "\n",
    "plt.show()"
   ]
  },
  {
   "cell_type": "code",
   "execution_count": null,
   "metadata": {
    "collapsed": true
   },
   "outputs": [],
   "source": []
  }
 ],
 "metadata": {
  "kernelspec": {
   "display_name": "Python [Root]",
   "language": "python",
   "name": "Python [Root]"
  },
  "language_info": {
   "codemirror_mode": {
    "name": "ipython",
    "version": 2
   },
   "file_extension": ".py",
   "mimetype": "text/x-python",
   "name": "python",
   "nbconvert_exporter": "python",
   "pygments_lexer": "ipython2",
   "version": "2.7.11"
  }
 },
 "nbformat": 4,
 "nbformat_minor": 0
}
