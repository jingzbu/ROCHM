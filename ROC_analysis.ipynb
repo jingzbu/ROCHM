{
 "cells": [
  {
   "cell_type": "code",
   "execution_count": 1,
   "metadata": {
    "collapsed": true
   },
   "outputs": [],
   "source": [
    "%run util.py"
   ]
  },
  {
   "cell_type": "code",
   "execution_count": 2,
   "metadata": {
    "collapsed": true
   },
   "outputs": [],
   "source": [
    "# N = 2\n",
    "# N = 3\n",
    "# N = 4\n",
    "N = 5"
   ]
  },
  {
   "cell_type": "code",
   "execution_count": 3,
   "metadata": {
    "collapsed": false
   },
   "outputs": [
    {
     "name": "stderr",
     "output_type": "stream",
     "text": [
      "<string>:372: RuntimeWarning: covariance is not positive-semidefinite.\n"
     ]
    }
   ],
   "source": [
    "# mu_0: the initial distribution; 1 x (N**2) \n",
    "# mu: the actual stationary distribution; 1 x (N**2)\n",
    "# mu_1: the estimated stationary distribution \n",
    "# P: the new transition matrix (the old transition matrix is Q)\n",
    "# G_1: the estimate of the gradient\n",
    "# H_1: the estimate of the Hessian\n",
    "# U_1: an estimated sample path of the Gaussian random vector U; length 1000\n",
    "\n",
    "mu_0, mu, mu_1, P, G_1, H_1, U_1 = ChainGen(N)  # P is the ground truth transition matrix\n",
    "mu_0P, muP, mu_1P, PP, G_1P, H_1P, U_1P = ChainGen(N)  # PP is a different transition matrix for testing purposes\n",
    "zdump([N, mu_0, mu, mu_1, P, G_1, H_1, U_1, mu_0P, muP, mu_1P, PP, G_1P, H_1P, U_1P], 'P_PP_%d.pkz'%N)"
   ]
  },
  {
   "cell_type": "code",
   "execution_count": 4,
   "metadata": {
    "collapsed": true
   },
   "outputs": [],
   "source": [
    "N, mu_0, mu, mu_1, P, G_1, H_1, U_1, mu_0P, muP, mu_1P, PP, G_1P, H_1P, U_1P = zload('P_PP_%d.pkz'%N)"
   ]
  },
  {
   "cell_type": "code",
   "execution_count": 5,
   "metadata": {
    "collapsed": false
   },
   "outputs": [
    {
     "data": {
      "text/plain": [
       "array([ 0.10660043,  0.00231027,  0.04704123,  0.06547432,  0.06812559,\n",
       "        0.03745017,  0.01968823,  0.01652782,  0.00120956,  0.01250604,\n",
       "        0.05314978,  0.02230916,  0.05760089,  0.03141064,  0.06733272,\n",
       "        0.02838846,  0.01168987,  0.03177961,  0.01785273,  0.03688458,\n",
       "        0.06396301,  0.03138428,  0.07885364,  0.010648  ,  0.07981894])"
      ]
     },
     "execution_count": 5,
     "metadata": {},
     "output_type": "execute_result"
    }
   ],
   "source": [
    "mu"
   ]
  },
  {
   "cell_type": "code",
   "execution_count": 6,
   "metadata": {
    "collapsed": false
   },
   "outputs": [
    {
     "data": {
      "text/plain": [
       "array([ 0.09161936,  0.00558646,  0.05463383,  0.05682099,  0.0355681 ,\n",
       "        0.02061594,  0.08870383,  0.04543691,  0.02033458,  0.04632586,\n",
       "        0.04315004,  0.05400554,  0.04432966,  0.0255776 ,  0.05843962,\n",
       "        0.01839541,  0.0556873 ,  0.01958891,  0.00152409,  0.03191358,\n",
       "        0.07044799,  0.01743398,  0.06151314,  0.02285204,  0.00949524])"
      ]
     },
     "execution_count": 6,
     "metadata": {},
     "output_type": "execute_result"
    }
   ],
   "source": [
    "muP"
   ]
  },
  {
   "cell_type": "code",
   "execution_count": 7,
   "metadata": {
    "collapsed": true
   },
   "outputs": [],
   "source": [
    "# n_range = range(20, 50, 10)\n",
    "# n_range = range(30, 90, 20)\n",
    "# n_range = range(40, 130, 30)\n",
    "n_range = range(50, 170, 40)"
   ]
  },
  {
   "cell_type": "code",
   "execution_count": 8,
   "metadata": {
    "collapsed": true
   },
   "outputs": [],
   "source": [
    "num_test_sample = 2000\n",
    "beta_list = list(np.arange(0, 0.2, 0.01)[1:-1]) + list(np.arange(0.2, 1.01, 0.05)[:-1])"
   ]
  },
  {
   "cell_type": "code",
   "execution_count": 9,
   "metadata": {
    "collapsed": false
   },
   "outputs": [
    {
     "data": {
      "text/plain": [
       "[0.01,\n",
       " 0.02,\n",
       " 0.029999999999999999,\n",
       " 0.040000000000000001,\n",
       " 0.050000000000000003,\n",
       " 0.059999999999999998,\n",
       " 0.070000000000000007,\n",
       " 0.080000000000000002,\n",
       " 0.089999999999999997,\n",
       " 0.10000000000000001,\n",
       " 0.11,\n",
       " 0.12,\n",
       " 0.13,\n",
       " 0.14000000000000001,\n",
       " 0.14999999999999999,\n",
       " 0.16,\n",
       " 0.17000000000000001,\n",
       " 0.17999999999999999,\n",
       " 0.20000000000000001,\n",
       " 0.25,\n",
       " 0.29999999999999999,\n",
       " 0.34999999999999998,\n",
       " 0.39999999999999997,\n",
       " 0.44999999999999996,\n",
       " 0.49999999999999994,\n",
       " 0.54999999999999993,\n",
       " 0.59999999999999987,\n",
       " 0.64999999999999991,\n",
       " 0.69999999999999996,\n",
       " 0.74999999999999978,\n",
       " 0.79999999999999982,\n",
       " 0.84999999999999987,\n",
       " 0.89999999999999991,\n",
       " 0.94999999999999973]"
      ]
     },
     "execution_count": 9,
     "metadata": {},
     "output_type": "execute_result"
    }
   ],
   "source": [
    "beta_list"
   ]
  },
  {
   "cell_type": "code",
   "execution_count": 10,
   "metadata": {
    "collapsed": false
   },
   "outputs": [],
   "source": [
    "eta_wc = {}\n",
    "eta_Sanov = {}\n",
    "test_sample = {}\n",
    "for n in n_range:\n",
    "    # Get sample paths of the Markov chain with length n; \n",
    "    # these paths will be the test set\n",
    "    test_sample[str(n)] = []\n",
    "    for idx in range(int(num_test_sample/2)):\n",
    "        test_sample[str(n)].append(chain(mu, P, n))  \n",
    "    for idx in range(int(num_test_sample/2)):\n",
    "        test_sample[str(n)].append(chain(muP, PP, n))  \n",
    "    # Get thresholds for Hoeffding's test corresponding to sample length n    \n",
    "    for beta in beta_list:\n",
    "        key = str(n) + '_' + str(beta)\n",
    "        eta_1 = ThresWeakConv(N, beta, n, mu_0, mu, mu_1, P, G_1, H_1, U_1).ThresCal()\n",
    "        eta_2 = ThresSanov(N, beta, n, mu_0, mu, mu_1, P, G_1, H_1, U_1).ThresCal()\n",
    "        eta_wc[key] = eta_1\n",
    "        eta_Sanov[key] = eta_2\n",
    "zdump([test_sample, eta_wc, eta_Sanov], 'testSample_threshold_%d.pkz'%N)"
   ]
  },
  {
   "cell_type": "code",
   "execution_count": 11,
   "metadata": {
    "collapsed": false
   },
   "outputs": [],
   "source": [
    "test_sample, eta_wc, eta_Sanov = zload('testSample_threshold_%d.pkz'%N)"
   ]
  },
  {
   "cell_type": "code",
   "execution_count": 12,
   "metadata": {
    "collapsed": false
   },
   "outputs": [],
   "source": [
    "from __future__ import division\n",
    "\n",
    "mu = np.reshape(mu, (N, N))\n",
    "\n",
    "TPR_wc = {}\n",
    "FPR_wc = {}\n",
    "TPR_Sanov = {}\n",
    "FPR_Sanov = {}\n",
    "\n",
    "for n in n_range:\n",
    "    for beta in beta_list:\n",
    "        TP_wc = 0\n",
    "        FP_wc = 0\n",
    "        TP_Sanov = 0\n",
    "        FP_Sanov = 0\n",
    "        key = str(n) + '_' + str(beta)\n",
    "        for idx in range(num_test_sample):\n",
    "            KL = KL_est(test_sample[str(n)][idx], mu)\n",
    "            if idx > 1000 and KL > eta_wc[key]:\n",
    "                TP_wc += 1\n",
    "            if idx < 1000 and KL > eta_wc[key]:\n",
    "                FP_wc += 1\n",
    "            if idx > 1000 and KL > eta_Sanov[key]:\n",
    "                TP_Sanov += 1\n",
    "            if idx < 1000 and KL > eta_Sanov[key]:\n",
    "                FP_Sanov += 1\n",
    "        TPR_wc[key] = TP_wc / 1000\n",
    "        FPR_wc[key] = FP_wc / 1000\n",
    "        TPR_Sanov[key] = TP_Sanov / 1000\n",
    "        FPR_Sanov[key] = FP_Sanov / 1000\n",
    "        \n",
    "zdump([TPR_wc, FPR_wc, TPR_Sanov, FPR_Sanov], 'ROCpt_%d.pkz'%N)"
   ]
  },
  {
   "cell_type": "code",
   "execution_count": 13,
   "metadata": {
    "collapsed": false
   },
   "outputs": [],
   "source": [
    "TPR_wc, FPR_wc, TPR_Sanov, FPR_Sanov = zload('ROCpt_%d.pkz'%N)"
   ]
  },
  {
   "cell_type": "code",
   "execution_count": 14,
   "metadata": {
    "collapsed": true
   },
   "outputs": [],
   "source": [
    "TPR_wc_list = {}\n",
    "FPR_wc_list = {}\n",
    "TPR_Sanov_list = {}\n",
    "FPR_Sanov_list = {}\n",
    "        \n",
    "for n in n_range:\n",
    "    TPR_wc_list[str(n)] = []\n",
    "    FPR_wc_list[str(n)] = []\n",
    "    TPR_Sanov_list[str(n)] = []\n",
    "    FPR_Sanov_list[str(n)] = []\n",
    "    TPR_wc_list[str(n)].append(0)\n",
    "    FPR_wc_list[str(n)].append(0)\n",
    "    TPR_Sanov_list[str(n)].append(0)\n",
    "    FPR_Sanov_list[str(n)].append(0)\n",
    "    for beta in beta_list:\n",
    "        key = str(n) + '_' + str(beta)\n",
    "        TPR_wc_list[str(n)].append(TPR_wc[key])\n",
    "        FPR_wc_list[str(n)].append(FPR_wc[key])\n",
    "        TPR_Sanov_list[str(n)].append(TPR_Sanov[key])\n",
    "        FPR_Sanov_list[str(n)].append(FPR_Sanov[key])\n",
    "\n",
    "    TPR_wc_list[str(n)].append(1)\n",
    "    FPR_wc_list[str(n)].append(1)\n",
    "    TPR_Sanov_list[str(n)].append(1)\n",
    "    FPR_Sanov_list[str(n)].append(1)"
   ]
  },
  {
   "cell_type": "code",
   "execution_count": 15,
   "metadata": {
    "collapsed": false
   },
   "outputs": [
    {
     "name": "stderr",
     "output_type": "stream",
     "text": [
      "/home/jzh/anaconda2/lib/python2.7/site-packages/matplotlib/font_manager.py:1288: UserWarning: findfont: Font family [u'normal'] not found. Falling back to Bitstream Vera Sans\n",
      "  (prop.get_family(), self.defaultFamily[fontext]))\n"
     ]
    },
    {
     "data": {
      "image/png": "[encoded data removed]",
      "text/plain": [
       "<matplotlib.figure.Figure at 0x7f803a6a9e10>"
      ]
     },
     "metadata": {},
     "output_type": "display_data"
    }
   ],
   "source": [
    "import matplotlib.pyplot as plt\n",
    "import pylab\n",
    "from pylab import *\n",
    "%matplotlib inline  \n",
    "\n",
    "ROC_WC_list = []\n",
    "ROC_Sanov_list = []\n",
    "style_list = ['b-', 'g-', 'r-', 'c-', 'm-', 'y-']\n",
    "idx = 0\n",
    "\n",
    "font = {'family' : 'normal',\n",
    "        'weight' : 'normal',\n",
    "        'size'   : 24}\n",
    "\n",
    "plt.figure(figsize=(15,9))\n",
    "\n",
    "matplotlib.rc('font', **font)\n",
    "\n",
    "pylab.xlim(-0.1, 1.15)\n",
    "pylab.ylim(-0.1, 1.1)\n",
    "\n",
    "for n in n_range:\n",
    "    ROC_WC_list.append(plt.plot(FPR_wc_list[str(n)], TPR_wc_list[str(n)], style_list[idx], linewidth=3))\n",
    "    ROC_Sanov_list.append(plt.plot(FPR_Sanov_list[str(n)], TPR_Sanov_list[str(n)], style_list[idx+1], linewidth=3))\n",
    "    idx += 2\n",
    "\n",
    "legend_list_1 = []\n",
    "legend_list_2 = []\n",
    "legend_list_1.append(ROC_WC_list)\n",
    "legend_list_1.append(ROC_Sanov_list)\n",
    "legend_list_1 = list(np.array(legend_list_1).ravel())\n",
    "\n",
    "for n in n_range:\n",
    "    legend_list_2.append(\"$\\eta_n^{wc}$; $n=%d$\"%n)\n",
    "for n in n_range:\n",
    "    legend_list_2.append(\"$\\eta_n^{sv}$; $n=%d$\"%n)\n",
    "plt.legend(legend_list_1, legend_list_2, ncol=2, loc=4)\n",
    "plt.xlabel('False Positive Rate')\n",
    "plt.ylabel('True Positive Rate')\n",
    "# plt.grid()\n",
    "\n",
    "\n",
    "savefig('ROC_%d.eps'%N)\n",
    "\n",
    "plt.show()"
   ]
  },
  {
   "cell_type": "code",
   "execution_count": null,
   "metadata": {
    "collapsed": true
   },
   "outputs": [],
   "source": []
  }
 ],
 "metadata": {
  "kernelspec": {
   "display_name": "Python 2",
   "language": "python",
   "name": "python2"
  },
  "language_info": {
   "codemirror_mode": {
    "name": "ipython",
    "version": 2
   },
   "file_extension": ".py",
   "mimetype": "text/x-python",
   "name": "python",
   "nbconvert_exporter": "python",
   "pygments_lexer": "ipython2",
   "version": "2.7.12"
  }
 },
 "nbformat": 4,
 "nbformat_minor": 0
}
