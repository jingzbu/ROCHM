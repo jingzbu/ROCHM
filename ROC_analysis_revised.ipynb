{
 "cells": [
  {
   "cell_type": "code",
   "execution_count": 1,
   "metadata": {
    "collapsed": true
   },
   "outputs": [],
   "source": [
    "%run util.py"
   ]
  },
  {
   "cell_type": "code",
   "execution_count": 2,
   "metadata": {
    "collapsed": true
   },
   "outputs": [],
   "source": [
    "N = 8"
   ]
  },
  {
   "cell_type": "code",
   "execution_count": 3,
   "metadata": {
    "collapsed": false
   },
   "outputs": [
    {
     "name": "stderr",
     "output_type": "stream",
     "text": [
      "<string>:372: RuntimeWarning: covariance is not positive-semidefinite.\n"
     ]
    }
   ],
   "source": [
    "# mu_0: the initial distribution; 1 x (N**2) \n",
    "# mu: the actual stationary distribution; 1 x (N**2)\n",
    "# mu_1: the estimated stationary distribution \n",
    "# P: the new transition matrix (the old transition matrix is Q)\n",
    "# G_1: the estimate of the gradient\n",
    "# H_1: the estimate of the Hessian\n",
    "# U_1: an estimated sample path of the Gaussian random vector U; length 1000\n",
    "\n",
    "# P is the ground truth transition matrix\n",
    "mu_0, mu, mu_1, P, G_1, H_1, U_1 = ChainGen(N)  \n",
    "\n",
    "# PP is a different transition matrix for testing purposes\n",
    "mu_0P, muP, mu_1P, PP, G_1P, H_1P, U_1P = ChainGen(N) \n",
    "\n",
    "zdump([N, mu_0, mu, mu_1, P, G_1, H_1, U_1, mu_0P, muP, mu_1P, PP, G_1P, H_1P, U_1P], 'P_PP_%d.pkz'%N)"
   ]
  },
  {
   "cell_type": "code",
   "execution_count": 4,
   "metadata": {
    "collapsed": true
   },
   "outputs": [],
   "source": [
    "N, mu_0, mu, mu_1, P, G_1, H_1, U_1, mu_0P, muP, mu_1P, PP, G_1P, H_1P, U_1P = zload('P_PP_%d.pkz'%N)"
   ]
  },
  {
   "cell_type": "code",
   "execution_count": 5,
   "metadata": {
    "collapsed": false
   },
   "outputs": [
    {
     "data": {
      "text/plain": [
       "array([ 0.00699043,  0.00411895,  0.00678732,  0.03139874,  0.02828114,\n",
       "        0.00061826,  0.01178882,  0.03272836,  0.02678414,  0.01551012,\n",
       "        0.00218711,  0.01934473,  0.00950227,  0.00716233,  0.00367974,\n",
       "        0.02842173,  0.00321769,  0.00338958,  0.00683556,  0.00692007,\n",
       "        0.04550438,  0.04678903,  0.01001129,  0.00229244,  0.0035988 ,\n",
       "        0.01766925,  0.01326857,  0.0323964 ,  0.00854965,  0.05806729,\n",
       "        0.00360254,  0.00652954,  0.02402636,  0.00139287,  0.05347916,\n",
       "        0.01386873,  0.00154609,  0.00256897,  0.03154226,  0.00135665,\n",
       "        0.0021854 ,  0.05229036,  0.00898963,  0.00166357,  0.03438103,\n",
       "        0.0084093 ,  0.00201562,  0.0270418 ,  0.02108852,  0.0153773 ,\n",
       "        0.01454852,  0.02292035,  0.00182174,  0.00789409,  0.00352711,\n",
       "        0.02076364,  0.03482068,  0.00284374,  0.01886418,  0.01516945,\n",
       "        0.00019479,  0.00546743,  0.04177387,  0.00222053])"
      ]
     },
     "execution_count": 5,
     "metadata": {},
     "output_type": "execute_result"
    }
   ],
   "source": [
    "mu"
   ]
  },
  {
   "cell_type": "code",
   "execution_count": 6,
   "metadata": {
    "collapsed": false
   },
   "outputs": [
    {
     "data": {
      "text/plain": [
       "array([ 0.01470634,  0.01068617,  0.01431443,  0.0135199 ,  0.0026232 ,\n",
       "        0.01478612,  0.02843771,  0.01486965,  0.00095215,  0.00202418,\n",
       "        0.03489352,  0.02160758,  0.00108779,  0.01462749,  0.00637518,\n",
       "        0.022364  ,  0.00289965,  0.01156694,  0.01762468,  0.02407795,\n",
       "        0.00587934,  0.02050496,  0.01893109,  0.02062336,  0.00911527,\n",
       "        0.00827931,  0.00884013,  0.01302591,  0.02792886,  0.00830759,\n",
       "        0.03038647,  0.00079317,  0.01557893,  0.0057478 ,  0.01692182,\n",
       "        0.00361312,  0.02487501,  0.0004113 ,  0.0052701 ,  0.02799968,\n",
       "        0.0123316 ,  0.02760442,  0.01257238,  0.0093392 ,  0.02456269,\n",
       "        0.03460655,  0.00057059,  0.03387043,  0.00507845,  0.00120899,\n",
       "        0.00705124,  0.01703762,  0.01208869,  0.04125987,  0.0167433 ,\n",
       "        0.01846476,  0.05328114,  0.0368141 ,  0.00988975,  0.00445542,\n",
       "        0.00137219,  0.02095397,  0.01221849,  0.03954631])"
      ]
     },
     "execution_count": 6,
     "metadata": {},
     "output_type": "execute_result"
    }
   ],
   "source": [
    "muP"
   ]
  },
  {
   "cell_type": "code",
   "execution_count": 7,
   "metadata": {
    "collapsed": true
   },
   "outputs": [],
   "source": [
    "n = 200\n",
    "beta_1 = 0.2"
   ]
  },
  {
   "cell_type": "code",
   "execution_count": 8,
   "metadata": {
    "collapsed": true
   },
   "outputs": [],
   "source": [
    "num_test_sample = 2000"
   ]
  },
  {
   "cell_type": "code",
   "execution_count": 9,
   "metadata": {
    "collapsed": false
   },
   "outputs": [],
   "source": [
    "eta_wc = {}\n",
    "eta_Sanov = {}\n",
    "negative_sample = {}\n",
    "positive_sample = {}\n",
    "\n",
    "# Get sample paths of the Markov chain with length n; \n",
    "# these paths will be the test set\n",
    "for idx in range(int(num_test_sample/2)):\n",
    "    negative_sample[idx] = chain(mu, P, n)\n",
    "for idx in range(int(num_test_sample/2)):\n",
    "    positive_sample[idx] = chain(muP, PP, n)\n",
    "    \n",
    "# Get thresholds for Hoeffding's test corresponding to sample length n    \n",
    "key = str(n) + '_' + str(beta_1)\n",
    "eta_1 = ThresWeakConv(N, beta_1, n, mu_0, mu, mu_1, P, G_1, H_1, U_1).ThresCal()\n",
    "eta_2 = ThresSanov(N, beta_1, n, mu_0, mu, mu_1, P, G_1, H_1, U_1).ThresCal()\n",
    "eta_wc[key] = eta_1\n",
    "eta_Sanov[key] = eta_2\n",
    "\n",
    "zdump([negative_sample, positive_sample, eta_wc, eta_Sanov], 'testSample_threshold_%d.pkz'%N)"
   ]
  },
  {
   "cell_type": "code",
   "execution_count": 10,
   "metadata": {
    "collapsed": false
   },
   "outputs": [],
   "source": [
    "negative_sample, positive_sample, eta_wc, eta_Sanov = zload('testSample_threshold_%d.pkz'%N)"
   ]
  },
  {
   "cell_type": "code",
   "execution_count": 11,
   "metadata": {
    "collapsed": false
   },
   "outputs": [
    {
     "data": {
      "text/plain": [
       "(200, {'200_0.2': 0.1629514243541629}, {'200_0.2': 0.0080471895621705})"
      ]
     },
     "execution_count": 11,
     "metadata": {},
     "output_type": "execute_result"
    }
   ],
   "source": [
    "len(negative_sample[0]), eta_wc, eta_Sanov"
   ]
  },
  {
   "cell_type": "code",
   "execution_count": 12,
   "metadata": {
    "collapsed": false
   },
   "outputs": [],
   "source": [
    "from __future__ import division\n",
    "\n",
    "mu = np.reshape(mu, (N, N))\n",
    "\n",
    "key = str(n) + '_' + str(beta_1)\n",
    "\n",
    "negative_sample_KL = {}\n",
    "positive_sample_KL = {}\n",
    "\n",
    "negative_sample_wc = {}\n",
    "negative_sample_sv = {}\n",
    "\n",
    "positive_sample_wc = {}\n",
    "positive_sample_sv = {}\n",
    "\n",
    "for idx in range(int(num_test_sample/2)):\n",
    "    negative_sample_KL[idx] = KL_est(negative_sample[idx], mu)\n",
    "    if negative_sample_KL[idx] > eta_wc[key]:\n",
    "        negative_sample_wc[idx] = 1\n",
    "    else:\n",
    "        negative_sample_wc[idx] = -1\n",
    "    if negative_sample_KL[idx] > eta_Sanov[key]:\n",
    "        negative_sample_sv[idx] = 1\n",
    "    else:\n",
    "        negative_sample_sv[idx] = -1    \n",
    "    \n",
    "    \n",
    "for idx in range(int(num_test_sample/2)):\n",
    "    positive_sample_KL[idx] = KL_est(positive_sample[idx], mu)\n",
    "    if positive_sample_KL[idx] > eta_wc[key]:\n",
    "        positive_sample_wc[idx] = 1\n",
    "    else:\n",
    "        positive_sample_wc[idx] = -1\n",
    "    if positive_sample_KL[idx] > eta_Sanov[key]:\n",
    "        positive_sample_sv[idx] = 1\n",
    "    else:\n",
    "        positive_sample_sv[idx] = -1 "
   ]
  },
  {
   "cell_type": "code",
   "execution_count": 13,
   "metadata": {
    "collapsed": true
   },
   "outputs": [],
   "source": [
    "def count_one(x):\n",
    "    s = 0\n",
    "    for idx in range(len(x)):\n",
    "        if x[idx] == 1:\n",
    "            s += 1\n",
    "    return s, len(x) - s"
   ]
  },
  {
   "cell_type": "code",
   "execution_count": 14,
   "metadata": {
    "collapsed": false
   },
   "outputs": [
    {
     "data": {
      "text/plain": [
       "[1.0]"
      ]
     },
     "execution_count": 14,
     "metadata": {},
     "output_type": "execute_result"
    }
   ],
   "source": [
    "positive_sample_len_list = range(10, 1000, 10)\n",
    "\n",
    "TPR_wc = []\n",
    "\n",
    "for real_pos in positive_sample_len_list:\n",
    "    x = [positive_sample_wc[idx] for idx in range(real_pos)]\n",
    "    s, _ = count_one(x)\n",
    "    TPR_wc.append(s / real_pos)\n",
    "    \n",
    "# TPR_wc.append(0)\n",
    "# TPR_wc.append(1)\n",
    "\n",
    "TPR_wc = list(set(TPR_wc))\n",
    "\n",
    "TPR_wc.sort()\n",
    "TPR_wc"
   ]
  },
  {
   "cell_type": "code",
   "execution_count": 15,
   "metadata": {
    "collapsed": false
   },
   "outputs": [
    {
     "data": {
      "text/plain": [
       "[0.1,\n",
       " 0.13333333333333333,\n",
       " 0.14,\n",
       " 0.14444444444444443,\n",
       " 0.15,\n",
       " 0.15454545454545454,\n",
       " 0.15833333333333333,\n",
       " 0.16,\n",
       " 0.16923076923076924,\n",
       " 0.17142857142857143,\n",
       " 0.175,\n",
       " 0.17777777777777778,\n",
       " 0.1793103448275862,\n",
       " 0.18076923076923077,\n",
       " 0.18333333333333332,\n",
       " 0.184,\n",
       " 0.18636363636363637,\n",
       " 0.18666666666666668,\n",
       " 0.1870967741935484,\n",
       " 0.1875,\n",
       " 0.18787878787878787,\n",
       " 0.18823529411764706,\n",
       " 0.19,\n",
       " 0.19047619047619047,\n",
       " 0.190625,\n",
       " 0.19130434782608696,\n",
       " 0.19166666666666668,\n",
       " 0.19411764705882353,\n",
       " 0.19428571428571428,\n",
       " 0.19444444444444445,\n",
       " 0.19473684210526315,\n",
       " 0.19736842105263158,\n",
       " 0.2,\n",
       " 0.205,\n",
       " 0.20666666666666667,\n",
       " 0.20681818181818182,\n",
       " 0.20833333333333334,\n",
       " 0.20869565217391303,\n",
       " 0.2097560975609756,\n",
       " 0.21063829787234042,\n",
       " 0.21132075471698114,\n",
       " 0.2116279069767442,\n",
       " 0.211864406779661,\n",
       " 0.2125,\n",
       " 0.21272727272727274,\n",
       " 0.21323529411764705,\n",
       " 0.2140625,\n",
       " 0.21428571428571427,\n",
       " 0.21475409836065573,\n",
       " 0.21481481481481482,\n",
       " 0.2153846153846154,\n",
       " 0.21551724137931033,\n",
       " 0.21578947368421053,\n",
       " 0.21594202898550724,\n",
       " 0.21607142857142858,\n",
       " 0.2161290322580645,\n",
       " 0.2163265306122449,\n",
       " 0.21641791044776118,\n",
       " 0.21666666666666667,\n",
       " 0.21690140845070421,\n",
       " 0.21714285714285714,\n",
       " 0.21764705882352942,\n",
       " 0.21780821917808219,\n",
       " 0.218,\n",
       " 0.21805555555555556,\n",
       " 0.22027027027027027,\n",
       " 0.22266666666666668,\n",
       " 0.22346938775510203,\n",
       " 0.2236842105263158,\n",
       " 0.22371134020618558,\n",
       " 0.22395833333333334,\n",
       " 0.22424242424242424,\n",
       " 0.22631578947368422,\n",
       " 0.22658227848101264,\n",
       " 0.22727272727272727,\n",
       " 0.2275,\n",
       " 0.22777777777777777,\n",
       " 0.22808988764044943,\n",
       " 0.2282051282051282,\n",
       " 0.22840909090909092,\n",
       " 0.22872340425531915,\n",
       " 0.22873563218390805,\n",
       " 0.2289156626506024,\n",
       " 0.22903225806451613,\n",
       " 0.22906976744186047,\n",
       " 0.22941176470588234,\n",
       " 0.22962962962962963,\n",
       " 0.22967032967032966,\n",
       " 0.22976190476190475,\n",
       " 0.23043478260869565,\n",
       " 0.2304878048780488]"
      ]
     },
     "execution_count": 15,
     "metadata": {},
     "output_type": "execute_result"
    }
   ],
   "source": [
    "negative_sample_len_list = range(10, 1000, 10)\n",
    "\n",
    "FPR_wc = []\n",
    "\n",
    "for real_neg in negative_sample_len_list:\n",
    "    x = [negative_sample_wc[idx] for idx in range(real_neg)]\n",
    "    s, _ = count_one(x)\n",
    "    FPR_wc.append(s / real_neg)\n",
    "\n",
    "# FPR_wc.append(0)\n",
    "# FPR_wc.append(1)\n",
    "\n",
    "FPR_wc = list(set(FPR_wc))\n",
    "\n",
    "FPR_wc.sort()\n",
    "FPR_wc"
   ]
  },
  {
   "cell_type": "code",
   "execution_count": 16,
   "metadata": {
    "collapsed": false
   },
   "outputs": [
    {
     "data": {
      "text/plain": [
       "[100, 200, 300, 400, 500, 600, 700, 800, 900, 1000]"
      ]
     },
     "execution_count": 16,
     "metadata": {},
     "output_type": "execute_result"
    }
   ],
   "source": [
    "range(100, 1100, 100)"
   ]
  },
  {
   "cell_type": "code",
   "execution_count": 17,
   "metadata": {
    "collapsed": false
   },
   "outputs": [
    {
     "data": {
      "text/plain": [
       "[1.0]"
      ]
     },
     "execution_count": 17,
     "metadata": {},
     "output_type": "execute_result"
    }
   ],
   "source": [
    "positive_sample_len_list = range(10, 1000, 10)\n",
    "\n",
    "TPR_sv = []\n",
    "\n",
    "for real_pos in positive_sample_len_list:\n",
    "    x = [positive_sample_sv[idx] for idx in range(real_pos)]\n",
    "    s, _ = count_one(x)\n",
    "    TPR_sv.append(s / real_pos)\n",
    "\n",
    "# TPR_sv.append(0)\n",
    "# TPR_sv.append(1)\n",
    "\n",
    "TPR_sv = list(set(TPR_sv))\n",
    "\n",
    "TPR_sv.sort()\n",
    "TPR_sv"
   ]
  },
  {
   "cell_type": "code",
   "execution_count": 18,
   "metadata": {
    "collapsed": false
   },
   "outputs": [
    {
     "data": {
      "text/plain": [
       "[1.0]"
      ]
     },
     "execution_count": 18,
     "metadata": {},
     "output_type": "execute_result"
    }
   ],
   "source": [
    "negative_sample_len_list = range(10, 1000, 10)\n",
    "\n",
    "FPR_sv = []\n",
    "\n",
    "for real_neg in negative_sample_len_list:\n",
    "    x = [negative_sample_sv[idx] for idx in range(real_neg)]\n",
    "    s, _ = count_one(x)\n",
    "    FPR_sv.append(s / real_neg)\n",
    "\n",
    "# FPR_sv.append(0)\n",
    "# FPR_sv.append(1)\n",
    "\n",
    "FPR_sv = list(set(FPR_sv))\n",
    "\n",
    "FPR_sv.sort()\n",
    "FPR_sv"
   ]
  },
  {
   "cell_type": "code",
   "execution_count": 19,
   "metadata": {
    "collapsed": false
   },
   "outputs": [],
   "source": [
    "if len(TPR_sv) < len(FPR_sv):\n",
    "    TPR_sv_ext = TPR_sv + [TPR_sv[-1]] * (len(FPR_sv) - len(TPR_sv))\n",
    "else:\n",
    "    TPR_sv_ext = TPR_sv[0:len(FPR_sv)]"
   ]
  },
  {
   "cell_type": "code",
   "execution_count": 20,
   "metadata": {
    "collapsed": false
   },
   "outputs": [],
   "source": [
    "if len(TPR_wc) < len(FPR_wc):\n",
    "    TPR_wc_ext = TPR_wc + [TPR_wc[-1]] * (len(FPR_wc) - len(TPR_wc))\n",
    "else:\n",
    "    TPR_wc_ext = TPR_wc[0:len(FPR_wc)]"
   ]
  },
  {
   "cell_type": "code",
   "execution_count": 21,
   "metadata": {
    "collapsed": false
   },
   "outputs": [],
   "source": [
    "roc_sv_pts = [(s, t) for s, t in zip(FPR_sv, TPR_sv_ext)]"
   ]
  },
  {
   "cell_type": "code",
   "execution_count": 22,
   "metadata": {
    "collapsed": true
   },
   "outputs": [],
   "source": [
    "roc_wc_pts = [(s, t) for s, t in zip(FPR_wc, TPR_wc_ext)]"
   ]
  },
  {
   "cell_type": "code",
   "execution_count": 23,
   "metadata": {
    "collapsed": false
   },
   "outputs": [
    {
     "data": {
      "text/plain": [
       "(91, 91, 91)"
      ]
     },
     "execution_count": 23,
     "metadata": {},
     "output_type": "execute_result"
    }
   ],
   "source": [
    "len(FPR_wc), len(TPR_wc_ext), len(roc_wc_pts)"
   ]
  },
  {
   "cell_type": "code",
   "execution_count": 24,
   "metadata": {
    "collapsed": false
   },
   "outputs": [
    {
     "data": {
      "text/plain": [
       "([(1.0, 1.0)],\n",
       " [(0.1, 1.0),\n",
       "  (0.13333333333333333, 1.0),\n",
       "  (0.14, 1.0),\n",
       "  (0.14444444444444443, 1.0),\n",
       "  (0.15, 1.0),\n",
       "  (0.15454545454545454, 1.0),\n",
       "  (0.15833333333333333, 1.0),\n",
       "  (0.16, 1.0),\n",
       "  (0.16923076923076924, 1.0),\n",
       "  (0.17142857142857143, 1.0),\n",
       "  (0.175, 1.0),\n",
       "  (0.17777777777777778, 1.0),\n",
       "  (0.1793103448275862, 1.0),\n",
       "  (0.18076923076923077, 1.0),\n",
       "  (0.18333333333333332, 1.0),\n",
       "  (0.184, 1.0),\n",
       "  (0.18636363636363637, 1.0),\n",
       "  (0.18666666666666668, 1.0),\n",
       "  (0.1870967741935484, 1.0),\n",
       "  (0.1875, 1.0),\n",
       "  (0.18787878787878787, 1.0),\n",
       "  (0.18823529411764706, 1.0),\n",
       "  (0.19, 1.0),\n",
       "  (0.19047619047619047, 1.0),\n",
       "  (0.190625, 1.0),\n",
       "  (0.19130434782608696, 1.0),\n",
       "  (0.19166666666666668, 1.0),\n",
       "  (0.19411764705882353, 1.0),\n",
       "  (0.19428571428571428, 1.0),\n",
       "  (0.19444444444444445, 1.0),\n",
       "  (0.19473684210526315, 1.0),\n",
       "  (0.19736842105263158, 1.0),\n",
       "  (0.2, 1.0),\n",
       "  (0.205, 1.0),\n",
       "  (0.20666666666666667, 1.0),\n",
       "  (0.20681818181818182, 1.0),\n",
       "  (0.20833333333333334, 1.0),\n",
       "  (0.20869565217391303, 1.0),\n",
       "  (0.2097560975609756, 1.0),\n",
       "  (0.21063829787234042, 1.0),\n",
       "  (0.21132075471698114, 1.0),\n",
       "  (0.2116279069767442, 1.0),\n",
       "  (0.211864406779661, 1.0),\n",
       "  (0.2125, 1.0),\n",
       "  (0.21272727272727274, 1.0),\n",
       "  (0.21323529411764705, 1.0),\n",
       "  (0.2140625, 1.0),\n",
       "  (0.21428571428571427, 1.0),\n",
       "  (0.21475409836065573, 1.0),\n",
       "  (0.21481481481481482, 1.0),\n",
       "  (0.2153846153846154, 1.0),\n",
       "  (0.21551724137931033, 1.0),\n",
       "  (0.21578947368421053, 1.0),\n",
       "  (0.21594202898550724, 1.0),\n",
       "  (0.21607142857142858, 1.0),\n",
       "  (0.2161290322580645, 1.0),\n",
       "  (0.2163265306122449, 1.0),\n",
       "  (0.21641791044776118, 1.0),\n",
       "  (0.21666666666666667, 1.0),\n",
       "  (0.21690140845070421, 1.0),\n",
       "  (0.21714285714285714, 1.0),\n",
       "  (0.21764705882352942, 1.0),\n",
       "  (0.21780821917808219, 1.0),\n",
       "  (0.218, 1.0),\n",
       "  (0.21805555555555556, 1.0),\n",
       "  (0.22027027027027027, 1.0),\n",
       "  (0.22266666666666668, 1.0),\n",
       "  (0.22346938775510203, 1.0),\n",
       "  (0.2236842105263158, 1.0),\n",
       "  (0.22371134020618558, 1.0),\n",
       "  (0.22395833333333334, 1.0),\n",
       "  (0.22424242424242424, 1.0),\n",
       "  (0.22631578947368422, 1.0),\n",
       "  (0.22658227848101264, 1.0),\n",
       "  (0.22727272727272727, 1.0),\n",
       "  (0.2275, 1.0),\n",
       "  (0.22777777777777777, 1.0),\n",
       "  (0.22808988764044943, 1.0),\n",
       "  (0.2282051282051282, 1.0),\n",
       "  (0.22840909090909092, 1.0),\n",
       "  (0.22872340425531915, 1.0),\n",
       "  (0.22873563218390805, 1.0),\n",
       "  (0.2289156626506024, 1.0),\n",
       "  (0.22903225806451613, 1.0),\n",
       "  (0.22906976744186047, 1.0),\n",
       "  (0.22941176470588234, 1.0),\n",
       "  (0.22962962962962963, 1.0),\n",
       "  (0.22967032967032966, 1.0),\n",
       "  (0.22976190476190475, 1.0),\n",
       "  (0.23043478260869565, 1.0),\n",
       "  (0.2304878048780488, 1.0)])"
      ]
     },
     "execution_count": 24,
     "metadata": {},
     "output_type": "execute_result"
    }
   ],
   "source": [
    "roc_sv_pts, roc_wc_pts"
   ]
  },
  {
   "cell_type": "code",
   "execution_count": 25,
   "metadata": {
    "collapsed": false
   },
   "outputs": [
    {
     "name": "stderr",
     "output_type": "stream",
     "text": [
      "/home/jzh/anaconda2/lib/python2.7/site-packages/matplotlib/font_manager.py:1288: UserWarning: findfont: Font family [u'normal'] not found. Falling back to Bitstream Vera Sans\n",
      "  (prop.get_family(), self.defaultFamily[fontext]))\n"
     ]
    },
    {
     "data": {
      "image/png": "[encoded data removed]",
      "text/plain": [
       "<matplotlib.figure.Figure at 0x7f431d0b9c50>"
      ]
     },
     "metadata": {},
     "output_type": "display_data"
    }
   ],
   "source": [
    "import matplotlib.pyplot as plt\n",
    "import pylab\n",
    "from pylab import *\n",
    "%matplotlib inline  \n",
    "\n",
    "font = {'family' : 'normal',\n",
    "        'weight' : 'normal',\n",
    "        'size'   : 20}\n",
    "\n",
    "plt.figure(figsize=(7, 5))\n",
    "\n",
    "matplotlib.rc('font', **font)\n",
    "\n",
    "roc_sv, = plt.plot([0] + [roc_sv_pts[idx][0] for idx in range(len(roc_sv_pts))] + [1], \\\n",
    "                   [0] + [roc_sv_pts[idx][1] for idx in range(len(roc_sv_pts))] + [1], \"g-^\", linewidth=2.5, \\\n",
    "                   markersize=6)\n",
    "roc_wc, = plt.plot([0] + [roc_wc_pts[idx][0] for idx in range(len(roc_wc_pts))] + [1], \\\n",
    "                   [0] + [roc_wc_pts[idx][1] for idx in range(len(roc_wc_pts))] + [1], \"b-s\", linewidth=2.5, \\\n",
    "                  markersize=6)\n",
    "\n",
    "plt.legend([roc_sv, roc_wc], [r\"HTSV\", r\"HTWC\"], loc=4)\n",
    "plt.title(r\"$\\beta = %s, N = %s, n = %s$\"%(beta_1, N, n))\n",
    "# plt.xticks(N_list)\n",
    "\n",
    "pylab.xlim(-0.05, 1.05)\n",
    "pylab.ylim(-0.05, 1.05)\n",
    "\n",
    "plt.xlabel('False Positive Rate')\n",
    "plt.ylabel('True Positive Rate')\n",
    "# plt.grid()\n",
    "\n",
    "\n",
    "savefig('ROC_N_%s_n_%s.eps'%(N, n))\n",
    "\n",
    "plt.show()"
   ]
  },
  {
   "cell_type": "code",
   "execution_count": null,
   "metadata": {
    "collapsed": true
   },
   "outputs": [],
   "source": []
  }
 ],
 "metadata": {
  "anaconda-cloud": {},
  "kernelspec": {
   "display_name": "Python [default]",
   "language": "python",
   "name": "python2"
  },
  "language_info": {
   "codemirror_mode": {
    "name": "ipython",
    "version": 2
   },
   "file_extension": ".py",
   "mimetype": "text/x-python",
   "name": "python",
   "nbconvert_exporter": "python",
   "pygments_lexer": "ipython2",
   "version": "2.7.12"
  }
 },
 "nbformat": 4,
 "nbformat_minor": 0
}
