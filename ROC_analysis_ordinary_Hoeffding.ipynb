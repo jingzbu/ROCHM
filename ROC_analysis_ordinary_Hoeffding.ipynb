{
 "cells": [
  {
   "cell_type": "code",
   "execution_count": 1,
   "metadata": {
    "collapsed": true
   },
   "outputs": [],
   "source": [
    "%run util.py"
   ]
  },
  {
   "cell_type": "code",
   "execution_count": 2,
   "metadata": {
    "collapsed": true
   },
   "outputs": [],
   "source": [
    "data_dir = '/home/jzh/Dropbox/Research/Anomaly_Detection/ROCHM/data_dir/'"
   ]
  },
  {
   "cell_type": "code",
   "execution_count": 3,
   "metadata": {
    "collapsed": true
   },
   "outputs": [],
   "source": [
    "N = 8"
   ]
  },
  {
   "cell_type": "code",
   "execution_count": 4,
   "metadata": {
    "collapsed": false
   },
   "outputs": [
    {
     "name": "stderr",
     "output_type": "stream",
     "text": [
      "<string>:372: RuntimeWarning: covariance is not positive-semidefinite.\n"
     ]
    }
   ],
   "source": [
    "# mu_0: the initial distribution; 1 x (N**2) \n",
    "# mu: the actual stationary distribution; 1 x (N**2)\n",
    "# mu_1: the estimated stationary distribution \n",
    "# P: the new transition matrix (the old transition matrix is Q)\n",
    "# G_1: the estimate of the gradient\n",
    "# H_1: the estimate of the Hessian\n",
    "# U_1: an estimated sample path of the Gaussian random vector U; length 1000\n",
    "\n",
    "# P is the ground truth transition matrix\n",
    "mu_0, mu, mu_1, P, G_1, H_1, U_1 = ChainGen(N)  \n",
    "\n",
    "# PP is a different transition matrix for testing purposes\n",
    "mu_0P, muP, mu_1P, PP, G_1P, H_1P, U_1P = ChainGen(N) \n",
    "\n",
    "zdump([N, mu_0, mu, mu_1, P, G_1, H_1, U_1, mu_0P, muP, mu_1P, PP, G_1P, H_1P, U_1P], \\\n",
    "      data_dir + 'P_PP_%d.pkz'%N)"
   ]
  },
  {
   "cell_type": "code",
   "execution_count": 5,
   "metadata": {
    "collapsed": true
   },
   "outputs": [],
   "source": [
    "N, mu_0, mu, mu_1, P, G_1, H_1, U_1, mu_0P, muP, mu_1P, PP, G_1P, H_1P, U_1P = zload(data_dir + 'P_PP_%d.pkz'%N)"
   ]
  },
  {
   "cell_type": "code",
   "execution_count": 6,
   "metadata": {
    "collapsed": false
   },
   "outputs": [
    {
     "data": {
      "text/plain": [
       "array([ 0.00212526,  0.01915574,  0.00518382,  0.02123539,  0.00115777,\n",
       "        0.01489606,  0.02063686,  0.00739309,  0.02792459,  0.03411852,\n",
       "        0.00537878,  0.01556394,  0.02268647,  0.00462597,  0.03559273,\n",
       "        0.01786708,  0.00761418,  0.0492162 ,  0.05009707,  0.00588097,\n",
       "        0.00907629,  0.01771465,  0.00473524,  0.0303655 ,  0.00983005,\n",
       "        0.00692179,  0.00586676,  0.00981818,  0.02207905,  0.01902703,\n",
       "        0.01321478,  0.00942148,  0.00265643,  0.03340561,  0.00855799,\n",
       "        0.00178932,  0.00721895,  0.02360554,  0.00078407,  0.0053469 ,\n",
       "        0.02142189,  0.00748639,  0.0291365 ,  0.01577506,  0.00589191,\n",
       "        0.00439712,  0.00327651,  0.06263106,  0.00308794,  0.00849487,\n",
       "        0.02934827,  0.0030242 ,  0.00398225,  0.0429937 ,  0.0006191 ,\n",
       "        0.00060161,  0.01712367,  0.00495895,  0.04113092,  0.02309205,\n",
       "        0.0112721 ,  0.02275637,  0.01329265,  0.01441883])"
      ]
     },
     "execution_count": 6,
     "metadata": {},
     "output_type": "execute_result"
    }
   ],
   "source": [
    "mu"
   ]
  },
  {
   "cell_type": "code",
   "execution_count": 7,
   "metadata": {
    "collapsed": false
   },
   "outputs": [
    {
     "data": {
      "text/plain": [
       "array([ 0.00087533,  0.02749579,  0.02761133,  0.00203952,  0.0167732 ,\n",
       "        0.01462217,  0.00680982,  0.00761414,  0.01574233,  0.00328237,\n",
       "        0.01786833,  0.00261992,  0.01686639,  0.01879117,  0.00307924,\n",
       "        0.04362312,  0.00286653,  0.02022794,  0.00864219,  0.02314051,\n",
       "        0.00168083,  0.0027547 ,  0.05152436,  0.00274106,  0.01464743,\n",
       "        0.01106941,  0.01236004,  0.00510011,  0.0175267 ,  0.00067135,\n",
       "        0.00431794,  0.00241719,  0.01652349,  0.0188415 ,  0.00392861,\n",
       "        0.00860634,  0.04918406,  0.03583127,  0.03212726,  0.00706039,\n",
       "        0.02128814,  0.01205756,  0.02256261,  0.01945641,  0.00339388,\n",
       "        0.00125678,  0.02209471,  0.01358354,  0.02016059,  0.02433522,\n",
       "        0.0154054 ,  0.00302708,  0.03166763,  0.02322846,  0.01469619,\n",
       "        0.04072926,  0.01173746,  0.00456309,  0.00519962,  0.00412028,\n",
       "        0.03501023,  0.01853772,  0.0386003 ,  0.01378245])"
      ]
     },
     "execution_count": 7,
     "metadata": {},
     "output_type": "execute_result"
    }
   ],
   "source": [
    "muP"
   ]
  },
  {
   "cell_type": "code",
   "execution_count": 8,
   "metadata": {
    "collapsed": true
   },
   "outputs": [],
   "source": [
    "n = 200\n",
    "beta_1 = 0.2"
   ]
  },
  {
   "cell_type": "code",
   "execution_count": 9,
   "metadata": {
    "collapsed": true
   },
   "outputs": [],
   "source": [
    "num_test_sample = 2000"
   ]
  },
  {
   "cell_type": "code",
   "execution_count": 10,
   "metadata": {
    "collapsed": false
   },
   "outputs": [],
   "source": [
    "eta_wc = {}\n",
    "eta_Sanov = {}\n",
    "negative_sample = {}\n",
    "positive_sample = {}\n",
    "\n",
    "# Get sample paths of the Markov chain with length n; \n",
    "# these paths will be the test set\n",
    "for idx in range(int(num_test_sample/2)):\n",
    "    negative_sample[idx] = chain(mu, P, n)\n",
    "for idx in range(int(num_test_sample/2)):\n",
    "    positive_sample[idx] = chain(muP, PP, n)\n",
    "    \n",
    "# Get thresholds for Hoeffding's test corresponding to sample length n    \n",
    "key = str(n) + '_' + str(beta_1)\n",
    "eta_1 = ThresWeakConv(N, beta_1, n, mu_0, mu, mu_1, P, G_1, H_1, U_1).ThresCal()\n",
    "eta_2 = ThresSanov(N, beta_1, n, mu_0, mu, mu_1, P, G_1, H_1, U_1).ThresCal()\n",
    "eta_wc[key] = eta_1\n",
    "eta_Sanov[key] = eta_2\n",
    "\n",
    "zdump([negative_sample, positive_sample, eta_wc, eta_Sanov], data_dir + 'testSample_threshold_%d.pkz'%N)"
   ]
  },
  {
   "cell_type": "code",
   "execution_count": 11,
   "metadata": {
    "collapsed": false
   },
   "outputs": [],
   "source": [
    "negative_sample, positive_sample, eta_wc, eta_Sanov = zload(data_dir + 'testSample_threshold_%d.pkz'%N)"
   ]
  },
  {
   "cell_type": "code",
   "execution_count": 12,
   "metadata": {
    "collapsed": false
   },
   "outputs": [
    {
     "data": {
      "text/plain": [
       "(200, {'200_0.2': 0.16428189402312912}, {'200_0.2': 0.0080471895621705})"
      ]
     },
     "execution_count": 12,
     "metadata": {},
     "output_type": "execute_result"
    }
   ],
   "source": [
    "len(negative_sample[0]), eta_wc, eta_Sanov"
   ]
  },
  {
   "cell_type": "code",
   "execution_count": 13,
   "metadata": {
    "collapsed": false
   },
   "outputs": [],
   "source": [
    "from __future__ import division\n",
    "\n",
    "mu = np.reshape(mu, (N, N))\n",
    "\n",
    "key = str(n) + '_' + str(beta_1)\n",
    "\n",
    "negative_sample_KL = {}\n",
    "positive_sample_KL = {}\n",
    "\n",
    "negative_sample_wc = {}\n",
    "negative_sample_sv = {}\n",
    "\n",
    "positive_sample_wc = {}\n",
    "positive_sample_sv = {}\n",
    "\n",
    "for idx in range(int(num_test_sample/2)):\n",
    "    negative_sample_KL[idx] = KL_est(negative_sample[idx], mu)\n",
    "    if negative_sample_KL[idx] > eta_wc[key]:\n",
    "        negative_sample_wc[idx] = 1\n",
    "    else:\n",
    "        negative_sample_wc[idx] = -1\n",
    "    if negative_sample_KL[idx] > eta_Sanov[key]:\n",
    "        negative_sample_sv[idx] = 1\n",
    "    else:\n",
    "        negative_sample_sv[idx] = -1    \n",
    "    \n",
    "    \n",
    "for idx in range(int(num_test_sample/2)):\n",
    "    positive_sample_KL[idx] = KL_est(positive_sample[idx], mu)\n",
    "    if positive_sample_KL[idx] > eta_wc[key]:\n",
    "        positive_sample_wc[idx] = 1\n",
    "    else:\n",
    "        positive_sample_wc[idx] = -1\n",
    "    if positive_sample_KL[idx] > eta_Sanov[key]:\n",
    "        positive_sample_sv[idx] = 1\n",
    "    else:\n",
    "        positive_sample_sv[idx] = -1 "
   ]
  },
  {
   "cell_type": "code",
   "execution_count": 14,
   "metadata": {
    "collapsed": true
   },
   "outputs": [],
   "source": [
    "def count_one(x):\n",
    "    s = 0\n",
    "    for idx in range(len(x)):\n",
    "        if x[idx] == 1:\n",
    "            s += 1\n",
    "    return s, len(x) - s"
   ]
  },
  {
   "cell_type": "code",
   "execution_count": 15,
   "metadata": {
    "collapsed": false
   },
   "outputs": [
    {
     "data": {
      "text/plain": [
       "[1.0]"
      ]
     },
     "execution_count": 15,
     "metadata": {},
     "output_type": "execute_result"
    }
   ],
   "source": [
    "positive_sample_len_list = range(10, 1000, 10)\n",
    "\n",
    "TPR_wc = []\n",
    "\n",
    "for real_pos in positive_sample_len_list:\n",
    "    x = [positive_sample_wc[idx] for idx in range(real_pos)]\n",
    "    s, _ = count_one(x)\n",
    "    TPR_wc.append(s / real_pos)\n",
    "    \n",
    "# TPR_wc.append(0)\n",
    "# TPR_wc.append(1)\n",
    "\n",
    "TPR_wc = list(set(TPR_wc))\n",
    "\n",
    "TPR_wc.sort()\n",
    "TPR_wc"
   ]
  },
  {
   "cell_type": "code",
   "execution_count": 16,
   "metadata": {
    "collapsed": false
   },
   "outputs": [
    {
     "data": {
      "text/plain": [
       "[0.25,\n",
       " 0.27647058823529413,\n",
       " 0.27714285714285714,\n",
       " 0.28,\n",
       " 0.28055555555555556,\n",
       " 0.2818181818181818,\n",
       " 0.2833333333333333,\n",
       " 0.284375,\n",
       " 0.285,\n",
       " 0.2864864864864865,\n",
       " 0.2870967741935484,\n",
       " 0.2875,\n",
       " 0.28846153846153844,\n",
       " 0.28860759493670884,\n",
       " 0.28888888888888886,\n",
       " 0.2892857142857143,\n",
       " 0.2894736842105263,\n",
       " 0.2896103896103896,\n",
       " 0.29,\n",
       " 0.29012345679012347,\n",
       " 0.2904255319148936,\n",
       " 0.2913978494623656,\n",
       " 0.2914634146341463,\n",
       " 0.29157894736842105,\n",
       " 0.29175257731958765,\n",
       " 0.292,\n",
       " 0.2923076923076923,\n",
       " 0.29239130434782606,\n",
       " 0.2926829268292683,\n",
       " 0.29270833333333335,\n",
       " 0.2927710843373494,\n",
       " 0.29285714285714287,\n",
       " 0.29310344827586204,\n",
       " 0.29318181818181815,\n",
       " 0.2932584269662921,\n",
       " 0.29333333333333333,\n",
       " 0.29342105263157897,\n",
       " 0.29375,\n",
       " 0.2938775510204082,\n",
       " 0.29393939393939394,\n",
       " 0.294,\n",
       " 0.29404761904761906,\n",
       " 0.29411764705882354,\n",
       " 0.2941860465116279,\n",
       " 0.2942528735632184,\n",
       " 0.29444444444444445,\n",
       " 0.295,\n",
       " 0.29523809523809524,\n",
       " 0.2952941176470588,\n",
       " 0.29555555555555557,\n",
       " 0.2956521739130435,\n",
       " 0.2957142857142857,\n",
       " 0.2957446808510638,\n",
       " 0.29577464788732394,\n",
       " 0.29583333333333334,\n",
       " 0.2958904109589041,\n",
       " 0.2971014492753623,\n",
       " 0.2972972972972973,\n",
       " 0.29736842105263156,\n",
       " 0.2979591836734694,\n",
       " 0.3,\n",
       " 0.30149253731343284,\n",
       " 0.3015151515151515,\n",
       " 0.30153846153846153,\n",
       " 0.303125,\n",
       " 0.30363636363636365,\n",
       " 0.3037037037037037,\n",
       " 0.3038461538461538,\n",
       " 0.30454545454545456,\n",
       " 0.3047619047619048,\n",
       " 0.30483870967741933,\n",
       " 0.30491803278688523,\n",
       " 0.30566037735849055,\n",
       " 0.30677966101694915,\n",
       " 0.30701754385964913,\n",
       " 0.30714285714285716,\n",
       " 0.30833333333333335,\n",
       " 0.3086206896551724,\n",
       " 0.3111111111111111,\n",
       " 0.31333333333333335,\n",
       " 0.3142857142857143,\n",
       " 0.3153846153846154,\n",
       " 0.32,\n",
       " 0.33636363636363636]"
      ]
     },
     "execution_count": 16,
     "metadata": {},
     "output_type": "execute_result"
    }
   ],
   "source": [
    "negative_sample_len_list = range(10, 1000, 10)\n",
    "\n",
    "FPR_wc = []\n",
    "\n",
    "for real_neg in negative_sample_len_list:\n",
    "    x = [negative_sample_wc[idx] for idx in range(real_neg)]\n",
    "    s, _ = count_one(x)\n",
    "    FPR_wc.append(s / real_neg)\n",
    "\n",
    "# FPR_wc.append(0)\n",
    "# FPR_wc.append(1)\n",
    "\n",
    "FPR_wc = list(set(FPR_wc))\n",
    "\n",
    "FPR_wc.sort()\n",
    "FPR_wc"
   ]
  },
  {
   "cell_type": "code",
   "execution_count": 17,
   "metadata": {
    "collapsed": false
   },
   "outputs": [
    {
     "data": {
      "text/plain": [
       "[100, 200, 300, 400, 500, 600, 700, 800, 900, 1000]"
      ]
     },
     "execution_count": 17,
     "metadata": {},
     "output_type": "execute_result"
    }
   ],
   "source": [
    "range(100, 1100, 100)"
   ]
  },
  {
   "cell_type": "code",
   "execution_count": 18,
   "metadata": {
    "collapsed": false
   },
   "outputs": [
    {
     "data": {
      "text/plain": [
       "[1.0]"
      ]
     },
     "execution_count": 18,
     "metadata": {},
     "output_type": "execute_result"
    }
   ],
   "source": [
    "positive_sample_len_list = range(10, 1000, 10)\n",
    "\n",
    "TPR_sv = []\n",
    "\n",
    "for real_pos in positive_sample_len_list:\n",
    "    x = [positive_sample_sv[idx] for idx in range(real_pos)]\n",
    "    s, _ = count_one(x)\n",
    "    TPR_sv.append(s / real_pos)\n",
    "\n",
    "# TPR_sv.append(0)\n",
    "# TPR_sv.append(1)\n",
    "\n",
    "TPR_sv = list(set(TPR_sv))\n",
    "\n",
    "TPR_sv.sort()\n",
    "TPR_sv"
   ]
  },
  {
   "cell_type": "code",
   "execution_count": 19,
   "metadata": {
    "collapsed": false
   },
   "outputs": [
    {
     "data": {
      "text/plain": [
       "[1.0]"
      ]
     },
     "execution_count": 19,
     "metadata": {},
     "output_type": "execute_result"
    }
   ],
   "source": [
    "negative_sample_len_list = range(10, 1000, 10)\n",
    "\n",
    "FPR_sv = []\n",
    "\n",
    "for real_neg in negative_sample_len_list:\n",
    "    x = [negative_sample_sv[idx] for idx in range(real_neg)]\n",
    "    s, _ = count_one(x)\n",
    "    FPR_sv.append(s / real_neg)\n",
    "\n",
    "# FPR_sv.append(0)\n",
    "# FPR_sv.append(1)\n",
    "\n",
    "FPR_sv = list(set(FPR_sv))\n",
    "\n",
    "FPR_sv.sort()\n",
    "FPR_sv"
   ]
  },
  {
   "cell_type": "code",
   "execution_count": 20,
   "metadata": {
    "collapsed": false
   },
   "outputs": [],
   "source": [
    "if len(TPR_sv) < len(FPR_sv):\n",
    "    TPR_sv_ext = TPR_sv + [TPR_sv[-1]] * (len(FPR_sv) - len(TPR_sv))\n",
    "else:\n",
    "    TPR_sv_ext = TPR_sv[0:len(FPR_sv)]"
   ]
  },
  {
   "cell_type": "code",
   "execution_count": 21,
   "metadata": {
    "collapsed": false
   },
   "outputs": [],
   "source": [
    "if len(TPR_wc) < len(FPR_wc):\n",
    "    TPR_wc_ext = TPR_wc + [TPR_wc[-1]] * (len(FPR_wc) - len(TPR_wc))\n",
    "else:\n",
    "    TPR_wc_ext = TPR_wc[0:len(FPR_wc)]"
   ]
  },
  {
   "cell_type": "code",
   "execution_count": 22,
   "metadata": {
    "collapsed": false
   },
   "outputs": [],
   "source": [
    "roc_sv_pts = [(s, t) for s, t in zip(FPR_sv, TPR_sv_ext)]"
   ]
  },
  {
   "cell_type": "code",
   "execution_count": 23,
   "metadata": {
    "collapsed": true
   },
   "outputs": [],
   "source": [
    "roc_wc_pts = [(s, t) for s, t in zip(FPR_wc, TPR_wc_ext)]"
   ]
  },
  {
   "cell_type": "code",
   "execution_count": 24,
   "metadata": {
    "collapsed": false
   },
   "outputs": [
    {
     "data": {
      "text/plain": [
       "(84, 84, 84)"
      ]
     },
     "execution_count": 24,
     "metadata": {},
     "output_type": "execute_result"
    }
   ],
   "source": [
    "len(FPR_wc), len(TPR_wc_ext), len(roc_wc_pts)"
   ]
  },
  {
   "cell_type": "code",
   "execution_count": 25,
   "metadata": {
    "collapsed": false
   },
   "outputs": [
    {
     "data": {
      "text/plain": [
       "([(1.0, 1.0)],\n",
       " [(0.25, 1.0),\n",
       "  (0.27647058823529413, 1.0),\n",
       "  (0.27714285714285714, 1.0),\n",
       "  (0.28, 1.0),\n",
       "  (0.28055555555555556, 1.0),\n",
       "  (0.2818181818181818, 1.0),\n",
       "  (0.2833333333333333, 1.0),\n",
       "  (0.284375, 1.0),\n",
       "  (0.285, 1.0),\n",
       "  (0.2864864864864865, 1.0),\n",
       "  (0.2870967741935484, 1.0),\n",
       "  (0.2875, 1.0),\n",
       "  (0.28846153846153844, 1.0),\n",
       "  (0.28860759493670884, 1.0),\n",
       "  (0.28888888888888886, 1.0),\n",
       "  (0.2892857142857143, 1.0),\n",
       "  (0.2894736842105263, 1.0),\n",
       "  (0.2896103896103896, 1.0),\n",
       "  (0.29, 1.0),\n",
       "  (0.29012345679012347, 1.0),\n",
       "  (0.2904255319148936, 1.0),\n",
       "  (0.2913978494623656, 1.0),\n",
       "  (0.2914634146341463, 1.0),\n",
       "  (0.29157894736842105, 1.0),\n",
       "  (0.29175257731958765, 1.0),\n",
       "  (0.292, 1.0),\n",
       "  (0.2923076923076923, 1.0),\n",
       "  (0.29239130434782606, 1.0),\n",
       "  (0.2926829268292683, 1.0),\n",
       "  (0.29270833333333335, 1.0),\n",
       "  (0.2927710843373494, 1.0),\n",
       "  (0.29285714285714287, 1.0),\n",
       "  (0.29310344827586204, 1.0),\n",
       "  (0.29318181818181815, 1.0),\n",
       "  (0.2932584269662921, 1.0),\n",
       "  (0.29333333333333333, 1.0),\n",
       "  (0.29342105263157897, 1.0),\n",
       "  (0.29375, 1.0),\n",
       "  (0.2938775510204082, 1.0),\n",
       "  (0.29393939393939394, 1.0),\n",
       "  (0.294, 1.0),\n",
       "  (0.29404761904761906, 1.0),\n",
       "  (0.29411764705882354, 1.0),\n",
       "  (0.2941860465116279, 1.0),\n",
       "  (0.2942528735632184, 1.0),\n",
       "  (0.29444444444444445, 1.0),\n",
       "  (0.295, 1.0),\n",
       "  (0.29523809523809524, 1.0),\n",
       "  (0.2952941176470588, 1.0),\n",
       "  (0.29555555555555557, 1.0),\n",
       "  (0.2956521739130435, 1.0),\n",
       "  (0.2957142857142857, 1.0),\n",
       "  (0.2957446808510638, 1.0),\n",
       "  (0.29577464788732394, 1.0),\n",
       "  (0.29583333333333334, 1.0),\n",
       "  (0.2958904109589041, 1.0),\n",
       "  (0.2971014492753623, 1.0),\n",
       "  (0.2972972972972973, 1.0),\n",
       "  (0.29736842105263156, 1.0),\n",
       "  (0.2979591836734694, 1.0),\n",
       "  (0.3, 1.0),\n",
       "  (0.30149253731343284, 1.0),\n",
       "  (0.3015151515151515, 1.0),\n",
       "  (0.30153846153846153, 1.0),\n",
       "  (0.303125, 1.0),\n",
       "  (0.30363636363636365, 1.0),\n",
       "  (0.3037037037037037, 1.0),\n",
       "  (0.3038461538461538, 1.0),\n",
       "  (0.30454545454545456, 1.0),\n",
       "  (0.3047619047619048, 1.0),\n",
       "  (0.30483870967741933, 1.0),\n",
       "  (0.30491803278688523, 1.0),\n",
       "  (0.30566037735849055, 1.0),\n",
       "  (0.30677966101694915, 1.0),\n",
       "  (0.30701754385964913, 1.0),\n",
       "  (0.30714285714285716, 1.0),\n",
       "  (0.30833333333333335, 1.0),\n",
       "  (0.3086206896551724, 1.0),\n",
       "  (0.3111111111111111, 1.0),\n",
       "  (0.31333333333333335, 1.0),\n",
       "  (0.3142857142857143, 1.0),\n",
       "  (0.3153846153846154, 1.0),\n",
       "  (0.32, 1.0),\n",
       "  (0.33636363636363636, 1.0)])"
      ]
     },
     "execution_count": 25,
     "metadata": {},
     "output_type": "execute_result"
    }
   ],
   "source": [
    "roc_sv_pts, roc_wc_pts"
   ]
  },
  {
   "cell_type": "code",
   "execution_count": 26,
   "metadata": {
    "collapsed": false
   },
   "outputs": [
    {
     "name": "stderr",
     "output_type": "stream",
     "text": [
      "/home/jzh/anaconda2/lib/python2.7/site-packages/matplotlib/font_manager.py:1288: UserWarning: findfont: Font family [u'normal'] not found. Falling back to Bitstream Vera Sans\n",
      "  (prop.get_family(), self.defaultFamily[fontext]))\n"
     ]
    },
    {
     "data": {
      "image/png": "[encoded data removed]",
      "text/plain": [
       "<matplotlib.figure.Figure at 0x7fb5422a25d0>"
      ]
     },
     "metadata": {},
     "output_type": "display_data"
    }
   ],
   "source": [
    "import matplotlib.pyplot as plt\n",
    "import pylab\n",
    "from pylab import *\n",
    "%matplotlib inline  \n",
    "\n",
    "font = {'family' : 'normal',\n",
    "        'weight' : 'normal',\n",
    "        'size'   : 20}\n",
    "\n",
    "plt.figure(figsize=(7, 5))\n",
    "\n",
    "matplotlib.rc('font', **font)\n",
    "\n",
    "roc_sv, = plt.plot([0] + [roc_sv_pts[idx][0] for idx in range(len(roc_sv_pts))] + [1], \\\n",
    "                   [0] + [roc_sv_pts[idx][1] for idx in range(len(roc_sv_pts))] + [1], \"g-^\", linewidth=2.5, \\\n",
    "                   markersize=6)\n",
    "roc_wc, = plt.plot([0] + [roc_wc_pts[idx][0] for idx in range(len(roc_wc_pts))] + [1], \\\n",
    "                   [0] + [roc_wc_pts[idx][1] for idx in range(len(roc_wc_pts))] + [1], \"b-s\", linewidth=2.5, \\\n",
    "                  markersize=6)\n",
    "\n",
    "plt.legend([roc_sv, roc_wc], [r\"HTSV\", r\"HTWC\"], loc=4)\n",
    "plt.title(r\"$\\beta = %s, N = %s, n = %s$\"%(beta_1, N, n))\n",
    "# plt.xticks(N_list)\n",
    "\n",
    "pylab.xlim(-0.05, 1.05)\n",
    "pylab.ylim(-0.05, 1.05)\n",
    "\n",
    "plt.xlabel('False Positive Rate')\n",
    "plt.ylabel('True Positive Rate')\n",
    "# plt.grid()\n",
    "\n",
    "\n",
    "savefig(data_dir + 'ROC_N_%s_n_%s.eps'%(N, n))\n",
    "\n",
    "plt.show()"
   ]
  },
  {
   "cell_type": "code",
   "execution_count": null,
   "metadata": {
    "collapsed": true
   },
   "outputs": [],
   "source": []
  }
 ],
 "metadata": {
  "anaconda-cloud": {},
  "kernelspec": {
   "display_name": "Python [Root]",
   "language": "python",
   "name": "Python [Root]"
  },
  "language_info": {
   "codemirror_mode": {
    "name": "ipython",
    "version": 2
   },
   "file_extension": ".py",
   "mimetype": "text/x-python",
   "name": "python",
   "nbconvert_exporter": "python",
   "pygments_lexer": "ipython2",
   "version": "2.7.11"
  }
 },
 "nbformat": 4,
 "nbformat_minor": 0
}
