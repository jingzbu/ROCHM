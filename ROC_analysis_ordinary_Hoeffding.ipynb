{
 "cells": [
  {
   "cell_type": "code",
   "execution_count": 1,
   "metadata": {
    "collapsed": true
   },
   "outputs": [],
   "source": [
    "%run util.py"
   ]
  },
  {
   "cell_type": "code",
   "execution_count": 2,
   "metadata": {
    "collapsed": true
   },
   "outputs": [],
   "source": [
    "data_dir = '/home/jzh/Dropbox/Research/Anomaly_Detection/ROCHM/data_dir/'"
   ]
  },
  {
   "cell_type": "code",
   "execution_count": 3,
   "metadata": {
    "collapsed": true
   },
   "outputs": [],
   "source": [
    "N = 8\n",
    "n = 200\n",
    "beta_1 = 0.2\n",
    "num_test_sample = 2000"
   ]
  },
  {
   "cell_type": "code",
   "execution_count": 4,
   "metadata": {
    "collapsed": false
   },
   "outputs": [
    {
     "name": "stderr",
     "output_type": "stream",
     "text": [
      "<string>:372: RuntimeWarning: covariance is not positive-semidefinite.\n"
     ]
    }
   ],
   "source": [
    "# mu_0: the initial distribution; 1 x (N**2) \n",
    "# mu: the actual stationary distribution; 1 x (N**2)\n",
    "# mu_1: the estimated stationary distribution \n",
    "# P: the new transition matrix (the old transition matrix is Q)\n",
    "# G_1: the estimate of the gradient\n",
    "# H_1: the estimate of the Hessian\n",
    "# U_1: an estimated sample path of the Gaussian random vector U; length 1000\n",
    "\n",
    "# P is the ground truth transition matrix\n",
    "mu_0, mu, mu_1, P, G_1, H_1, U_1 = ChainGen(N)  \n",
    "\n",
    "# PP is a different transition matrix for testing purposes\n",
    "mu_0P, muP, mu_1P, PP, G_1P, H_1P, U_1P = ChainGen(N) \n",
    "\n",
    "zdump([N, mu_0, mu, mu_1, P, G_1, H_1, U_1, mu_0P, muP, mu_1P, PP, G_1P, H_1P, U_1P], \\\n",
    "      data_dir + 'P_PP_%d.pkz'%N)"
   ]
  },
  {
   "cell_type": "code",
   "execution_count": 5,
   "metadata": {
    "collapsed": true
   },
   "outputs": [],
   "source": [
    "N, mu_0, mu, mu_1, P, G_1, H_1, U_1, mu_0P, muP, mu_1P, PP, G_1P, H_1P, U_1P = zload(data_dir + 'P_PP_%d.pkz'%N)"
   ]
  },
  {
   "cell_type": "code",
   "execution_count": 6,
   "metadata": {
    "collapsed": false
   },
   "outputs": [
    {
     "data": {
      "text/plain": [
       "array([  4.64973457e-02,   4.02641801e-02,   2.74666376e-02,\n",
       "         8.08487643e-03,   3.36548283e-02,   3.05672807e-03,\n",
       "         3.92443523e-02,   3.98224657e-05,   1.14362522e-02,\n",
       "         1.18125980e-02,   1.89293712e-02,   6.75047254e-03,\n",
       "         3.66594135e-02,   5.89932633e-03,   1.36371826e-03,\n",
       "         1.46691316e-02,   1.45830825e-02,   1.54029780e-02,\n",
       "         5.59374040e-03,   8.29145058e-03,   1.79278546e-02,\n",
       "         3.01531993e-02,   8.65028972e-03,   8.87725102e-03,\n",
       "         2.49250212e-02,   8.51782448e-03,   2.04063284e-02,\n",
       "         2.36815962e-02,   2.10317452e-03,   1.81619045e-02,\n",
       "         3.72989557e-02,   2.35384474e-03,   2.69201189e-02,\n",
       "         1.08011347e-02,   2.50643389e-02,   2.23918874e-02,\n",
       "         3.12193351e-02,   1.77050173e-02,   6.03369310e-03,\n",
       "         5.15835102e-03,   3.32073871e-02,   6.59488294e-03,\n",
       "         8.87834279e-04,   4.30262580e-02,   2.64358340e-03,\n",
       "         1.31309285e-02,   8.62201581e-03,   2.44036242e-02,\n",
       "         2.50464078e-02,   9.78296049e-03,   1.02991678e-02,\n",
       "         7.54919046e-03,   1.11373892e-02,   3.48358798e-02,\n",
       "         3.28579050e-03,   5.87918688e-03,   1.56931556e-02,\n",
       "         4.34372492e-03,   8.32427725e-04,   1.76729181e-02,\n",
       "         9.94829769e-03,   9.57353034e-03,   3.31715757e-03,\n",
       "         2.34874067e-04])"
      ]
     },
     "execution_count": 6,
     "metadata": {},
     "output_type": "execute_result"
    }
   ],
   "source": [
    "mu"
   ]
  },
  {
   "cell_type": "code",
   "execution_count": 7,
   "metadata": {
    "collapsed": false
   },
   "outputs": [
    {
     "data": {
      "text/plain": [
       "array([  5.52396928e-03,   2.76306650e-02,   1.37234304e-02,\n",
       "         7.53938687e-03,   9.93033169e-03,   3.18016009e-03,\n",
       "         2.69153013e-02,   1.71956054e-02,   3.95934370e-02,\n",
       "         5.01908520e-03,   7.79672679e-03,   1.77410921e-02,\n",
       "         3.65611336e-02,   2.67461310e-02,   8.26789644e-03,\n",
       "         9.72618368e-03,   2.83171056e-05,   3.81570698e-02,\n",
       "         4.44237422e-02,   4.15830693e-03,   2.63131283e-02,\n",
       "         1.45793455e-02,   1.53265953e-03,   4.41746457e-02,\n",
       "         5.00153047e-03,   1.82654290e-03,   4.30822161e-02,\n",
       "         1.16303747e-02,   1.24941332e-02,   7.10263715e-03,\n",
       "         5.79878023e-03,   2.80633256e-03,   4.98204033e-04,\n",
       "         2.71695020e-02,   3.34933336e-02,   9.38708922e-03,\n",
       "         6.45016330e-03,   1.53937564e-02,   3.38642576e-02,\n",
       "         7.91434351e-03,   1.22477166e-03,   4.08266526e-03,\n",
       "         5.98508898e-03,   5.26526080e-03,   2.74143419e-02,\n",
       "         1.47778605e-03,   1.15762886e-02,   1.78076340e-02,\n",
       "         3.49441991e-02,   2.16731899e-02,   1.12985444e-02,\n",
       "         1.79846568e-02,   2.90243979e-04,   4.57185863e-03,\n",
       "         2.11114617e-02,   2.65194566e-02,   2.48244213e-02,\n",
       "         2.58929657e-02,   1.35641326e-02,   1.60363799e-02,\n",
       "         1.47171737e-02,   1.78216241e-03,   2.93269657e-02,\n",
       "         2.57402785e-04])"
      ]
     },
     "execution_count": 7,
     "metadata": {},
     "output_type": "execute_result"
    }
   ],
   "source": [
    "muP"
   ]
  },
  {
   "cell_type": "code",
   "execution_count": 8,
   "metadata": {
    "collapsed": false
   },
   "outputs": [],
   "source": [
    "eta_wc = {}\n",
    "eta_Sanov = {}\n",
    "negative_sample = {}\n",
    "positive_sample = {}\n",
    "\n",
    "# Get sample paths of the Markov chain with length n; \n",
    "# these paths will be the test set\n",
    "for idx in range(int(num_test_sample/2)):\n",
    "    negative_sample[idx] = chain(mu, P, n)\n",
    "for idx in range(int(num_test_sample/2)):\n",
    "    positive_sample[idx] = chain(muP, PP, n)\n",
    "    \n",
    "# Get thresholds for Hoeffding's test corresponding to sample length n    \n",
    "key = str(n) + '_' + str(beta_1)\n",
    "eta_1 = ThresWeakConv(N, beta_1, n, mu_0, mu, mu_1, P, G_1, H_1, U_1).ThresCal()\n",
    "eta_2 = ThresSanov(N, beta_1, n, mu_0, mu, mu_1, P, G_1, H_1, U_1).ThresCal()\n",
    "eta_wc[key] = eta_1\n",
    "eta_Sanov[key] = eta_2\n",
    "\n",
    "zdump([negative_sample, positive_sample, eta_wc, eta_Sanov], data_dir + 'testSample_threshold_%d.pkz'%N)"
   ]
  },
  {
   "cell_type": "code",
   "execution_count": 9,
   "metadata": {
    "collapsed": false
   },
   "outputs": [],
   "source": [
    "negative_sample, positive_sample, eta_wc, eta_Sanov = zload(data_dir + 'testSample_threshold_%d.pkz'%N)"
   ]
  },
  {
   "cell_type": "code",
   "execution_count": 10,
   "metadata": {
    "collapsed": false
   },
   "outputs": [
    {
     "data": {
      "text/plain": [
       "(200, {'200_0.2': 0.16283362296135748}, {'200_0.2': 0.0080471895621705})"
      ]
     },
     "execution_count": 10,
     "metadata": {},
     "output_type": "execute_result"
    }
   ],
   "source": [
    "len(negative_sample[0]), eta_wc, eta_Sanov"
   ]
  },
  {
   "cell_type": "code",
   "execution_count": 11,
   "metadata": {
    "collapsed": false
   },
   "outputs": [],
   "source": [
    "from __future__ import division\n",
    "\n",
    "mu = np.reshape(mu, (N, N))\n",
    "\n",
    "key = str(n) + '_' + str(beta_1)\n",
    "\n",
    "negative_sample_KL = {}\n",
    "positive_sample_KL = {}\n",
    "\n",
    "negative_sample_wc = {}\n",
    "negative_sample_sv = {}\n",
    "\n",
    "positive_sample_wc = {}\n",
    "positive_sample_sv = {}\n",
    "\n",
    "for idx in range(int(num_test_sample/2)):\n",
    "    negative_sample_KL[idx] = KL_est(negative_sample[idx], mu)\n",
    "    if negative_sample_KL[idx] > eta_wc[key]:\n",
    "        negative_sample_wc[idx] = 1\n",
    "    else:\n",
    "        negative_sample_wc[idx] = -1\n",
    "    if negative_sample_KL[idx] > eta_Sanov[key]:\n",
    "        negative_sample_sv[idx] = 1\n",
    "    else:\n",
    "        negative_sample_sv[idx] = -1    \n",
    "    \n",
    "    \n",
    "for idx in range(int(num_test_sample/2)):\n",
    "    positive_sample_KL[idx] = KL_est(positive_sample[idx], mu)\n",
    "    if positive_sample_KL[idx] > eta_wc[key]:\n",
    "        positive_sample_wc[idx] = 1\n",
    "    else:\n",
    "        positive_sample_wc[idx] = -1\n",
    "    if positive_sample_KL[idx] > eta_Sanov[key]:\n",
    "        positive_sample_sv[idx] = 1\n",
    "    else:\n",
    "        positive_sample_sv[idx] = -1 "
   ]
  },
  {
   "cell_type": "code",
   "execution_count": 12,
   "metadata": {
    "collapsed": true
   },
   "outputs": [],
   "source": [
    "def count_one(x):\n",
    "    s = 0\n",
    "    for idx in range(len(x)):\n",
    "        if x[idx] == 1:\n",
    "            s += 1\n",
    "    return s, len(x) - s"
   ]
  },
  {
   "cell_type": "code",
   "execution_count": 13,
   "metadata": {
    "collapsed": false
   },
   "outputs": [
    {
     "data": {
      "text/plain": [
       "[1.0]"
      ]
     },
     "execution_count": 13,
     "metadata": {},
     "output_type": "execute_result"
    }
   ],
   "source": [
    "positive_sample_len_list = [int(num_test_sample/2)]\n",
    "\n",
    "TPR_wc = []\n",
    "\n",
    "for real_pos in positive_sample_len_list:\n",
    "    x = [positive_sample_wc[idx] for idx in range(real_pos)]\n",
    "    s, _ = count_one(x)\n",
    "    TPR_wc.append(s / real_pos)\n",
    "    \n",
    "# TPR_wc.append(0)\n",
    "# TPR_wc.append(1)\n",
    "\n",
    "TPR_wc = list(set(TPR_wc))\n",
    "\n",
    "TPR_wc.sort()\n",
    "TPR_wc"
   ]
  },
  {
   "cell_type": "code",
   "execution_count": 14,
   "metadata": {
    "collapsed": false
   },
   "outputs": [
    {
     "data": {
      "text/plain": [
       "[0.232]"
      ]
     },
     "execution_count": 14,
     "metadata": {},
     "output_type": "execute_result"
    }
   ],
   "source": [
    "negative_sample_len_list = [int(num_test_sample/2)]\n",
    "\n",
    "FPR_wc = []\n",
    "\n",
    "for real_neg in negative_sample_len_list:\n",
    "    x = [negative_sample_wc[idx] for idx in range(real_neg)]\n",
    "    s, _ = count_one(x)\n",
    "    FPR_wc.append(s / real_neg)\n",
    "\n",
    "# FPR_wc.append(0)\n",
    "# FPR_wc.append(1)\n",
    "\n",
    "FPR_wc = list(set(FPR_wc))\n",
    "\n",
    "FPR_wc.sort()\n",
    "FPR_wc"
   ]
  },
  {
   "cell_type": "code",
   "execution_count": 15,
   "metadata": {
    "collapsed": false
   },
   "outputs": [
    {
     "data": {
      "text/plain": [
       "[100, 200, 300, 400, 500, 600, 700, 800, 900, 1000]"
      ]
     },
     "execution_count": 15,
     "metadata": {},
     "output_type": "execute_result"
    }
   ],
   "source": [
    "range(100, 1100, 100)"
   ]
  },
  {
   "cell_type": "code",
   "execution_count": 16,
   "metadata": {
    "collapsed": false
   },
   "outputs": [
    {
     "data": {
      "text/plain": [
       "[1.0]"
      ]
     },
     "execution_count": 16,
     "metadata": {},
     "output_type": "execute_result"
    }
   ],
   "source": [
    "positive_sample_len_list = [int(num_test_sample/2)]\n",
    "\n",
    "TPR_sv = []\n",
    "\n",
    "for real_pos in positive_sample_len_list:\n",
    "    x = [positive_sample_sv[idx] for idx in range(real_pos)]\n",
    "    s, _ = count_one(x)\n",
    "    TPR_sv.append(s / real_pos)\n",
    "\n",
    "# TPR_sv.append(0)\n",
    "# TPR_sv.append(1)\n",
    "\n",
    "TPR_sv = list(set(TPR_sv))\n",
    "\n",
    "TPR_sv.sort()\n",
    "TPR_sv"
   ]
  },
  {
   "cell_type": "code",
   "execution_count": 17,
   "metadata": {
    "collapsed": false
   },
   "outputs": [
    {
     "data": {
      "text/plain": [
       "[1.0]"
      ]
     },
     "execution_count": 17,
     "metadata": {},
     "output_type": "execute_result"
    }
   ],
   "source": [
    "negative_sample_len_list = [int(num_test_sample/2)]\n",
    "\n",
    "FPR_sv = []\n",
    "\n",
    "for real_neg in negative_sample_len_list:\n",
    "    x = [negative_sample_sv[idx] for idx in range(real_neg)]\n",
    "    s, _ = count_one(x)\n",
    "    FPR_sv.append(s / real_neg)\n",
    "\n",
    "# FPR_sv.append(0)\n",
    "# FPR_sv.append(1)\n",
    "\n",
    "FPR_sv = list(set(FPR_sv))\n",
    "\n",
    "FPR_sv.sort()\n",
    "FPR_sv"
   ]
  },
  {
   "cell_type": "code",
   "execution_count": 18,
   "metadata": {
    "collapsed": false
   },
   "outputs": [],
   "source": [
    "if len(TPR_sv) < len(FPR_sv):\n",
    "    TPR_sv_ext = TPR_sv + [TPR_sv[-1]] * (len(FPR_sv) - len(TPR_sv))\n",
    "else:\n",
    "    TPR_sv_ext = TPR_sv[0:len(FPR_sv)]"
   ]
  },
  {
   "cell_type": "code",
   "execution_count": 19,
   "metadata": {
    "collapsed": false
   },
   "outputs": [],
   "source": [
    "if len(TPR_wc) < len(FPR_wc):\n",
    "    TPR_wc_ext = TPR_wc + [TPR_wc[-1]] * (len(FPR_wc) - len(TPR_wc))\n",
    "else:\n",
    "    TPR_wc_ext = TPR_wc[0:len(FPR_wc)]"
   ]
  },
  {
   "cell_type": "code",
   "execution_count": 20,
   "metadata": {
    "collapsed": false
   },
   "outputs": [],
   "source": [
    "roc_sv_pts = [(s, t) for s, t in zip(FPR_sv, TPR_sv_ext)]"
   ]
  },
  {
   "cell_type": "code",
   "execution_count": 21,
   "metadata": {
    "collapsed": true
   },
   "outputs": [],
   "source": [
    "roc_wc_pts = [(s, t) for s, t in zip(FPR_wc, TPR_wc_ext)]"
   ]
  },
  {
   "cell_type": "code",
   "execution_count": 22,
   "metadata": {
    "collapsed": false
   },
   "outputs": [
    {
     "data": {
      "text/plain": [
       "(1, 1, 1)"
      ]
     },
     "execution_count": 22,
     "metadata": {},
     "output_type": "execute_result"
    }
   ],
   "source": [
    "len(FPR_wc), len(TPR_wc_ext), len(roc_wc_pts)"
   ]
  },
  {
   "cell_type": "code",
   "execution_count": 23,
   "metadata": {
    "collapsed": false
   },
   "outputs": [
    {
     "data": {
      "text/plain": [
       "([(1.0, 1.0)], [(0.232, 1.0)])"
      ]
     },
     "execution_count": 23,
     "metadata": {},
     "output_type": "execute_result"
    }
   ],
   "source": [
    "roc_sv_pts, roc_wc_pts"
   ]
  },
  {
   "cell_type": "code",
   "execution_count": 24,
   "metadata": {
    "collapsed": false
   },
   "outputs": [
    {
     "name": "stderr",
     "output_type": "stream",
     "text": [
      "/home/jzh/anaconda2/lib/python2.7/site-packages/matplotlib/font_manager.py:1288: UserWarning: findfont: Font family [u'normal'] not found. Falling back to Bitstream Vera Sans\n",
      "  (prop.get_family(), self.defaultFamily[fontext]))\n"
     ]
    },
    {
     "data": {
      "image/png": "[encoded data removed]",
      "text/plain": [
       "<matplotlib.figure.Figure at 0x7f322c0e0510>"
      ]
     },
     "metadata": {},
     "output_type": "display_data"
    }
   ],
   "source": [
    "import matplotlib.pyplot as plt\n",
    "import pylab\n",
    "from pylab import *\n",
    "%matplotlib inline  \n",
    "import itertools \n",
    "\n",
    "\n",
    "plt.figure(figsize=(7, 5))\n",
    "\n",
    "font = {'family' : 'normal',\n",
    "        'weight' : 'normal',\n",
    "        'size'   : 20}\n",
    "\n",
    "matplotlib.rc('font', **font)\n",
    "\n",
    "roc_sv, = plt.plot([roc_sv_pts[idx][0] for idx in range(len(roc_sv_pts))], \\\n",
    "                   [roc_sv_pts[idx][1] for idx in range(len(roc_sv_pts))], \"g^\", linewidth=3.5, \\\n",
    "                   markersize=8)\n",
    "roc_wc, = plt.plot([roc_wc_pts[idx][0] for idx in range(len(roc_wc_pts))], \\\n",
    "                   [roc_wc_pts[idx][1] for idx in range(len(roc_wc_pts))], \"bs\", linewidth=3.5, \\\n",
    "                   markersize=7)\n",
    "\n",
    "plt.plot([0, 1], [0, 1], \"r--\", linewidth=2.5)\n",
    "\n",
    "plt.legend([roc_sv, roc_wc], [r\"HTSV\", r\"HTWC\"], loc=4, numpoints=1)\n",
    "plt.title(r\"$\\beta = %s, N = %s, n = %s$\"%(beta_1, N, n))\n",
    "# plt.xticks(N_list)\n",
    "\n",
    "pylab.xlim(-0.05, 1.05)\n",
    "pylab.ylim(-0.05, 1.05)\n",
    "\n",
    "plt.xlabel('False Positive Rate')\n",
    "plt.ylabel('True Positive Rate')\n",
    "plt.grid()\n",
    "\n",
    "\n",
    "savefig(data_dir + 'ROC_N_%s_n_%s.eps'%(N, n))\n",
    "\n",
    "plt.show()"
   ]
  },
  {
   "cell_type": "code",
   "execution_count": null,
   "metadata": {
    "collapsed": true
   },
   "outputs": [],
   "source": []
  }
 ],
 "metadata": {
  "anaconda-cloud": {},
  "kernelspec": {
   "display_name": "Python [Root]",
   "language": "python",
   "name": "Python [Root]"
  },
  "language_info": {
   "codemirror_mode": {
    "name": "ipython",
    "version": 2
   },
   "file_extension": ".py",
   "mimetype": "text/x-python",
   "name": "python",
   "nbconvert_exporter": "python",
   "pygments_lexer": "ipython2",
   "version": "2.7.11"
  }
 },
 "nbformat": 4,
 "nbformat_minor": 0
}
