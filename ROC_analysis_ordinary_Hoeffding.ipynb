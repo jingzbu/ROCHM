{
 "cells": [
  {
   "cell_type": "code",
   "execution_count": 1,
   "metadata": {
    "collapsed": true
   },
   "outputs": [],
   "source": [
    "%run util.py"
   ]
  },
  {
   "cell_type": "code",
   "execution_count": 2,
   "metadata": {
    "collapsed": true
   },
   "outputs": [],
   "source": [
    "data_dir = '/home/jzh/Dropbox/Research/Anomaly_Detection/ROCHM/data_dir/'"
   ]
  },
  {
   "cell_type": "code",
   "execution_count": 3,
   "metadata": {
    "collapsed": true
   },
   "outputs": [],
   "source": [
    "N = 4\n",
    "n = 50\n",
    "beta_1 = 0.001\n",
    "num_test_sample = 2000"
   ]
  },
  {
   "cell_type": "code",
   "execution_count": 4,
   "metadata": {
    "collapsed": false
   },
   "outputs": [
    {
     "name": "stderr",
     "output_type": "stream",
     "text": [
      "<string>:372: RuntimeWarning: covariance is not positive-semidefinite.\n"
     ]
    }
   ],
   "source": [
    "# mu_0: the initial distribution; 1 x (N**2) \n",
    "# mu: the actual stationary distribution; 1 x (N**2)\n",
    "# mu_1: the estimated stationary distribution \n",
    "# P: the new transition matrix (the old transition matrix is Q)\n",
    "# G_1: the estimate of the gradient\n",
    "# H_1: the estimate of the Hessian\n",
    "# U_1: an estimated sample path of the Gaussian random vector U; length 1000\n",
    "\n",
    "# P is the ground truth transition matrix\n",
    "mu_0, mu, mu_1, P, G_1, H_1, U_1 = ChainGen(N)  \n",
    "\n",
    "# PP is a different transition matrix for testing purposes\n",
    "mu_0P, muP, mu_1P, PP, G_1P, H_1P, U_1P = ChainGen(N) \n",
    "\n",
    "zdump([N, mu_0, mu, mu_1, P, G_1, H_1, U_1, mu_0P, muP, mu_1P, PP, G_1P, H_1P, U_1P], \\\n",
    "      data_dir + 'P_PP_%d.pkz'%N)"
   ]
  },
  {
   "cell_type": "code",
   "execution_count": 5,
   "metadata": {
    "collapsed": true
   },
   "outputs": [],
   "source": [
    "N, mu_0, mu, mu_1, P, G_1, H_1, U_1, mu_0P, muP, mu_1P, PP, G_1P, H_1P, U_1P = zload(data_dir + 'P_PP_%d.pkz'%N)"
   ]
  },
  {
   "cell_type": "code",
   "execution_count": 6,
   "metadata": {
    "collapsed": false
   },
   "outputs": [
    {
     "data": {
      "text/plain": [
       "array([ 0.08935046,  0.04911288,  0.01594873,  0.08890404,  0.07898793,\n",
       "        0.01472429,  0.01185376,  0.01607947,  0.01849938,  0.02976543,\n",
       "        0.35538464,  0.03981101,  0.05647833,  0.02804285,  0.06027334,\n",
       "        0.04678345])"
      ]
     },
     "execution_count": 6,
     "metadata": {},
     "output_type": "execute_result"
    }
   ],
   "source": [
    "mu"
   ]
  },
  {
   "cell_type": "code",
   "execution_count": 7,
   "metadata": {
    "collapsed": false
   },
   "outputs": [
    {
     "data": {
      "text/plain": [
       "array([ 0.03090443,  0.02349001,  0.01904726,  0.05070081,  0.00605606,\n",
       "        0.05437444,  0.08802051,  0.10698752,  0.04157328,  0.09537297,\n",
       "        0.01353909,  0.04631011,  0.04560873,  0.08220111,  0.0761886 ,\n",
       "        0.21962507])"
      ]
     },
     "execution_count": 7,
     "metadata": {},
     "output_type": "execute_result"
    }
   ],
   "source": [
    "muP"
   ]
  },
  {
   "cell_type": "code",
   "execution_count": 8,
   "metadata": {
    "collapsed": false
   },
   "outputs": [],
   "source": [
    "eta_wc = {}\n",
    "eta_Sanov = {}\n",
    "negative_sample = {}\n",
    "positive_sample = {}\n",
    "\n",
    "# Get sample paths of the Markov chain with length n; \n",
    "# these paths will be the test set\n",
    "for idx in range(int(num_test_sample/2)):\n",
    "    negative_sample[idx] = chain(mu, P, n)\n",
    "for idx in range(int(num_test_sample/2)):\n",
    "    positive_sample[idx] = chain(muP, PP, n)\n",
    "    \n",
    "# Get thresholds for Hoeffding's test corresponding to sample length n    \n",
    "key = str(n) + '_' + str(beta_1)\n",
    "eta_1 = ThresWeakConv(N, beta_1, n, mu_0, mu, mu_1, P, G_1, H_1, U_1).ThresCal()\n",
    "eta_2 = ThresSanov(N, beta_1, n, mu_0, mu, mu_1, P, G_1, H_1, U_1).ThresCal()\n",
    "eta_wc[key] = eta_1\n",
    "eta_Sanov[key] = eta_2\n",
    "\n",
    "zdump([negative_sample, positive_sample, eta_wc, eta_Sanov], data_dir + 'testSample_threshold_%d.pkz'%N)"
   ]
  },
  {
   "cell_type": "code",
   "execution_count": 9,
   "metadata": {
    "collapsed": false
   },
   "outputs": [],
   "source": [
    "negative_sample, positive_sample, eta_wc, eta_Sanov = zload(data_dir + 'testSample_threshold_%d.pkz'%N)"
   ]
  },
  {
   "cell_type": "code",
   "execution_count": 10,
   "metadata": {
    "collapsed": false
   },
   "outputs": [
    {
     "data": {
      "text/plain": [
       "(50, {'50_0.001': 0.31153634260589796}, {'50_0.001': 0.13815510557964272})"
      ]
     },
     "execution_count": 10,
     "metadata": {},
     "output_type": "execute_result"
    }
   ],
   "source": [
    "len(negative_sample[0]), eta_wc, eta_Sanov"
   ]
  },
  {
   "cell_type": "code",
   "execution_count": 11,
   "metadata": {
    "collapsed": false
   },
   "outputs": [],
   "source": [
    "from __future__ import division\n",
    "\n",
    "mu = np.reshape(mu, (N, N))\n",
    "\n",
    "key = str(n) + '_' + str(beta_1)\n",
    "\n",
    "negative_sample_KL = {}\n",
    "positive_sample_KL = {}\n",
    "\n",
    "negative_sample_wc = {}\n",
    "negative_sample_sv = {}\n",
    "\n",
    "positive_sample_wc = {}\n",
    "positive_sample_sv = {}\n",
    "\n",
    "for idx in range(int(num_test_sample/2)):\n",
    "    negative_sample_KL[idx] = KL_est(negative_sample[idx], mu)\n",
    "    if negative_sample_KL[idx] > eta_wc[key]:\n",
    "        negative_sample_wc[idx] = 1\n",
    "    else:\n",
    "        negative_sample_wc[idx] = -1\n",
    "    if negative_sample_KL[idx] > eta_Sanov[key]:\n",
    "        negative_sample_sv[idx] = 1\n",
    "    else:\n",
    "        negative_sample_sv[idx] = -1    \n",
    "    \n",
    "    \n",
    "for idx in range(int(num_test_sample/2)):\n",
    "    positive_sample_KL[idx] = KL_est(positive_sample[idx], mu)\n",
    "    if positive_sample_KL[idx] > eta_wc[key]:\n",
    "        positive_sample_wc[idx] = 1\n",
    "    else:\n",
    "        positive_sample_wc[idx] = -1\n",
    "    if positive_sample_KL[idx] > eta_Sanov[key]:\n",
    "        positive_sample_sv[idx] = 1\n",
    "    else:\n",
    "        positive_sample_sv[idx] = -1 "
   ]
  },
  {
   "cell_type": "code",
   "execution_count": 12,
   "metadata": {
    "collapsed": true
   },
   "outputs": [],
   "source": [
    "def count_one(x):\n",
    "    s = 0\n",
    "    for idx in range(len(x)):\n",
    "        if x[idx] == 1:\n",
    "            s += 1\n",
    "    return s, len(x) - s"
   ]
  },
  {
   "cell_type": "code",
   "execution_count": 13,
   "metadata": {
    "collapsed": false
   },
   "outputs": [
    {
     "data": {
      "text/plain": [
       "[1.0]"
      ]
     },
     "execution_count": 13,
     "metadata": {},
     "output_type": "execute_result"
    }
   ],
   "source": [
    "positive_sample_len_list = range(10, 1000, 10)\n",
    "\n",
    "TPR_wc = []\n",
    "\n",
    "for real_pos in positive_sample_len_list:\n",
    "    x = [positive_sample_wc[idx] for idx in range(real_pos)]\n",
    "    s, _ = count_one(x)\n",
    "    TPR_wc.append(s / real_pos)\n",
    "    \n",
    "# TPR_wc.append(0)\n",
    "# TPR_wc.append(1)\n",
    "\n",
    "TPR_wc = list(set(TPR_wc))\n",
    "\n",
    "TPR_wc.sort()\n",
    "TPR_wc"
   ]
  },
  {
   "cell_type": "code",
   "execution_count": 14,
   "metadata": {
    "collapsed": false
   },
   "outputs": [
    {
     "data": {
      "text/plain": [
       "[0.0,\n",
       " 0.00101010101010101,\n",
       " 0.0010204081632653062,\n",
       " 0.0010309278350515464,\n",
       " 0.0010416666666666667,\n",
       " 0.0010526315789473684,\n",
       " 0.0010638297872340426,\n",
       " 0.001075268817204301,\n",
       " 0.0010869565217391304,\n",
       " 0.001098901098901099,\n",
       " 0.0011111111111111111,\n",
       " 0.0011235955056179776,\n",
       " 0.0011363636363636363,\n",
       " 0.0011494252873563218,\n",
       " 0.0011627906976744186,\n",
       " 0.001176470588235294,\n",
       " 0.0011904761904761906,\n",
       " 0.0012048192771084338,\n",
       " 0.0012195121951219512,\n",
       " 0.0012345679012345679,\n",
       " 0.00125,\n",
       " 0.0012658227848101266,\n",
       " 0.001282051282051282,\n",
       " 0.0012987012987012987,\n",
       " 0.0013157894736842105,\n",
       " 0.0013333333333333333,\n",
       " 0.0013513513513513514,\n",
       " 0.0013698630136986301,\n",
       " 0.001388888888888889,\n",
       " 0.0014084507042253522,\n",
       " 0.0014285714285714286,\n",
       " 0.0014492753623188406,\n",
       " 0.0014705882352941176,\n",
       " 0.0014925373134328358,\n",
       " 0.0015151515151515152,\n",
       " 0.0015384615384615385,\n",
       " 0.0015625,\n",
       " 0.0015873015873015873,\n",
       " 0.0016129032258064516,\n",
       " 0.001639344262295082,\n",
       " 0.0016666666666666668,\n",
       " 0.001694915254237288,\n",
       " 0.0017241379310344827,\n",
       " 0.0017543859649122807,\n",
       " 0.0017857142857142857,\n",
       " 0.0018181818181818182,\n",
       " 0.001851851851851852,\n",
       " 0.0018867924528301887,\n",
       " 0.0019230769230769232,\n",
       " 0.00196078431372549,\n",
       " 0.002,\n",
       " 0.0020408163265306124,\n",
       " 0.0020833333333333333,\n",
       " 0.002127659574468085,\n",
       " 0.002173913043478261,\n",
       " 0.0022222222222222222,\n",
       " 0.0022727272727272726,\n",
       " 0.002325581395348837]"
      ]
     },
     "execution_count": 14,
     "metadata": {},
     "output_type": "execute_result"
    }
   ],
   "source": [
    "negative_sample_len_list = range(10, 1000, 10)\n",
    "\n",
    "FPR_wc = []\n",
    "\n",
    "for real_neg in negative_sample_len_list:\n",
    "    x = [negative_sample_wc[idx] for idx in range(real_neg)]\n",
    "    s, _ = count_one(x)\n",
    "    FPR_wc.append(s / real_neg)\n",
    "\n",
    "# FPR_wc.append(0)\n",
    "# FPR_wc.append(1)\n",
    "\n",
    "FPR_wc = list(set(FPR_wc))\n",
    "\n",
    "FPR_wc.sort()\n",
    "FPR_wc"
   ]
  },
  {
   "cell_type": "code",
   "execution_count": 15,
   "metadata": {
    "collapsed": false
   },
   "outputs": [
    {
     "data": {
      "text/plain": [
       "[100, 200, 300, 400, 500, 600, 700, 800, 900, 1000]"
      ]
     },
     "execution_count": 15,
     "metadata": {},
     "output_type": "execute_result"
    }
   ],
   "source": [
    "range(100, 1100, 100)"
   ]
  },
  {
   "cell_type": "code",
   "execution_count": 16,
   "metadata": {
    "collapsed": false
   },
   "outputs": [
    {
     "data": {
      "text/plain": [
       "[1.0]"
      ]
     },
     "execution_count": 16,
     "metadata": {},
     "output_type": "execute_result"
    }
   ],
   "source": [
    "positive_sample_len_list = range(10, 1000, 10)\n",
    "\n",
    "TPR_sv = []\n",
    "\n",
    "for real_pos in positive_sample_len_list:\n",
    "    x = [positive_sample_sv[idx] for idx in range(real_pos)]\n",
    "    s, _ = count_one(x)\n",
    "    TPR_sv.append(s / real_pos)\n",
    "\n",
    "# TPR_sv.append(0)\n",
    "# TPR_sv.append(1)\n",
    "\n",
    "TPR_sv = list(set(TPR_sv))\n",
    "\n",
    "TPR_sv.sort()\n",
    "TPR_sv"
   ]
  },
  {
   "cell_type": "code",
   "execution_count": 17,
   "metadata": {
    "collapsed": false
   },
   "outputs": [
    {
     "data": {
      "text/plain": [
       "[0.4185185185185185,\n",
       " 0.4188235294117647,\n",
       " 0.41927710843373495,\n",
       " 0.4195121951219512,\n",
       " 0.42,\n",
       " 0.42023809523809524,\n",
       " 0.4205128205128205,\n",
       " 0.42083333333333334,\n",
       " 0.42142857142857143,\n",
       " 0.4215189873417722,\n",
       " 0.421875,\n",
       " 0.42203389830508475,\n",
       " 0.42205882352941176,\n",
       " 0.4222222222222222,\n",
       " 0.4225352112676056,\n",
       " 0.42258064516129035,\n",
       " 0.42295081967213116,\n",
       " 0.42333333333333334,\n",
       " 0.42337662337662335,\n",
       " 0.42359550561797754,\n",
       " 0.42363636363636364,\n",
       " 0.4238636363636364,\n",
       " 0.42388059701492536,\n",
       " 0.42407407407407405,\n",
       " 0.42417582417582417,\n",
       " 0.42441860465116277,\n",
       " 0.42446808510638295,\n",
       " 0.42452830188679247,\n",
       " 0.4245614035087719,\n",
       " 0.4246153846153846,\n",
       " 0.4246376811594203,\n",
       " 0.4246575342465753,\n",
       " 0.42473118279569894,\n",
       " 0.425,\n",
       " 0.42533333333333334,\n",
       " 0.42567567567567566,\n",
       " 0.4257142857142857,\n",
       " 0.42586206896551726,\n",
       " 0.4260869565217391,\n",
       " 0.4263157894736842,\n",
       " 0.4264367816091954,\n",
       " 0.4268292682926829,\n",
       " 0.42702702702702705,\n",
       " 0.42745098039215684,\n",
       " 0.428,\n",
       " 0.42857142857142855,\n",
       " 0.4287878787878788,\n",
       " 0.42947368421052634,\n",
       " 0.4297872340425532,\n",
       " 0.43,\n",
       " 0.4306122448979592,\n",
       " 0.43125,\n",
       " 0.43142857142857144,\n",
       " 0.43157894736842106,\n",
       " 0.4318181818181818,\n",
       " 0.43232323232323233,\n",
       " 0.4326086956521739,\n",
       " 0.4326530612244898,\n",
       " 0.4329896907216495,\n",
       " 0.43333333333333335,\n",
       " 0.43448275862068964,\n",
       " 0.4346153846153846,\n",
       " 0.43488372093023253,\n",
       " 0.4357142857142857,\n",
       " 0.436,\n",
       " 0.43636363636363634,\n",
       " 0.43703703703703706,\n",
       " 0.4375,\n",
       " 0.4380952380952381,\n",
       " 0.43823529411764706,\n",
       " 0.44,\n",
       " 0.440625,\n",
       " 0.44375,\n",
       " 0.4444444444444444,\n",
       " 0.44516129032258067,\n",
       " 0.4470588235294118,\n",
       " 0.45384615384615384,\n",
       " 0.45714285714285713,\n",
       " 0.4583333333333333,\n",
       " 0.4636363636363636,\n",
       " 0.4666666666666667,\n",
       " 0.47,\n",
       " 0.5,\n",
       " 0.5333333333333333,\n",
       " 0.55,\n",
       " 0.6,\n",
       " 0.7]"
      ]
     },
     "execution_count": 17,
     "metadata": {},
     "output_type": "execute_result"
    }
   ],
   "source": [
    "negative_sample_len_list = range(10, 1000, 10)\n",
    "\n",
    "FPR_sv = []\n",
    "\n",
    "for real_neg in negative_sample_len_list:\n",
    "    x = [negative_sample_sv[idx] for idx in range(real_neg)]\n",
    "    s, _ = count_one(x)\n",
    "    FPR_sv.append(s / real_neg)\n",
    "\n",
    "# FPR_sv.append(0)\n",
    "# FPR_sv.append(1)\n",
    "\n",
    "FPR_sv = list(set(FPR_sv))\n",
    "\n",
    "FPR_sv.sort()\n",
    "FPR_sv"
   ]
  },
  {
   "cell_type": "code",
   "execution_count": 18,
   "metadata": {
    "collapsed": false
   },
   "outputs": [],
   "source": [
    "if len(TPR_sv) < len(FPR_sv):\n",
    "    TPR_sv_ext = TPR_sv + [TPR_sv[-1]] * (len(FPR_sv) - len(TPR_sv))\n",
    "else:\n",
    "    TPR_sv_ext = TPR_sv[0:len(FPR_sv)]"
   ]
  },
  {
   "cell_type": "code",
   "execution_count": 19,
   "metadata": {
    "collapsed": false
   },
   "outputs": [],
   "source": [
    "if len(TPR_wc) < len(FPR_wc):\n",
    "    TPR_wc_ext = TPR_wc + [TPR_wc[-1]] * (len(FPR_wc) - len(TPR_wc))\n",
    "else:\n",
    "    TPR_wc_ext = TPR_wc[0:len(FPR_wc)]"
   ]
  },
  {
   "cell_type": "code",
   "execution_count": 20,
   "metadata": {
    "collapsed": false
   },
   "outputs": [],
   "source": [
    "roc_sv_pts = [(s, t) for s, t in zip(FPR_sv, TPR_sv_ext)]"
   ]
  },
  {
   "cell_type": "code",
   "execution_count": 21,
   "metadata": {
    "collapsed": true
   },
   "outputs": [],
   "source": [
    "roc_wc_pts = [(s, t) for s, t in zip(FPR_wc, TPR_wc_ext)]"
   ]
  },
  {
   "cell_type": "code",
   "execution_count": 22,
   "metadata": {
    "collapsed": false
   },
   "outputs": [
    {
     "data": {
      "text/plain": [
       "(58, 58, 58)"
      ]
     },
     "execution_count": 22,
     "metadata": {},
     "output_type": "execute_result"
    }
   ],
   "source": [
    "len(FPR_wc), len(TPR_wc_ext), len(roc_wc_pts)"
   ]
  },
  {
   "cell_type": "code",
   "execution_count": 23,
   "metadata": {
    "collapsed": false
   },
   "outputs": [
    {
     "data": {
      "text/plain": [
       "([(0.4185185185185185, 1.0),\n",
       "  (0.4188235294117647, 1.0),\n",
       "  (0.41927710843373495, 1.0),\n",
       "  (0.4195121951219512, 1.0),\n",
       "  (0.42, 1.0),\n",
       "  (0.42023809523809524, 1.0),\n",
       "  (0.4205128205128205, 1.0),\n",
       "  (0.42083333333333334, 1.0),\n",
       "  (0.42142857142857143, 1.0),\n",
       "  (0.4215189873417722, 1.0),\n",
       "  (0.421875, 1.0),\n",
       "  (0.42203389830508475, 1.0),\n",
       "  (0.42205882352941176, 1.0),\n",
       "  (0.4222222222222222, 1.0),\n",
       "  (0.4225352112676056, 1.0),\n",
       "  (0.42258064516129035, 1.0),\n",
       "  (0.42295081967213116, 1.0),\n",
       "  (0.42333333333333334, 1.0),\n",
       "  (0.42337662337662335, 1.0),\n",
       "  (0.42359550561797754, 1.0),\n",
       "  (0.42363636363636364, 1.0),\n",
       "  (0.4238636363636364, 1.0),\n",
       "  (0.42388059701492536, 1.0),\n",
       "  (0.42407407407407405, 1.0),\n",
       "  (0.42417582417582417, 1.0),\n",
       "  (0.42441860465116277, 1.0),\n",
       "  (0.42446808510638295, 1.0),\n",
       "  (0.42452830188679247, 1.0),\n",
       "  (0.4245614035087719, 1.0),\n",
       "  (0.4246153846153846, 1.0),\n",
       "  (0.4246376811594203, 1.0),\n",
       "  (0.4246575342465753, 1.0),\n",
       "  (0.42473118279569894, 1.0),\n",
       "  (0.425, 1.0),\n",
       "  (0.42533333333333334, 1.0),\n",
       "  (0.42567567567567566, 1.0),\n",
       "  (0.4257142857142857, 1.0),\n",
       "  (0.42586206896551726, 1.0),\n",
       "  (0.4260869565217391, 1.0),\n",
       "  (0.4263157894736842, 1.0),\n",
       "  (0.4264367816091954, 1.0),\n",
       "  (0.4268292682926829, 1.0),\n",
       "  (0.42702702702702705, 1.0),\n",
       "  (0.42745098039215684, 1.0),\n",
       "  (0.428, 1.0),\n",
       "  (0.42857142857142855, 1.0),\n",
       "  (0.4287878787878788, 1.0),\n",
       "  (0.42947368421052634, 1.0),\n",
       "  (0.4297872340425532, 1.0),\n",
       "  (0.43, 1.0),\n",
       "  (0.4306122448979592, 1.0),\n",
       "  (0.43125, 1.0),\n",
       "  (0.43142857142857144, 1.0),\n",
       "  (0.43157894736842106, 1.0),\n",
       "  (0.4318181818181818, 1.0),\n",
       "  (0.43232323232323233, 1.0),\n",
       "  (0.4326086956521739, 1.0),\n",
       "  (0.4326530612244898, 1.0),\n",
       "  (0.4329896907216495, 1.0),\n",
       "  (0.43333333333333335, 1.0),\n",
       "  (0.43448275862068964, 1.0),\n",
       "  (0.4346153846153846, 1.0),\n",
       "  (0.43488372093023253, 1.0),\n",
       "  (0.4357142857142857, 1.0),\n",
       "  (0.436, 1.0),\n",
       "  (0.43636363636363634, 1.0),\n",
       "  (0.43703703703703706, 1.0),\n",
       "  (0.4375, 1.0),\n",
       "  (0.4380952380952381, 1.0),\n",
       "  (0.43823529411764706, 1.0),\n",
       "  (0.44, 1.0),\n",
       "  (0.440625, 1.0),\n",
       "  (0.44375, 1.0),\n",
       "  (0.4444444444444444, 1.0),\n",
       "  (0.44516129032258067, 1.0),\n",
       "  (0.4470588235294118, 1.0),\n",
       "  (0.45384615384615384, 1.0),\n",
       "  (0.45714285714285713, 1.0),\n",
       "  (0.4583333333333333, 1.0),\n",
       "  (0.4636363636363636, 1.0),\n",
       "  (0.4666666666666667, 1.0),\n",
       "  (0.47, 1.0),\n",
       "  (0.5, 1.0),\n",
       "  (0.5333333333333333, 1.0),\n",
       "  (0.55, 1.0),\n",
       "  (0.6, 1.0),\n",
       "  (0.7, 1.0)],\n",
       " [(0.0, 1.0),\n",
       "  (0.00101010101010101, 1.0),\n",
       "  (0.0010204081632653062, 1.0),\n",
       "  (0.0010309278350515464, 1.0),\n",
       "  (0.0010416666666666667, 1.0),\n",
       "  (0.0010526315789473684, 1.0),\n",
       "  (0.0010638297872340426, 1.0),\n",
       "  (0.001075268817204301, 1.0),\n",
       "  (0.0010869565217391304, 1.0),\n",
       "  (0.001098901098901099, 1.0),\n",
       "  (0.0011111111111111111, 1.0),\n",
       "  (0.0011235955056179776, 1.0),\n",
       "  (0.0011363636363636363, 1.0),\n",
       "  (0.0011494252873563218, 1.0),\n",
       "  (0.0011627906976744186, 1.0),\n",
       "  (0.001176470588235294, 1.0),\n",
       "  (0.0011904761904761906, 1.0),\n",
       "  (0.0012048192771084338, 1.0),\n",
       "  (0.0012195121951219512, 1.0),\n",
       "  (0.0012345679012345679, 1.0),\n",
       "  (0.00125, 1.0),\n",
       "  (0.0012658227848101266, 1.0),\n",
       "  (0.001282051282051282, 1.0),\n",
       "  (0.0012987012987012987, 1.0),\n",
       "  (0.0013157894736842105, 1.0),\n",
       "  (0.0013333333333333333, 1.0),\n",
       "  (0.0013513513513513514, 1.0),\n",
       "  (0.0013698630136986301, 1.0),\n",
       "  (0.001388888888888889, 1.0),\n",
       "  (0.0014084507042253522, 1.0),\n",
       "  (0.0014285714285714286, 1.0),\n",
       "  (0.0014492753623188406, 1.0),\n",
       "  (0.0014705882352941176, 1.0),\n",
       "  (0.0014925373134328358, 1.0),\n",
       "  (0.0015151515151515152, 1.0),\n",
       "  (0.0015384615384615385, 1.0),\n",
       "  (0.0015625, 1.0),\n",
       "  (0.0015873015873015873, 1.0),\n",
       "  (0.0016129032258064516, 1.0),\n",
       "  (0.001639344262295082, 1.0),\n",
       "  (0.0016666666666666668, 1.0),\n",
       "  (0.001694915254237288, 1.0),\n",
       "  (0.0017241379310344827, 1.0),\n",
       "  (0.0017543859649122807, 1.0),\n",
       "  (0.0017857142857142857, 1.0),\n",
       "  (0.0018181818181818182, 1.0),\n",
       "  (0.001851851851851852, 1.0),\n",
       "  (0.0018867924528301887, 1.0),\n",
       "  (0.0019230769230769232, 1.0),\n",
       "  (0.00196078431372549, 1.0),\n",
       "  (0.002, 1.0),\n",
       "  (0.0020408163265306124, 1.0),\n",
       "  (0.0020833333333333333, 1.0),\n",
       "  (0.002127659574468085, 1.0),\n",
       "  (0.002173913043478261, 1.0),\n",
       "  (0.0022222222222222222, 1.0),\n",
       "  (0.0022727272727272726, 1.0),\n",
       "  (0.002325581395348837, 1.0)])"
      ]
     },
     "execution_count": 23,
     "metadata": {},
     "output_type": "execute_result"
    }
   ],
   "source": [
    "roc_sv_pts, roc_wc_pts"
   ]
  },
  {
   "cell_type": "code",
   "execution_count": 24,
   "metadata": {
    "collapsed": false
   },
   "outputs": [
    {
     "name": "stderr",
     "output_type": "stream",
     "text": [
      "/home/jzh/anaconda2/lib/python2.7/site-packages/matplotlib/font_manager.py:1288: UserWarning: findfont: Font family [u'normal'] not found. Falling back to Bitstream Vera Sans\n",
      "  (prop.get_family(), self.defaultFamily[fontext]))\n"
     ]
    },
    {
     "data": {
      "image/png": "[encoded data removed]",
      "text/plain": [
       "<matplotlib.figure.Figure at 0x7f0df40bf610>"
      ]
     },
     "metadata": {},
     "output_type": "display_data"
    }
   ],
   "source": [
    "import matplotlib.pyplot as plt\n",
    "import pylab\n",
    "from pylab import *\n",
    "%matplotlib inline  \n",
    "\n",
    "font = {'family' : 'normal',\n",
    "        'weight' : 'normal',\n",
    "        'size'   : 20}\n",
    "\n",
    "plt.figure(figsize=(7, 5))\n",
    "\n",
    "matplotlib.rc('font', **font)\n",
    "\n",
    "roc_sv, = plt.plot([0] + [roc_sv_pts[idx][0] for idx in range(len(roc_sv_pts))] + [1], \\\n",
    "                   [0] + [roc_sv_pts[idx][1] for idx in range(len(roc_sv_pts))] + [1], \"g-^\", linewidth=2.5, \\\n",
    "                   markersize=6)\n",
    "roc_wc, = plt.plot([0] + [roc_wc_pts[idx][0] for idx in range(len(roc_wc_pts))] + [1], \\\n",
    "                   [0] + [roc_wc_pts[idx][1] for idx in range(len(roc_wc_pts))] + [1], \"b-s\", linewidth=2.5, \\\n",
    "                  markersize=6)\n",
    "\n",
    "plt.legend([roc_sv, roc_wc], [r\"HTSV\", r\"HTWC\"], loc=4)\n",
    "plt.title(r\"$\\beta = %s, N = %s, n = %s$\"%(beta_1, N, n))\n",
    "# plt.xticks(N_list)\n",
    "\n",
    "pylab.xlim(-0.05, 1.05)\n",
    "pylab.ylim(-0.05, 1.05)\n",
    "\n",
    "plt.xlabel('False Positive Rate')\n",
    "plt.ylabel('True Positive Rate')\n",
    "# plt.grid()\n",
    "\n",
    "\n",
    "savefig(data_dir + 'ROC_N_%s_n_%s.eps'%(N, n))\n",
    "\n",
    "plt.show()"
   ]
  },
  {
   "cell_type": "code",
   "execution_count": null,
   "metadata": {
    "collapsed": true
   },
   "outputs": [],
   "source": []
  }
 ],
 "metadata": {
  "anaconda-cloud": {},
  "kernelspec": {
   "display_name": "Python [Root]",
   "language": "python",
   "name": "Python [Root]"
  },
  "language_info": {
   "codemirror_mode": {
    "name": "ipython",
    "version": 2
   },
   "file_extension": ".py",
   "mimetype": "text/x-python",
   "name": "python",
   "nbconvert_exporter": "python",
   "pygments_lexer": "ipython2",
   "version": "2.7.11"
  }
 },
 "nbformat": 4,
 "nbformat_minor": 0
}
