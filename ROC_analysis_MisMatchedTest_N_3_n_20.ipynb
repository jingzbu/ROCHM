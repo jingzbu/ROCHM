{
 "cells": [
  {
   "cell_type": "markdown",
   "metadata": {},
   "source": [
    "## First, let's consider a simple case. Assume we know the PL, denoted $\\bar{\\boldsymbol{\\pi}}$, of the alternative hypothesis.\n",
    "\n",
    "### Test statistic for the Hoeffding test:\n",
    "\n",
    "$$\n",
    "  D( {\\left. \\boldsymbol{\\Gamma} _n \\right\\| \\boldsymbol{\\pi} }) = \n",
    " \\sum_{i = 1}^N \\sum_{j = 1}^N \\Gamma_n(\\theta_{ij}) \\log \n",
    "   \\frac{\\Gamma _n(\\theta_{ij})/\n",
    "            \\big( \\sum_{t = 1}^N \\Gamma _n(\\theta_{it})\\big)} \n",
    "{\\pi _{ij}/ \\big(\\sum_{t = 1}^N \\pi _{it} \\big)},\n",
    "$$\n",
    "\n",
    "### Test statistic for the Mismatched test:\n",
    "\n",
    "$$\n",
    "  D^{\\text{MM}}( {\\left. \\boldsymbol{\\Gamma} _n \\right\\| \\boldsymbol{\\pi} }) = \n",
    " \\sum_{i = 1}^N \\sum_{j = 1}^N \\Gamma_n(\\theta_{ij}) \\log \n",
    "   \\frac{\\bar{\\pi}_{ij}/\n",
    "            \\big( \\sum_{t = 1}^N \\bar{\\pi}_{it}\\big)} \n",
    "{\\pi _{ij}/ \\big(\\sum_{t = 1}^N \\pi _{it} \\big)}.\n",
    "$$\n",
    "\n",
    "## Extension:\n",
    "\n",
    "#### Instead of a single PL, we can consider the case where a finite set of PLs, denoted $\\bar{\\boldsymbol{\\Pi}}$, is adopted by the alternative hypothesis. In this case, the test statistic for the Mismatched test is \n",
    "\n",
    "$$\n",
    "  D^{\\text{MM}}( {\\left. \\boldsymbol{\\Gamma} _n \\right\\| \\boldsymbol{\\pi} }) = \\sup_{\\bar{\\boldsymbol{\\pi}} \\in \\bar{\\boldsymbol{\\Pi}}}\n",
    " \\sum_{i = 1}^N \\sum_{j = 1}^N \\Gamma_n(\\theta_{ij}) \\log \n",
    "   \\frac{\\bar{\\pi}_{ij}/\n",
    "            \\big( \\sum_{t = 1}^N \\bar{\\pi}_{it}\\big)} \n",
    "{\\pi _{ij}/ \\big(\\sum_{t = 1}^N \\pi _{it} \\big)}.\n",
    "$$"
   ]
  },
  {
   "cell_type": "code",
   "execution_count": 1,
   "metadata": {
    "collapsed": true
   },
   "outputs": [],
   "source": [
    "from __future__ import division"
   ]
  },
  {
   "cell_type": "code",
   "execution_count": 2,
   "metadata": {
    "collapsed": false
   },
   "outputs": [],
   "source": [
    "%run util.py"
   ]
  },
  {
   "cell_type": "code",
   "execution_count": 3,
   "metadata": {
    "collapsed": true
   },
   "outputs": [],
   "source": [
    "data_dir = \"/home/jzh/Dropbox/Research/Anomaly_Detection/MisMatchedTest/\""
   ]
  },
  {
   "cell_type": "code",
   "execution_count": 4,
   "metadata": {
    "collapsed": true
   },
   "outputs": [],
   "source": [
    "def KL_est(x, mu, mu1):\n",
    "    \"\"\"\n",
    "    Estimate the relative entropy (K-L divergence)\n",
    "    x: a sample path of the chain\n",
    "    mu: the true stationary distribution; an N x N matrix\n",
    "    \"\"\"\n",
    "    mu = np.array(mu)\n",
    "    N, _ = mu.shape\n",
    "    assert(N == _)\n",
    "    \n",
    "    mu1 = np.array(mu1)\n",
    "    N1, _ = mu1.shape\n",
    "    assert(N1 == _)\n",
    "\n",
    "    # Compute the empirical distribution\n",
    "    eps = 1e-8\n",
    "    gama = [0] * N * N\n",
    "    for j in range(0, N**2):\n",
    "        gama[j] = (x.count(j)) / (len(x))\n",
    "        if gama[j] < eps:\n",
    "            gama[j] = eps\n",
    "    for j in range(0, N**2):\n",
    "        gama[j] = gama[j] / sum(gama)  # Normalize the estimated probability law\n",
    "    gama = np.array(gama)\n",
    "    gama = np.reshape(gama, (N, N))\n",
    "\n",
    "    # Compute the relative entropy (K-L divergence)\n",
    "    d = np.zeros((N, N))\n",
    "    for i in range(0, N):\n",
    "        for j in range(0, N):\n",
    "            d[i, j] = gama[i, j] * (log(gama[i, j] / (sum(gama[i, :]))) - log(mu[i, j] / (sum(mu[i, :]))))\n",
    "    KL = sum(sum(d))\n",
    "    \n",
    "    # Compute the Mismatched divergence\n",
    "    d = np.zeros((N, N))\n",
    "    for i in range(0, N):\n",
    "        for j in range(0, N):\n",
    "            d[i, j] = gama[i, j] * (log(mu1[i, j] / (sum(mu1[i, :]))) - log(mu[i, j] / (sum(mu[i, :]))))\n",
    "    KL1 = sum(sum(d))\n",
    "\n",
    "    return KL, KL1"
   ]
  },
  {
   "cell_type": "code",
   "execution_count": 5,
   "metadata": {
    "collapsed": true
   },
   "outputs": [],
   "source": [
    "def wcKLs_testSet(N, n):\n",
    "    # mu_0: the initial distribution; 1 x (N**2) \n",
    "    # mu: the actual stationary distribution; 1 x (N**2)\n",
    "    # mu_1: the estimated stationary distribution \n",
    "    # P: the new transition matrix (the old transition matrix is Q)\n",
    "    # G_1: the estimate of the gradient\n",
    "    # H_1: the estimate of the Hessian\n",
    "\n",
    "    # P is the ground truth transition matrix\n",
    "    mu_0, mu, mu_1, P, G_1, H_1, Sigma_1, W_1, rho_1, Chi_1 = ChainGen(N)  \n",
    "\n",
    "    # PP is a different transition matrix for testing purposes\n",
    "    mu_0P, muP, mu_1P, PP, G_1P, H_1P, Sigma_1P, W_1P, rho_1P, Chi_1P = ChainGen(N) \n",
    "    \n",
    "    negative_sample = {}\n",
    "    positive_sample = {}\n",
    "\n",
    "    # Get sample paths of the Markov chain with length n; \n",
    "    # these paths will be the test set\n",
    "    for idx in range(int(num_test_sample/2)):\n",
    "        negative_sample[idx] = chain(mu, P, n)\n",
    "    for idx in range(int(num_test_sample/2)):\n",
    "        positive_sample[idx] = chain(muP, PP, n)\n",
    "    \n",
    "    mu = np.reshape(mu, (N, N))\n",
    "    muP = np.reshape(muP, (N, N))\n",
    "    \n",
    "    # for Hoeffding\n",
    "    negative_sample_KL_HT = {}\n",
    "    positive_sample_KL_HT = {}\n",
    "    \n",
    "    # for Mismatched\n",
    "    negative_sample_KL_MM = {}\n",
    "    positive_sample_KL_MM = {}\n",
    "    \n",
    "    # Compute KL divergence values w.r.t. mu for each sample\n",
    "    for idx in range(int(num_test_sample/2)):\n",
    "        negative_sample_KL_HT[idx], negative_sample_KL_MM[idx] = KL_est(negative_sample[idx], mu, muP)\n",
    "        \n",
    "    for idx in range(int(num_test_sample/2)):\n",
    "        positive_sample_KL_HT[idx], positive_sample_KL_MM[idx] = KL_est(positive_sample[idx], mu, muP)\n",
    "        \n",
    "    return negative_sample_KL_HT, positive_sample_KL_HT, negative_sample_KL_MM, positive_sample_KL_MM"
   ]
  },
  {
   "cell_type": "code",
   "execution_count": 6,
   "metadata": {
    "collapsed": false
   },
   "outputs": [],
   "source": [
    "def roc_data(n, beta, negative_sample_KL_HT, positive_sample_KL_HT, \\\n",
    "             negative_sample_KL_MM, positive_sample_KL_MM):\n",
    "    \n",
    "    # Get thresholds for Hoeffding's test corresponding to sample length n    \n",
    "    eta = {}\n",
    "    key = str(n) + \"_\" + str(beta)\n",
    "    eta[key] = beta\n",
    "\n",
    "    negative_sample_HT = {}\n",
    "    negative_sample_MM = {}\n",
    "\n",
    "    positive_sample_HT = {}\n",
    "    positive_sample_MM = {}\n",
    "\n",
    "    for idx in range(int(num_test_sample/2)):\n",
    "        if negative_sample_KL_HT[idx] > eta[key]:\n",
    "            negative_sample_HT[idx] = 1\n",
    "        else:\n",
    "            negative_sample_HT[idx] = -1\n",
    "        if negative_sample_KL_MM[idx] > eta[key]:\n",
    "            negative_sample_MM[idx] = 1\n",
    "        else:\n",
    "            negative_sample_MM[idx] = -1\n",
    "\n",
    "\n",
    "    for idx in range(int(num_test_sample/2)):\n",
    "        if positive_sample_KL_HT[idx] > eta[key]:\n",
    "            positive_sample_HT[idx] = 1\n",
    "        else:\n",
    "            positive_sample_HT[idx] = -1\n",
    "        if positive_sample_KL_MM[idx] > eta[key]:\n",
    "            positive_sample_MM[idx] = 1\n",
    "        else:\n",
    "            positive_sample_MM[idx] = -1\n",
    "            \n",
    "\n",
    "    TP_HT = count_one(positive_sample_HT.values())[0]\n",
    "    FP_HT = count_one(negative_sample_HT.values())[0]\n",
    "    TN_HT = count_one(negative_sample_HT.values())[1]\n",
    "    FN_HT = count_one(positive_sample_HT.values())[1]\n",
    "    TPR_HT = TP_HT / (TP_HT + FN_HT)\n",
    "    FPR_HT = FP_HT / (FP_HT + TN_HT)\n",
    "\n",
    "    TP_MM = count_one(positive_sample_MM.values())[0]\n",
    "    FP_MM = count_one(negative_sample_MM.values())[0]\n",
    "    TN_MM = count_one(negative_sample_MM.values())[1]\n",
    "    FN_MM = count_one(positive_sample_MM.values())[1]\n",
    "    TPR_MM = TP_MM / (TP_MM + FN_MM)\n",
    "    FPR_MM = FP_MM / (FP_MM + TN_MM)\n",
    "    \n",
    "    data_HT = {\"TPR\": TPR_HT, \"FPR\":FPR_HT}\n",
    "    data_MM = {\"TPR\": TPR_MM, \"FPR\":FPR_MM}\n",
    "    \n",
    "    return data_HT, data_MM"
   ]
  },
  {
   "cell_type": "code",
   "execution_count": 7,
   "metadata": {
    "collapsed": true
   },
   "outputs": [],
   "source": [
    "N = 3\n",
    "n = 20\n",
    "num_test_sample = 4000"
   ]
  },
  {
   "cell_type": "code",
   "execution_count": 8,
   "metadata": {
    "collapsed": true
   },
   "outputs": [],
   "source": [
    "beta_list = list(np.arange(-2, 2, 0.0001)[1:-1])"
   ]
  },
  {
   "cell_type": "code",
   "execution_count": 9,
   "metadata": {
    "collapsed": false
   },
   "outputs": [],
   "source": [
    "# beta_list"
   ]
  },
  {
   "cell_type": "code",
   "execution_count": 10,
   "metadata": {
    "collapsed": false
   },
   "outputs": [
    {
     "name": "stderr",
     "output_type": "stream",
     "text": [
      "<string>:332: RuntimeWarning: covariance is not positive-semidefinite.\n"
     ]
    }
   ],
   "source": [
    "negative_sample_KL_HT, positive_sample_KL_HT, negative_sample_KL_MM, positive_sample_KL_MM = \\\n",
    "wcKLs_testSet(N, n)"
   ]
  },
  {
   "cell_type": "code",
   "execution_count": 11,
   "metadata": {
    "collapsed": false
   },
   "outputs": [],
   "source": [
    "# negative_sample_KL_MM"
   ]
  },
  {
   "cell_type": "code",
   "execution_count": 12,
   "metadata": {
    "collapsed": false
   },
   "outputs": [],
   "source": [
    "roc_data_HT = {}\n",
    "roc_data_MM = {}\n",
    "\n",
    "for beta in beta_list:\n",
    "    roc_data_HT[beta], roc_data_MM[beta] = \\\n",
    "    roc_data(n, beta, negative_sample_KL_HT, positive_sample_KL_HT, \\\n",
    "             negative_sample_KL_MM, positive_sample_KL_MM)"
   ]
  },
  {
   "cell_type": "code",
   "execution_count": 13,
   "metadata": {
    "collapsed": false
   },
   "outputs": [
    {
     "data": {
      "image/png": "[encoded data removed]",
      "text/plain": [
       "<matplotlib.figure.Figure at 0x7f1d4164ab10>"
      ]
     },
     "metadata": {},
     "output_type": "display_data"
    }
   ],
   "source": [
    "import matplotlib.pyplot as plt\n",
    "import pylab\n",
    "from pylab import *\n",
    "%matplotlib inline  \n",
    "import itertools \n",
    "\n",
    "\n",
    "plt.figure(figsize=(8, 4))\n",
    "\n",
    "font = {\"family\" : \"normal\",\n",
    "        \"weight\" : \"normal\",\n",
    "        \"size\"   : 14}\n",
    "\n",
    "matplotlib.rc('font', **font)\n",
    "\n",
    "from matplotlib import rc\n",
    "# rc('font',**{'family':'sans-serif','sans-serif':['Helvetica']})\n",
    "# ## for Palatino and other serif fonts use:\n",
    "# #rc('font',**{'family':'serif','serif':['Palatino']})\n",
    "rc('text', usetex=True)\n",
    "\n",
    "roc_HT_re, = plt.plot([roc_data_HT[beta][\"FPR\"] for beta in beta_list], \\\n",
    "                     [roc_data_HT[beta][\"TPR\"] for beta in beta_list], \"b--\", linewidth=2, markersize=5, \\\n",
    "                        markerfacecolor=\"None\", markeredgecolor=\"b\", markeredgewidth=1)\n",
    "\n",
    "roc_MM_re, = plt.plot([roc_data_MM[beta][\"FPR\"] for beta in beta_list], \\\n",
    "                     [roc_data_MM[beta][\"TPR\"] for beta in beta_list], \"r-\", linewidth=2, markersize=5, \\\n",
    "                        markerfacecolor=\"None\", markeredgecolor=\"r\", markeredgewidth=1)\n",
    "\n",
    "legend_list = [\"HT\", \"MM\"]\n",
    "\n",
    "# legend(loc=0, fancybox=\"true\", ncol=2, mode=\"expand\", borderaxespad=0.2) \n",
    "\n",
    "plt.legend([roc_HT_re, roc_MM_re,], legend_list, loc=4, numpoints=1, fancybox=\"false\", frameon=False) \n",
    "plt.title(r\"$N = %s, n = %s$\"%(N, n))\n",
    "# plt.xticks(N_list)\n",
    "\n",
    "pylab.xlim(-0.02, 1.02)\n",
    "pylab.ylim(-0.02, 1.02)\n",
    "\n",
    "plt.xlabel(r\"\\textit{FPR}\")\n",
    "plt.ylabel(r\"\\textit{TPR}\")\n",
    "# plt.grid()\n",
    "\n",
    "savefig(data_dir + \"ROC_graph_N_%s_n_%s.eps\"%(N, n), dpi=300, bbox_inches=\"tight\")\n",
    "\n",
    "plt.show()"
   ]
  },
  {
   "cell_type": "code",
   "execution_count": null,
   "metadata": {
    "collapsed": true
   },
   "outputs": [],
   "source": []
  }
 ],
 "metadata": {
  "anaconda-cloud": {},
  "kernelspec": {
   "display_name": "Python 2",
   "language": "python",
   "name": "python2"
  },
  "language_info": {
   "codemirror_mode": {
    "name": "ipython",
    "version": 2
   },
   "file_extension": ".py",
   "mimetype": "text/x-python",
   "name": "python",
   "nbconvert_exporter": "python",
   "pygments_lexer": "ipython2",
   "version": "2.7.13"
  }
 },
 "nbformat": 4,
 "nbformat_minor": 0
}
